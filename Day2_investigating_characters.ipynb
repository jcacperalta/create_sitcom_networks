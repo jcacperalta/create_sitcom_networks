{
 "cells": [
  {
   "cell_type": "markdown",
   "metadata": {
    "ExecuteTime": {
     "end_time": "2021-03-13T16:32:27.337597Z",
     "start_time": "2021-03-13T16:32:27.333164Z"
    }
   },
   "source": [
    "## Day 2: Whats with this character?"
   ]
  },
  {
   "cell_type": "markdown",
   "metadata": {},
   "source": [
    "Lineshare bar charts, Co-occurrence heat maps, Word clouds"
   ]
  },
  {
   "cell_type": "code",
   "execution_count": 1,
   "metadata": {
    "ExecuteTime": {
     "end_time": "2021-04-28T11:20:52.548810Z",
     "start_time": "2021-04-28T11:20:44.371899Z"
    }
   },
   "outputs": [],
   "source": [
    "import numpy as np\n",
    "import pandas as pd\n",
    "\n",
    "import matplotlib.pyplot as plt\n",
    "%matplotlib inline"
   ]
  },
  {
   "cell_type": "code",
   "execution_count": 2,
   "metadata": {
    "ExecuteTime": {
     "end_time": "2021-04-28T11:20:53.128606Z",
     "start_time": "2021-04-28T11:20:52.551519Z"
    }
   },
   "outputs": [
    {
     "data": {
      "text/html": [
       "<div>\n",
       "<style scoped>\n",
       "    .dataframe tbody tr th:only-of-type {\n",
       "        vertical-align: middle;\n",
       "    }\n",
       "\n",
       "    .dataframe tbody tr th {\n",
       "        vertical-align: top;\n",
       "    }\n",
       "\n",
       "    .dataframe thead th {\n",
       "        text-align: right;\n",
       "    }\n",
       "</style>\n",
       "<table border=\"1\" class=\"dataframe\">\n",
       "  <thead>\n",
       "    <tr style=\"text-align: right;\">\n",
       "      <th></th>\n",
       "      <th>id</th>\n",
       "      <th>season</th>\n",
       "      <th>episode</th>\n",
       "      <th>scene</th>\n",
       "      <th>line_text</th>\n",
       "      <th>speaker</th>\n",
       "      <th>deleted</th>\n",
       "    </tr>\n",
       "  </thead>\n",
       "  <tbody>\n",
       "    <tr>\n",
       "      <th>0</th>\n",
       "      <td>1</td>\n",
       "      <td>1</td>\n",
       "      <td>1</td>\n",
       "      <td>1</td>\n",
       "      <td>All right Jim. Your quarterlies look very good...</td>\n",
       "      <td>Michael</td>\n",
       "      <td>False</td>\n",
       "    </tr>\n",
       "    <tr>\n",
       "      <th>1</th>\n",
       "      <td>2</td>\n",
       "      <td>1</td>\n",
       "      <td>1</td>\n",
       "      <td>1</td>\n",
       "      <td>Oh, I told you. I couldn't close it. So...</td>\n",
       "      <td>Jim</td>\n",
       "      <td>False</td>\n",
       "    </tr>\n",
       "    <tr>\n",
       "      <th>2</th>\n",
       "      <td>3</td>\n",
       "      <td>1</td>\n",
       "      <td>1</td>\n",
       "      <td>1</td>\n",
       "      <td>So you've come to the master for guidance? Is ...</td>\n",
       "      <td>Michael</td>\n",
       "      <td>False</td>\n",
       "    </tr>\n",
       "    <tr>\n",
       "      <th>3</th>\n",
       "      <td>4</td>\n",
       "      <td>1</td>\n",
       "      <td>1</td>\n",
       "      <td>1</td>\n",
       "      <td>Actually, you called me in here, but yeah.</td>\n",
       "      <td>Jim</td>\n",
       "      <td>False</td>\n",
       "    </tr>\n",
       "    <tr>\n",
       "      <th>4</th>\n",
       "      <td>5</td>\n",
       "      <td>1</td>\n",
       "      <td>1</td>\n",
       "      <td>1</td>\n",
       "      <td>All right. Well, let me show you how it's done.</td>\n",
       "      <td>Michael</td>\n",
       "      <td>False</td>\n",
       "    </tr>\n",
       "    <tr>\n",
       "      <th>5</th>\n",
       "      <td>6</td>\n",
       "      <td>1</td>\n",
       "      <td>1</td>\n",
       "      <td>2</td>\n",
       "      <td>[on the phone] Yes, I'd like to speak to your ...</td>\n",
       "      <td>Michael</td>\n",
       "      <td>False</td>\n",
       "    </tr>\n",
       "    <tr>\n",
       "      <th>6</th>\n",
       "      <td>7</td>\n",
       "      <td>1</td>\n",
       "      <td>1</td>\n",
       "      <td>3</td>\n",
       "      <td>I've, uh, I've been at Dunder Mifflin for 12 y...</td>\n",
       "      <td>Michael</td>\n",
       "      <td>False</td>\n",
       "    </tr>\n",
       "    <tr>\n",
       "      <th>7</th>\n",
       "      <td>8</td>\n",
       "      <td>1</td>\n",
       "      <td>1</td>\n",
       "      <td>3</td>\n",
       "      <td>Well. I don't know.</td>\n",
       "      <td>Pam</td>\n",
       "      <td>False</td>\n",
       "    </tr>\n",
       "    <tr>\n",
       "      <th>8</th>\n",
       "      <td>9</td>\n",
       "      <td>1</td>\n",
       "      <td>1</td>\n",
       "      <td>3</td>\n",
       "      <td>If you think she's cute now, you should have s...</td>\n",
       "      <td>Michael</td>\n",
       "      <td>False</td>\n",
       "    </tr>\n",
       "    <tr>\n",
       "      <th>9</th>\n",
       "      <td>10</td>\n",
       "      <td>1</td>\n",
       "      <td>1</td>\n",
       "      <td>3</td>\n",
       "      <td>What?</td>\n",
       "      <td>Pam</td>\n",
       "      <td>False</td>\n",
       "    </tr>\n",
       "  </tbody>\n",
       "</table>\n",
       "</div>"
      ],
      "text/plain": [
       "   id  season  episode  scene  \\\n",
       "0   1       1        1      1   \n",
       "1   2       1        1      1   \n",
       "2   3       1        1      1   \n",
       "3   4       1        1      1   \n",
       "4   5       1        1      1   \n",
       "5   6       1        1      2   \n",
       "6   7       1        1      3   \n",
       "7   8       1        1      3   \n",
       "8   9       1        1      3   \n",
       "9  10       1        1      3   \n",
       "\n",
       "                                           line_text  speaker  deleted  \n",
       "0  All right Jim. Your quarterlies look very good...  Michael    False  \n",
       "1         Oh, I told you. I couldn't close it. So...      Jim    False  \n",
       "2  So you've come to the master for guidance? Is ...  Michael    False  \n",
       "3         Actually, you called me in here, but yeah.      Jim    False  \n",
       "4    All right. Well, let me show you how it's done.  Michael    False  \n",
       "5  [on the phone] Yes, I'd like to speak to your ...  Michael    False  \n",
       "6  I've, uh, I've been at Dunder Mifflin for 12 y...  Michael    False  \n",
       "7                                Well. I don't know.      Pam    False  \n",
       "8  If you think she's cute now, you should have s...  Michael    False  \n",
       "9                                              What?      Pam    False  "
      ]
     },
     "execution_count": 2,
     "metadata": {},
     "output_type": "execute_result"
    }
   ],
   "source": [
    "df = pd.read_csv(\"data/the_office_lines.csv\",encoding='utf8')\n",
    "df.head(10)"
   ]
  },
  {
   "cell_type": "markdown",
   "metadata": {},
   "source": [
    ">Q: Do you still remember the cleaning steps we made?"
   ]
  },
  {
   "cell_type": "code",
   "execution_count": 3,
   "metadata": {
    "ExecuteTime": {
     "end_time": "2021-04-28T11:21:16.106269Z",
     "start_time": "2021-04-28T11:21:15.548029Z"
    }
   },
   "outputs": [],
   "source": [
    "# cleaning step 1\n",
    "# remove deleted scenes\n",
    "df = df[df['deleted']==False]"
   ]
  },
  {
   "cell_type": "code",
   "execution_count": 4,
   "metadata": {
    "ExecuteTime": {
     "end_time": "2021-04-28T11:22:35.008478Z",
     "start_time": "2021-04-28T11:22:34.922348Z"
    }
   },
   "outputs": [
    {
     "data": {
      "text/plain": [
       "54018"
      ]
     },
     "execution_count": 4,
     "metadata": {},
     "output_type": "execute_result"
    }
   ],
   "source": [
    "# cleaning step 2\n",
    "major_characters = df['speaker'].value_counts()[:50].index\n",
    "major_characters = [character for character in major_characters if character not in ['All','Everyone','#ALL#']]\n",
    "df = df[df['speaker'].isin(major_characters)]\n",
    "len(df)"
   ]
  },
  {
   "cell_type": "markdown",
   "metadata": {},
   "source": [
    "### Visualization 1: Lineshare Bar Plots\n",
    "\n",
    "\n",
    "A character's **lineshare** is defined as the number of lines s/he spoke divided by the number of lines spoken by all characters.\n",
    "\n",
    "*Assumption 1*: The more lines a character has, the more important s/he is to the story.\n",
    "\n",
    "#### 1.1. Lineshare for the whole series"
   ]
  },
  {
   "cell_type": "code",
   "execution_count": 5,
   "metadata": {
    "ExecuteTime": {
     "end_time": "2021-04-28T11:24:13.026293Z",
     "start_time": "2021-04-28T11:24:13.019339Z"
    }
   },
   "outputs": [
    {
     "data": {
      "text/plain": [
       "54018"
      ]
     },
     "execution_count": 5,
     "metadata": {},
     "output_type": "execute_result"
    }
   ],
   "source": [
    "#total number of lines for the whole series\n",
    "total_lines = len(df)\n",
    "total_lines"
   ]
  },
  {
   "cell_type": "code",
   "execution_count": 6,
   "metadata": {
    "ExecuteTime": {
     "end_time": "2021-04-28T11:24:54.634547Z",
     "start_time": "2021-04-28T11:24:54.539762Z"
    }
   },
   "outputs": [
    {
     "data": {
      "text/html": [
       "<div>\n",
       "<style scoped>\n",
       "    .dataframe tbody tr th:only-of-type {\n",
       "        vertical-align: middle;\n",
       "    }\n",
       "\n",
       "    .dataframe tbody tr th {\n",
       "        vertical-align: top;\n",
       "    }\n",
       "\n",
       "    .dataframe thead th {\n",
       "        text-align: right;\n",
       "    }\n",
       "</style>\n",
       "<table border=\"1\" class=\"dataframe\">\n",
       "  <thead>\n",
       "    <tr style=\"text-align: right;\">\n",
       "      <th></th>\n",
       "      <th>speaker</th>\n",
       "      <th>num_lines</th>\n",
       "    </tr>\n",
       "  </thead>\n",
       "  <tbody>\n",
       "    <tr>\n",
       "      <th>0</th>\n",
       "      <td>Andy</td>\n",
       "      <td>3968</td>\n",
       "    </tr>\n",
       "    <tr>\n",
       "      <th>1</th>\n",
       "      <td>Angela</td>\n",
       "      <td>1658</td>\n",
       "    </tr>\n",
       "    <tr>\n",
       "      <th>2</th>\n",
       "      <td>Brian</td>\n",
       "      <td>53</td>\n",
       "    </tr>\n",
       "    <tr>\n",
       "      <th>3</th>\n",
       "      <td>Carol</td>\n",
       "      <td>87</td>\n",
       "    </tr>\n",
       "    <tr>\n",
       "      <th>4</th>\n",
       "      <td>Cathy</td>\n",
       "      <td>50</td>\n",
       "    </tr>\n",
       "  </tbody>\n",
       "</table>\n",
       "</div>"
      ],
      "text/plain": [
       "  speaker  num_lines\n",
       "0    Andy       3968\n",
       "1  Angela       1658\n",
       "2   Brian         53\n",
       "3   Carol         87\n",
       "4   Cathy         50"
      ]
     },
     "execution_count": 6,
     "metadata": {},
     "output_type": "execute_result"
    }
   ],
   "source": [
    "#get number of lines per character\n",
    "ls_df = df.groupby(['speaker'])[['line_text']].count().reset_index()\n",
    "ls_df = ls_df.rename(columns={'line_text': 'num_lines'})\n",
    "ls_df.head()"
   ]
  },
  {
   "cell_type": "code",
   "execution_count": 7,
   "metadata": {
    "ExecuteTime": {
     "end_time": "2021-04-28T11:25:31.805803Z",
     "start_time": "2021-04-28T11:25:31.767550Z"
    },
    "scrolled": true
   },
   "outputs": [
    {
     "data": {
      "text/html": [
       "<div>\n",
       "<style scoped>\n",
       "    .dataframe tbody tr th:only-of-type {\n",
       "        vertical-align: middle;\n",
       "    }\n",
       "\n",
       "    .dataframe tbody tr th {\n",
       "        vertical-align: top;\n",
       "    }\n",
       "\n",
       "    .dataframe thead th {\n",
       "        text-align: right;\n",
       "    }\n",
       "</style>\n",
       "<table border=\"1\" class=\"dataframe\">\n",
       "  <thead>\n",
       "    <tr style=\"text-align: right;\">\n",
       "      <th></th>\n",
       "      <th>speaker</th>\n",
       "      <th>num_lines</th>\n",
       "      <th>lineshare</th>\n",
       "    </tr>\n",
       "  </thead>\n",
       "  <tbody>\n",
       "    <tr>\n",
       "      <th>32</th>\n",
       "      <td>Michael</td>\n",
       "      <td>11574</td>\n",
       "      <td>0.214262</td>\n",
       "    </tr>\n",
       "    <tr>\n",
       "      <th>15</th>\n",
       "      <td>Dwight</td>\n",
       "      <td>7167</td>\n",
       "      <td>0.132678</td>\n",
       "    </tr>\n",
       "    <tr>\n",
       "      <th>23</th>\n",
       "      <td>Jim</td>\n",
       "      <td>6609</td>\n",
       "      <td>0.122348</td>\n",
       "    </tr>\n",
       "    <tr>\n",
       "      <th>37</th>\n",
       "      <td>Pam</td>\n",
       "      <td>5205</td>\n",
       "      <td>0.096357</td>\n",
       "    </tr>\n",
       "    <tr>\n",
       "      <th>0</th>\n",
       "      <td>Andy</td>\n",
       "      <td>3968</td>\n",
       "      <td>0.073457</td>\n",
       "    </tr>\n",
       "  </tbody>\n",
       "</table>\n",
       "</div>"
      ],
      "text/plain": [
       "    speaker  num_lines  lineshare\n",
       "32  Michael      11574   0.214262\n",
       "15   Dwight       7167   0.132678\n",
       "23      Jim       6609   0.122348\n",
       "37      Pam       5205   0.096357\n",
       "0      Andy       3968   0.073457"
      ]
     },
     "execution_count": 7,
     "metadata": {},
     "output_type": "execute_result"
    }
   ],
   "source": [
    "ls_df['lineshare'] = ls_df['num_lines']/total_lines\n",
    "ls_df = ls_df.sort_values(\"lineshare\", ascending=False)\n",
    "ls_df.head()"
   ]
  },
  {
   "cell_type": "code",
   "execution_count": 8,
   "metadata": {
    "ExecuteTime": {
     "end_time": "2021-04-28T11:27:17.758197Z",
     "start_time": "2021-04-28T11:27:17.328639Z"
    }
   },
   "outputs": [
    {
     "data": {
      "text/plain": [
       "Text(0.5, 1.0, 'The Office Characters Lineshare')"
      ]
     },
     "execution_count": 8,
     "metadata": {},
     "output_type": "execute_result"
    },
    {
     "data": {
      "image/png": "[encoded data removed]",
      "text/plain": [
       "<Figure size 360x288 with 1 Axes>"
      ]
     },
     "metadata": {
      "needs_background": "light"
     },
     "output_type": "display_data"
    }
   ],
   "source": [
    "#Plot lineshare\n",
    "# plot only top 10 characters\n",
    "fig = plt.figure(figsize=(5,4))\n",
    "\n",
    "data = ls_df.head(10)\n",
    "plt.bar(data['speaker'],data['lineshare'])\n",
    "\n",
    "plt.xticks(rotation=90)\n",
    "plt.title(\"The Office Characters Lineshare\")"
   ]
  },
  {
   "cell_type": "markdown",
   "metadata": {},
   "source": [
    "#### 1.2. Lineshare per season"
   ]
  },
  {
   "cell_type": "code",
   "execution_count": 9,
   "metadata": {
    "ExecuteTime": {
     "end_time": "2021-04-28T11:28:43.586558Z",
     "start_time": "2021-04-28T11:28:43.507406Z"
    }
   },
   "outputs": [
    {
     "data": {
      "text/html": [
       "<div>\n",
       "<style scoped>\n",
       "    .dataframe tbody tr th:only-of-type {\n",
       "        vertical-align: middle;\n",
       "    }\n",
       "\n",
       "    .dataframe tbody tr th {\n",
       "        vertical-align: top;\n",
       "    }\n",
       "\n",
       "    .dataframe thead th {\n",
       "        text-align: right;\n",
       "    }\n",
       "</style>\n",
       "<table border=\"1\" class=\"dataframe\">\n",
       "  <thead>\n",
       "    <tr style=\"text-align: right;\">\n",
       "      <th></th>\n",
       "      <th>season</th>\n",
       "      <th>speaker</th>\n",
       "      <th>num_lines</th>\n",
       "    </tr>\n",
       "  </thead>\n",
       "  <tbody>\n",
       "    <tr>\n",
       "      <th>10</th>\n",
       "      <td>1</td>\n",
       "      <td>Michael</td>\n",
       "      <td>509</td>\n",
       "    </tr>\n",
       "    <tr>\n",
       "      <th>4</th>\n",
       "      <td>1</td>\n",
       "      <td>Jim</td>\n",
       "      <td>231</td>\n",
       "    </tr>\n",
       "    <tr>\n",
       "      <th>2</th>\n",
       "      <td>1</td>\n",
       "      <td>Dwight</td>\n",
       "      <td>222</td>\n",
       "    </tr>\n",
       "    <tr>\n",
       "      <th>12</th>\n",
       "      <td>1</td>\n",
       "      <td>Pam</td>\n",
       "      <td>170</td>\n",
       "    </tr>\n",
       "    <tr>\n",
       "      <th>5</th>\n",
       "      <td>1</td>\n",
       "      <td>Katy</td>\n",
       "      <td>59</td>\n",
       "    </tr>\n",
       "    <tr>\n",
       "      <th>...</th>\n",
       "      <td>...</td>\n",
       "      <td>...</td>\n",
       "      <td>...</td>\n",
       "    </tr>\n",
       "    <tr>\n",
       "      <th>229</th>\n",
       "      <td>9</td>\n",
       "      <td>Nate</td>\n",
       "      <td>6</td>\n",
       "    </tr>\n",
       "    <tr>\n",
       "      <th>220</th>\n",
       "      <td>9</td>\n",
       "      <td>Hank</td>\n",
       "      <td>4</td>\n",
       "    </tr>\n",
       "    <tr>\n",
       "      <th>221</th>\n",
       "      <td>9</td>\n",
       "      <td>Helene</td>\n",
       "      <td>2</td>\n",
       "    </tr>\n",
       "    <tr>\n",
       "      <th>228</th>\n",
       "      <td>9</td>\n",
       "      <td>Michael</td>\n",
       "      <td>2</td>\n",
       "    </tr>\n",
       "    <tr>\n",
       "      <th>211</th>\n",
       "      <td>9</td>\n",
       "      <td>Carol</td>\n",
       "      <td>1</td>\n",
       "    </tr>\n",
       "  </tbody>\n",
       "</table>\n",
       "<p>242 rows × 3 columns</p>\n",
       "</div>"
      ],
      "text/plain": [
       "     season  speaker  num_lines\n",
       "10        1  Michael        509\n",
       "4         1      Jim        231\n",
       "2         1   Dwight        222\n",
       "12        1      Pam        170\n",
       "5         1     Katy         59\n",
       "..      ...      ...        ...\n",
       "229       9     Nate          6\n",
       "220       9     Hank          4\n",
       "221       9   Helene          2\n",
       "228       9  Michael          2\n",
       "211       9    Carol          1\n",
       "\n",
       "[242 rows x 3 columns]"
      ]
     },
     "execution_count": 9,
     "metadata": {},
     "output_type": "execute_result"
    }
   ],
   "source": [
    "season_ls_df = df.groupby(['season','speaker'])['line_text'].count().reset_index()\n",
    "season_ls_df = season_ls_df.sort_values(['season','line_text'],ascending=[True,False])\n",
    "season_ls_df = season_ls_df.rename(columns={'line_text': 'num_lines'})\n",
    "season_ls_df"
   ]
  },
  {
   "cell_type": "code",
   "execution_count": 10,
   "metadata": {
    "ExecuteTime": {
     "end_time": "2021-04-28T11:29:39.360883Z",
     "start_time": "2021-04-28T11:29:39.301359Z"
    },
    "scrolled": true
   },
   "outputs": [
    {
     "data": {
      "text/html": [
       "<div>\n",
       "<style scoped>\n",
       "    .dataframe tbody tr th:only-of-type {\n",
       "        vertical-align: middle;\n",
       "    }\n",
       "\n",
       "    .dataframe tbody tr th {\n",
       "        vertical-align: top;\n",
       "    }\n",
       "\n",
       "    .dataframe thead th {\n",
       "        text-align: right;\n",
       "    }\n",
       "</style>\n",
       "<table border=\"1\" class=\"dataframe\">\n",
       "  <thead>\n",
       "    <tr style=\"text-align: right;\">\n",
       "      <th></th>\n",
       "      <th></th>\n",
       "      <th>num_lines</th>\n",
       "    </tr>\n",
       "    <tr>\n",
       "      <th>season</th>\n",
       "      <th>speaker</th>\n",
       "      <th></th>\n",
       "    </tr>\n",
       "  </thead>\n",
       "  <tbody>\n",
       "    <tr>\n",
       "      <th rowspan=\"5\" valign=\"top\">1</th>\n",
       "      <th>Michael</th>\n",
       "      <td>509</td>\n",
       "    </tr>\n",
       "    <tr>\n",
       "      <th>Jim</th>\n",
       "      <td>231</td>\n",
       "    </tr>\n",
       "    <tr>\n",
       "      <th>Dwight</th>\n",
       "      <td>222</td>\n",
       "    </tr>\n",
       "    <tr>\n",
       "      <th>Pam</th>\n",
       "      <td>170</td>\n",
       "    </tr>\n",
       "    <tr>\n",
       "      <th>Katy</th>\n",
       "      <td>59</td>\n",
       "    </tr>\n",
       "    <tr>\n",
       "      <th rowspan=\"5\" valign=\"top\">2</th>\n",
       "      <th>Michael</th>\n",
       "      <td>1894</td>\n",
       "    </tr>\n",
       "    <tr>\n",
       "      <th>Dwight</th>\n",
       "      <td>856</td>\n",
       "    </tr>\n",
       "    <tr>\n",
       "      <th>Jim</th>\n",
       "      <td>764</td>\n",
       "    </tr>\n",
       "    <tr>\n",
       "      <th>Pam</th>\n",
       "      <td>625</td>\n",
       "    </tr>\n",
       "    <tr>\n",
       "      <th>Jan</th>\n",
       "      <td>234</td>\n",
       "    </tr>\n",
       "    <tr>\n",
       "      <th rowspan=\"5\" valign=\"top\">3</th>\n",
       "      <th>Michael</th>\n",
       "      <td>1989</td>\n",
       "    </tr>\n",
       "    <tr>\n",
       "      <th>Dwight</th>\n",
       "      <td>939</td>\n",
       "    </tr>\n",
       "    <tr>\n",
       "      <th>Jim</th>\n",
       "      <td>773</td>\n",
       "    </tr>\n",
       "    <tr>\n",
       "      <th>Pam</th>\n",
       "      <td>648</td>\n",
       "    </tr>\n",
       "    <tr>\n",
       "      <th>Andy</th>\n",
       "      <td>391</td>\n",
       "    </tr>\n",
       "    <tr>\n",
       "      <th rowspan=\"5\" valign=\"top\">4</th>\n",
       "      <th>Michael</th>\n",
       "      <td>1633</td>\n",
       "    </tr>\n",
       "    <tr>\n",
       "      <th>Jim</th>\n",
       "      <td>684</td>\n",
       "    </tr>\n",
       "    <tr>\n",
       "      <th>Dwight</th>\n",
       "      <td>547</td>\n",
       "    </tr>\n",
       "    <tr>\n",
       "      <th>Pam</th>\n",
       "      <td>528</td>\n",
       "    </tr>\n",
       "    <tr>\n",
       "      <th>Ryan</th>\n",
       "      <td>228</td>\n",
       "    </tr>\n",
       "    <tr>\n",
       "      <th rowspan=\"5\" valign=\"top\">5</th>\n",
       "      <th>Michael</th>\n",
       "      <td>2163</td>\n",
       "    </tr>\n",
       "    <tr>\n",
       "      <th>Dwight</th>\n",
       "      <td>1074</td>\n",
       "    </tr>\n",
       "    <tr>\n",
       "      <th>Jim</th>\n",
       "      <td>875</td>\n",
       "    </tr>\n",
       "    <tr>\n",
       "      <th>Pam</th>\n",
       "      <td>706</td>\n",
       "    </tr>\n",
       "    <tr>\n",
       "      <th>Andy</th>\n",
       "      <td>497</td>\n",
       "    </tr>\n",
       "    <tr>\n",
       "      <th rowspan=\"5\" valign=\"top\">6</th>\n",
       "      <th>Michael</th>\n",
       "      <td>1983</td>\n",
       "    </tr>\n",
       "    <tr>\n",
       "      <th>Jim</th>\n",
       "      <td>928</td>\n",
       "    </tr>\n",
       "    <tr>\n",
       "      <th>Dwight</th>\n",
       "      <td>811</td>\n",
       "    </tr>\n",
       "    <tr>\n",
       "      <th>Pam</th>\n",
       "      <td>706</td>\n",
       "    </tr>\n",
       "    <tr>\n",
       "      <th>Andy</th>\n",
       "      <td>538</td>\n",
       "    </tr>\n",
       "    <tr>\n",
       "      <th rowspan=\"5\" valign=\"top\">7</th>\n",
       "      <th>Michael</th>\n",
       "      <td>1401</td>\n",
       "    </tr>\n",
       "    <tr>\n",
       "      <th>Dwight</th>\n",
       "      <td>703</td>\n",
       "    </tr>\n",
       "    <tr>\n",
       "      <th>Jim</th>\n",
       "      <td>687</td>\n",
       "    </tr>\n",
       "    <tr>\n",
       "      <th>Pam</th>\n",
       "      <td>612</td>\n",
       "    </tr>\n",
       "    <tr>\n",
       "      <th>Andy</th>\n",
       "      <td>557</td>\n",
       "    </tr>\n",
       "    <tr>\n",
       "      <th rowspan=\"5\" valign=\"top\">8</th>\n",
       "      <th>Andy</th>\n",
       "      <td>1125</td>\n",
       "    </tr>\n",
       "    <tr>\n",
       "      <th>Dwight</th>\n",
       "      <td>946</td>\n",
       "    </tr>\n",
       "    <tr>\n",
       "      <th>Jim</th>\n",
       "      <td>869</td>\n",
       "    </tr>\n",
       "    <tr>\n",
       "      <th>Pam</th>\n",
       "      <td>475</td>\n",
       "    </tr>\n",
       "    <tr>\n",
       "      <th>Erin</th>\n",
       "      <td>427</td>\n",
       "    </tr>\n",
       "    <tr>\n",
       "      <th rowspan=\"5\" valign=\"top\">9</th>\n",
       "      <th>Dwight</th>\n",
       "      <td>1069</td>\n",
       "    </tr>\n",
       "    <tr>\n",
       "      <th>Jim</th>\n",
       "      <td>798</td>\n",
       "    </tr>\n",
       "    <tr>\n",
       "      <th>Pam</th>\n",
       "      <td>735</td>\n",
       "    </tr>\n",
       "    <tr>\n",
       "      <th>Andy</th>\n",
       "      <td>637</td>\n",
       "    </tr>\n",
       "    <tr>\n",
       "      <th>Angela</th>\n",
       "      <td>381</td>\n",
       "    </tr>\n",
       "  </tbody>\n",
       "</table>\n",
       "</div>"
      ],
      "text/plain": [
       "                num_lines\n",
       "season speaker           \n",
       "1      Michael        509\n",
       "       Jim            231\n",
       "       Dwight         222\n",
       "       Pam            170\n",
       "       Katy            59\n",
       "2      Michael       1894\n",
       "       Dwight         856\n",
       "       Jim            764\n",
       "       Pam            625\n",
       "       Jan            234\n",
       "3      Michael       1989\n",
       "       Dwight         939\n",
       "       Jim            773\n",
       "       Pam            648\n",
       "       Andy           391\n",
       "4      Michael       1633\n",
       "       Jim            684\n",
       "       Dwight         547\n",
       "       Pam            528\n",
       "       Ryan           228\n",
       "5      Michael       2163\n",
       "       Dwight        1074\n",
       "       Jim            875\n",
       "       Pam            706\n",
       "       Andy           497\n",
       "6      Michael       1983\n",
       "       Jim            928\n",
       "       Dwight         811\n",
       "       Pam            706\n",
       "       Andy           538\n",
       "7      Michael       1401\n",
       "       Dwight         703\n",
       "       Jim            687\n",
       "       Pam            612\n",
       "       Andy           557\n",
       "8      Andy          1125\n",
       "       Dwight         946\n",
       "       Jim            869\n",
       "       Pam            475\n",
       "       Erin           427\n",
       "9      Dwight        1069\n",
       "       Jim            798\n",
       "       Pam            735\n",
       "       Andy           637\n",
       "       Angela         381"
      ]
     },
     "execution_count": 10,
     "metadata": {},
     "output_type": "execute_result"
    }
   ],
   "source": [
    "#retain top 5 speakers per season\n",
    "season_ls_df = season_ls_df.groupby('season').head(5)\n",
    "season_ls_df = season_ls_df.set_index(['season','speaker'])\n",
    "season_ls_df"
   ]
  },
  {
   "cell_type": "code",
   "execution_count": 11,
   "metadata": {
    "ExecuteTime": {
     "end_time": "2021-04-28T11:30:23.325089Z",
     "start_time": "2021-04-28T11:30:23.291714Z"
    }
   },
   "outputs": [
    {
     "data": {
      "text/html": [
       "<div>\n",
       "<style scoped>\n",
       "    .dataframe tbody tr th:only-of-type {\n",
       "        vertical-align: middle;\n",
       "    }\n",
       "\n",
       "    .dataframe tbody tr th {\n",
       "        vertical-align: top;\n",
       "    }\n",
       "\n",
       "    .dataframe thead th {\n",
       "        text-align: right;\n",
       "    }\n",
       "</style>\n",
       "<table border=\"1\" class=\"dataframe\">\n",
       "  <thead>\n",
       "    <tr style=\"text-align: right;\">\n",
       "      <th></th>\n",
       "      <th>num_lines</th>\n",
       "    </tr>\n",
       "    <tr>\n",
       "      <th>season</th>\n",
       "      <th></th>\n",
       "    </tr>\n",
       "  </thead>\n",
       "  <tbody>\n",
       "    <tr>\n",
       "      <th>1</th>\n",
       "      <td>1471</td>\n",
       "    </tr>\n",
       "    <tr>\n",
       "      <th>2</th>\n",
       "      <td>5649</td>\n",
       "    </tr>\n",
       "    <tr>\n",
       "      <th>3</th>\n",
       "      <td>7040</td>\n",
       "    </tr>\n",
       "    <tr>\n",
       "      <th>4</th>\n",
       "      <td>5230</td>\n",
       "    </tr>\n",
       "    <tr>\n",
       "      <th>5</th>\n",
       "      <td>7735</td>\n",
       "    </tr>\n",
       "    <tr>\n",
       "      <th>6</th>\n",
       "      <td>7052</td>\n",
       "    </tr>\n",
       "    <tr>\n",
       "      <th>7</th>\n",
       "      <td>6849</td>\n",
       "    </tr>\n",
       "    <tr>\n",
       "      <th>8</th>\n",
       "      <td>6610</td>\n",
       "    </tr>\n",
       "    <tr>\n",
       "      <th>9</th>\n",
       "      <td>6382</td>\n",
       "    </tr>\n",
       "  </tbody>\n",
       "</table>\n",
       "</div>"
      ],
      "text/plain": [
       "        num_lines\n",
       "season           \n",
       "1            1471\n",
       "2            5649\n",
       "3            7040\n",
       "4            5230\n",
       "5            7735\n",
       "6            7052\n",
       "7            6849\n",
       "8            6610\n",
       "9            6382"
      ]
     },
     "execution_count": 11,
     "metadata": {},
     "output_type": "execute_result"
    }
   ],
   "source": [
    "#get total lines\n",
    "season_total_lines_df = df.groupby(['season'])[['line_text']].count()\n",
    "season_total_lines_df  = season_total_lines_df.rename(columns={'line_text': 'num_lines'})\n",
    "season_total_lines_df"
   ]
  },
  {
   "cell_type": "code",
   "execution_count": 12,
   "metadata": {
    "ExecuteTime": {
     "end_time": "2021-04-28T11:31:35.216129Z",
     "start_time": "2021-04-28T11:31:35.180387Z"
    },
    "scrolled": true
   },
   "outputs": [
    {
     "data": {
      "text/html": [
       "<div>\n",
       "<style scoped>\n",
       "    .dataframe tbody tr th:only-of-type {\n",
       "        vertical-align: middle;\n",
       "    }\n",
       "\n",
       "    .dataframe tbody tr th {\n",
       "        vertical-align: top;\n",
       "    }\n",
       "\n",
       "    .dataframe thead th {\n",
       "        text-align: right;\n",
       "    }\n",
       "</style>\n",
       "<table border=\"1\" class=\"dataframe\">\n",
       "  <thead>\n",
       "    <tr style=\"text-align: right;\">\n",
       "      <th></th>\n",
       "      <th>season</th>\n",
       "      <th>speaker</th>\n",
       "      <th>num_lines</th>\n",
       "      <th>lineshare</th>\n",
       "    </tr>\n",
       "  </thead>\n",
       "  <tbody>\n",
       "    <tr>\n",
       "      <th>0</th>\n",
       "      <td>1</td>\n",
       "      <td>Michael</td>\n",
       "      <td>509</td>\n",
       "      <td>0.346023</td>\n",
       "    </tr>\n",
       "    <tr>\n",
       "      <th>1</th>\n",
       "      <td>1</td>\n",
       "      <td>Jim</td>\n",
       "      <td>231</td>\n",
       "      <td>0.157036</td>\n",
       "    </tr>\n",
       "    <tr>\n",
       "      <th>2</th>\n",
       "      <td>1</td>\n",
       "      <td>Dwight</td>\n",
       "      <td>222</td>\n",
       "      <td>0.150918</td>\n",
       "    </tr>\n",
       "    <tr>\n",
       "      <th>3</th>\n",
       "      <td>1</td>\n",
       "      <td>Pam</td>\n",
       "      <td>170</td>\n",
       "      <td>0.115568</td>\n",
       "    </tr>\n",
       "    <tr>\n",
       "      <th>4</th>\n",
       "      <td>1</td>\n",
       "      <td>Katy</td>\n",
       "      <td>59</td>\n",
       "      <td>0.040109</td>\n",
       "    </tr>\n",
       "    <tr>\n",
       "      <th>5</th>\n",
       "      <td>2</td>\n",
       "      <td>Michael</td>\n",
       "      <td>1894</td>\n",
       "      <td>0.335281</td>\n",
       "    </tr>\n",
       "    <tr>\n",
       "      <th>6</th>\n",
       "      <td>2</td>\n",
       "      <td>Dwight</td>\n",
       "      <td>856</td>\n",
       "      <td>0.151531</td>\n",
       "    </tr>\n",
       "    <tr>\n",
       "      <th>7</th>\n",
       "      <td>2</td>\n",
       "      <td>Jim</td>\n",
       "      <td>764</td>\n",
       "      <td>0.135245</td>\n",
       "    </tr>\n",
       "    <tr>\n",
       "      <th>8</th>\n",
       "      <td>2</td>\n",
       "      <td>Pam</td>\n",
       "      <td>625</td>\n",
       "      <td>0.110639</td>\n",
       "    </tr>\n",
       "    <tr>\n",
       "      <th>9</th>\n",
       "      <td>2</td>\n",
       "      <td>Jan</td>\n",
       "      <td>234</td>\n",
       "      <td>0.041423</td>\n",
       "    </tr>\n",
       "    <tr>\n",
       "      <th>10</th>\n",
       "      <td>3</td>\n",
       "      <td>Michael</td>\n",
       "      <td>1989</td>\n",
       "      <td>0.282528</td>\n",
       "    </tr>\n",
       "    <tr>\n",
       "      <th>11</th>\n",
       "      <td>3</td>\n",
       "      <td>Dwight</td>\n",
       "      <td>939</td>\n",
       "      <td>0.133381</td>\n",
       "    </tr>\n",
       "    <tr>\n",
       "      <th>12</th>\n",
       "      <td>3</td>\n",
       "      <td>Jim</td>\n",
       "      <td>773</td>\n",
       "      <td>0.109801</td>\n",
       "    </tr>\n",
       "    <tr>\n",
       "      <th>13</th>\n",
       "      <td>3</td>\n",
       "      <td>Pam</td>\n",
       "      <td>648</td>\n",
       "      <td>0.092045</td>\n",
       "    </tr>\n",
       "    <tr>\n",
       "      <th>14</th>\n",
       "      <td>3</td>\n",
       "      <td>Andy</td>\n",
       "      <td>391</td>\n",
       "      <td>0.055540</td>\n",
       "    </tr>\n",
       "    <tr>\n",
       "      <th>15</th>\n",
       "      <td>4</td>\n",
       "      <td>Michael</td>\n",
       "      <td>1633</td>\n",
       "      <td>0.312237</td>\n",
       "    </tr>\n",
       "    <tr>\n",
       "      <th>16</th>\n",
       "      <td>4</td>\n",
       "      <td>Jim</td>\n",
       "      <td>684</td>\n",
       "      <td>0.130784</td>\n",
       "    </tr>\n",
       "    <tr>\n",
       "      <th>17</th>\n",
       "      <td>4</td>\n",
       "      <td>Dwight</td>\n",
       "      <td>547</td>\n",
       "      <td>0.104589</td>\n",
       "    </tr>\n",
       "    <tr>\n",
       "      <th>18</th>\n",
       "      <td>4</td>\n",
       "      <td>Pam</td>\n",
       "      <td>528</td>\n",
       "      <td>0.100956</td>\n",
       "    </tr>\n",
       "    <tr>\n",
       "      <th>19</th>\n",
       "      <td>4</td>\n",
       "      <td>Ryan</td>\n",
       "      <td>228</td>\n",
       "      <td>0.043595</td>\n",
       "    </tr>\n",
       "    <tr>\n",
       "      <th>20</th>\n",
       "      <td>5</td>\n",
       "      <td>Michael</td>\n",
       "      <td>2163</td>\n",
       "      <td>0.279638</td>\n",
       "    </tr>\n",
       "    <tr>\n",
       "      <th>21</th>\n",
       "      <td>5</td>\n",
       "      <td>Dwight</td>\n",
       "      <td>1074</td>\n",
       "      <td>0.138849</td>\n",
       "    </tr>\n",
       "    <tr>\n",
       "      <th>22</th>\n",
       "      <td>5</td>\n",
       "      <td>Jim</td>\n",
       "      <td>875</td>\n",
       "      <td>0.113122</td>\n",
       "    </tr>\n",
       "    <tr>\n",
       "      <th>23</th>\n",
       "      <td>5</td>\n",
       "      <td>Pam</td>\n",
       "      <td>706</td>\n",
       "      <td>0.091273</td>\n",
       "    </tr>\n",
       "    <tr>\n",
       "      <th>24</th>\n",
       "      <td>5</td>\n",
       "      <td>Andy</td>\n",
       "      <td>497</td>\n",
       "      <td>0.064253</td>\n",
       "    </tr>\n",
       "    <tr>\n",
       "      <th>25</th>\n",
       "      <td>6</td>\n",
       "      <td>Michael</td>\n",
       "      <td>1983</td>\n",
       "      <td>0.281197</td>\n",
       "    </tr>\n",
       "    <tr>\n",
       "      <th>26</th>\n",
       "      <td>6</td>\n",
       "      <td>Jim</td>\n",
       "      <td>928</td>\n",
       "      <td>0.131594</td>\n",
       "    </tr>\n",
       "    <tr>\n",
       "      <th>27</th>\n",
       "      <td>6</td>\n",
       "      <td>Dwight</td>\n",
       "      <td>811</td>\n",
       "      <td>0.115003</td>\n",
       "    </tr>\n",
       "    <tr>\n",
       "      <th>28</th>\n",
       "      <td>6</td>\n",
       "      <td>Pam</td>\n",
       "      <td>706</td>\n",
       "      <td>0.100113</td>\n",
       "    </tr>\n",
       "    <tr>\n",
       "      <th>29</th>\n",
       "      <td>6</td>\n",
       "      <td>Andy</td>\n",
       "      <td>538</td>\n",
       "      <td>0.076290</td>\n",
       "    </tr>\n",
       "    <tr>\n",
       "      <th>30</th>\n",
       "      <td>7</td>\n",
       "      <td>Michael</td>\n",
       "      <td>1401</td>\n",
       "      <td>0.204555</td>\n",
       "    </tr>\n",
       "    <tr>\n",
       "      <th>31</th>\n",
       "      <td>7</td>\n",
       "      <td>Dwight</td>\n",
       "      <td>703</td>\n",
       "      <td>0.102643</td>\n",
       "    </tr>\n",
       "    <tr>\n",
       "      <th>32</th>\n",
       "      <td>7</td>\n",
       "      <td>Jim</td>\n",
       "      <td>687</td>\n",
       "      <td>0.100307</td>\n",
       "    </tr>\n",
       "    <tr>\n",
       "      <th>33</th>\n",
       "      <td>7</td>\n",
       "      <td>Pam</td>\n",
       "      <td>612</td>\n",
       "      <td>0.089356</td>\n",
       "    </tr>\n",
       "    <tr>\n",
       "      <th>34</th>\n",
       "      <td>7</td>\n",
       "      <td>Andy</td>\n",
       "      <td>557</td>\n",
       "      <td>0.081326</td>\n",
       "    </tr>\n",
       "    <tr>\n",
       "      <th>35</th>\n",
       "      <td>8</td>\n",
       "      <td>Andy</td>\n",
       "      <td>1125</td>\n",
       "      <td>0.170197</td>\n",
       "    </tr>\n",
       "    <tr>\n",
       "      <th>36</th>\n",
       "      <td>8</td>\n",
       "      <td>Dwight</td>\n",
       "      <td>946</td>\n",
       "      <td>0.143116</td>\n",
       "    </tr>\n",
       "    <tr>\n",
       "      <th>37</th>\n",
       "      <td>8</td>\n",
       "      <td>Jim</td>\n",
       "      <td>869</td>\n",
       "      <td>0.131467</td>\n",
       "    </tr>\n",
       "    <tr>\n",
       "      <th>38</th>\n",
       "      <td>8</td>\n",
       "      <td>Pam</td>\n",
       "      <td>475</td>\n",
       "      <td>0.071861</td>\n",
       "    </tr>\n",
       "    <tr>\n",
       "      <th>39</th>\n",
       "      <td>8</td>\n",
       "      <td>Erin</td>\n",
       "      <td>427</td>\n",
       "      <td>0.064599</td>\n",
       "    </tr>\n",
       "    <tr>\n",
       "      <th>40</th>\n",
       "      <td>9</td>\n",
       "      <td>Dwight</td>\n",
       "      <td>1069</td>\n",
       "      <td>0.167502</td>\n",
       "    </tr>\n",
       "    <tr>\n",
       "      <th>41</th>\n",
       "      <td>9</td>\n",
       "      <td>Jim</td>\n",
       "      <td>798</td>\n",
       "      <td>0.125039</td>\n",
       "    </tr>\n",
       "    <tr>\n",
       "      <th>42</th>\n",
       "      <td>9</td>\n",
       "      <td>Pam</td>\n",
       "      <td>735</td>\n",
       "      <td>0.115168</td>\n",
       "    </tr>\n",
       "    <tr>\n",
       "      <th>43</th>\n",
       "      <td>9</td>\n",
       "      <td>Andy</td>\n",
       "      <td>637</td>\n",
       "      <td>0.099812</td>\n",
       "    </tr>\n",
       "    <tr>\n",
       "      <th>44</th>\n",
       "      <td>9</td>\n",
       "      <td>Angela</td>\n",
       "      <td>381</td>\n",
       "      <td>0.059699</td>\n",
       "    </tr>\n",
       "  </tbody>\n",
       "</table>\n",
       "</div>"
      ],
      "text/plain": [
       "    season  speaker  num_lines  lineshare\n",
       "0        1  Michael        509   0.346023\n",
       "1        1      Jim        231   0.157036\n",
       "2        1   Dwight        222   0.150918\n",
       "3        1      Pam        170   0.115568\n",
       "4        1     Katy         59   0.040109\n",
       "5        2  Michael       1894   0.335281\n",
       "6        2   Dwight        856   0.151531\n",
       "7        2      Jim        764   0.135245\n",
       "8        2      Pam        625   0.110639\n",
       "9        2      Jan        234   0.041423\n",
       "10       3  Michael       1989   0.282528\n",
       "11       3   Dwight        939   0.133381\n",
       "12       3      Jim        773   0.109801\n",
       "13       3      Pam        648   0.092045\n",
       "14       3     Andy        391   0.055540\n",
       "15       4  Michael       1633   0.312237\n",
       "16       4      Jim        684   0.130784\n",
       "17       4   Dwight        547   0.104589\n",
       "18       4      Pam        528   0.100956\n",
       "19       4     Ryan        228   0.043595\n",
       "20       5  Michael       2163   0.279638\n",
       "21       5   Dwight       1074   0.138849\n",
       "22       5      Jim        875   0.113122\n",
       "23       5      Pam        706   0.091273\n",
       "24       5     Andy        497   0.064253\n",
       "25       6  Michael       1983   0.281197\n",
       "26       6      Jim        928   0.131594\n",
       "27       6   Dwight        811   0.115003\n",
       "28       6      Pam        706   0.100113\n",
       "29       6     Andy        538   0.076290\n",
       "30       7  Michael       1401   0.204555\n",
       "31       7   Dwight        703   0.102643\n",
       "32       7      Jim        687   0.100307\n",
       "33       7      Pam        612   0.089356\n",
       "34       7     Andy        557   0.081326\n",
       "35       8     Andy       1125   0.170197\n",
       "36       8   Dwight        946   0.143116\n",
       "37       8      Jim        869   0.131467\n",
       "38       8      Pam        475   0.071861\n",
       "39       8     Erin        427   0.064599\n",
       "40       9   Dwight       1069   0.167502\n",
       "41       9      Jim        798   0.125039\n",
       "42       9      Pam        735   0.115168\n",
       "43       9     Andy        637   0.099812\n",
       "44       9   Angela        381   0.059699"
      ]
     },
     "execution_count": 12,
     "metadata": {},
     "output_type": "execute_result"
    }
   ],
   "source": [
    "season_ls_df['lineshare'] = season_ls_df['num_lines']/season_total_lines_df['num_lines']\n",
    "season_ls_df = season_ls_df.reset_index()\n",
    "season_ls_df"
   ]
  },
  {
   "cell_type": "code",
   "execution_count": 13,
   "metadata": {
    "ExecuteTime": {
     "end_time": "2021-04-28T11:33:37.931708Z",
     "start_time": "2021-04-28T11:33:36.078210Z"
    }
   },
   "outputs": [
    {
     "data": {
      "image/png": "[encoded data removed]",
      "text/plain": [
       "<Figure size 648x288 with 10 Axes>"
      ]
     },
     "metadata": {
      "needs_background": "light"
     },
     "output_type": "display_data"
    }
   ],
   "source": [
    "#plot lineshare per season\n",
    "#3x3 layout\n",
    "fig,axes = plt.subplots(2,5, figsize=(9,4))\n",
    "#flatten axes to loop over axes properly\n",
    "axes = [ax for sublist in axes for ax in sublist]\n",
    "\n",
    "for n in np.arange(1,11):\n",
    "    plt.sca(axes[n-1])\n",
    "    data = season_ls_df[season_ls_df['season']==n]\n",
    "    plt.bar(data['speaker'],data['lineshare'])\n",
    "    plt.xticks(rotation=45, ha='right')\n",
    "    plt.ylim([0,0.4])\n",
    "    \n",
    "fig.tight_layout()"
   ]
  },
  {
   "cell_type": "markdown",
   "metadata": {},
   "source": [
    "*Insight*: Lineshare reveals not only how a character dominated the series, but also how the other characters participated in the story"
   ]
  },
  {
   "cell_type": "markdown",
   "metadata": {},
   "source": [
    "### Visualization 2: Co-occurence heatmap\n",
    "\n",
    "\n",
    "Next we quantify if the presence of one character in a scene implies the presence of another character.\n",
    "\n",
    "This is called **co-occurence** and is defined as the number of times two characters are in a single scene together.\n",
    "\n",
    "*Assumption 2*: The more often we see two characters together, the more important they are to the story."
   ]
  },
  {
   "cell_type": "code",
   "execution_count": 14,
   "metadata": {
    "ExecuteTime": {
     "end_time": "2021-04-28T11:42:08.601156Z",
     "start_time": "2021-04-28T11:42:08.480992Z"
    }
   },
   "outputs": [
    {
     "data": {
      "text/html": [
       "<div>\n",
       "<style scoped>\n",
       "    .dataframe tbody tr th:only-of-type {\n",
       "        vertical-align: middle;\n",
       "    }\n",
       "\n",
       "    .dataframe tbody tr th {\n",
       "        vertical-align: top;\n",
       "    }\n",
       "\n",
       "    .dataframe thead th {\n",
       "        text-align: right;\n",
       "    }\n",
       "</style>\n",
       "<table border=\"1\" class=\"dataframe\">\n",
       "  <thead>\n",
       "    <tr style=\"text-align: right;\">\n",
       "      <th></th>\n",
       "      <th>season</th>\n",
       "      <th>episode</th>\n",
       "      <th>scene</th>\n",
       "      <th>speaker1</th>\n",
       "      <th>speaker2</th>\n",
       "    </tr>\n",
       "  </thead>\n",
       "  <tbody>\n",
       "    <tr>\n",
       "      <th>0</th>\n",
       "      <td>1</td>\n",
       "      <td>1</td>\n",
       "      <td>1</td>\n",
       "      <td>Jim</td>\n",
       "      <td>Michael</td>\n",
       "    </tr>\n",
       "    <tr>\n",
       "      <th>1</th>\n",
       "      <td>1</td>\n",
       "      <td>1</td>\n",
       "      <td>3</td>\n",
       "      <td>Michael</td>\n",
       "      <td>Pam</td>\n",
       "    </tr>\n",
       "    <tr>\n",
       "      <th>2</th>\n",
       "      <td>1</td>\n",
       "      <td>1</td>\n",
       "      <td>7</td>\n",
       "      <td>Jim</td>\n",
       "      <td>Michael</td>\n",
       "    </tr>\n",
       "    <tr>\n",
       "      <th>3</th>\n",
       "      <td>1</td>\n",
       "      <td>1</td>\n",
       "      <td>7</td>\n",
       "      <td>Dwight</td>\n",
       "      <td>Michael</td>\n",
       "    </tr>\n",
       "    <tr>\n",
       "      <th>4</th>\n",
       "      <td>1</td>\n",
       "      <td>1</td>\n",
       "      <td>7</td>\n",
       "      <td>Jim</td>\n",
       "      <td>Dwight</td>\n",
       "    </tr>\n",
       "  </tbody>\n",
       "</table>\n",
       "</div>"
      ],
      "text/plain": [
       "   season  episode  scene speaker1 speaker2\n",
       "0       1        1      1      Jim  Michael\n",
       "1       1        1      3  Michael      Pam\n",
       "2       1        1      7      Jim  Michael\n",
       "3       1        1      7   Dwight  Michael\n",
       "4       1        1      7      Jim   Dwight"
      ]
     },
     "execution_count": 14,
     "metadata": {},
     "output_type": "execute_result"
    }
   ],
   "source": [
    "cdf = pd.read_csv(\"data/the_office_speaker_combinations.csv\")\n",
    "cdf.head()"
   ]
  },
  {
   "cell_type": "markdown",
   "metadata": {},
   "source": [
    "### Make co-occurence heatmap"
   ]
  },
  {
   "cell_type": "code",
   "execution_count": 15,
   "metadata": {
    "ExecuteTime": {
     "end_time": "2021-04-28T11:43:34.611449Z",
     "start_time": "2021-04-28T11:43:34.565642Z"
    }
   },
   "outputs": [
    {
     "data": {
      "text/html": [
       "<div>\n",
       "<style scoped>\n",
       "    .dataframe tbody tr th:only-of-type {\n",
       "        vertical-align: middle;\n",
       "    }\n",
       "\n",
       "    .dataframe tbody tr th {\n",
       "        vertical-align: top;\n",
       "    }\n",
       "\n",
       "    .dataframe thead th {\n",
       "        text-align: right;\n",
       "    }\n",
       "</style>\n",
       "<table border=\"1\" class=\"dataframe\">\n",
       "  <thead>\n",
       "    <tr style=\"text-align: right;\">\n",
       "      <th></th>\n",
       "      <th>speaker1</th>\n",
       "      <th>speaker2</th>\n",
       "      <th>num_scenes</th>\n",
       "    </tr>\n",
       "  </thead>\n",
       "  <tbody>\n",
       "    <tr>\n",
       "      <th>258</th>\n",
       "      <td>Jim</td>\n",
       "      <td>Pam</td>\n",
       "      <td>800</td>\n",
       "    </tr>\n",
       "    <tr>\n",
       "      <th>151</th>\n",
       "      <td>Dwight</td>\n",
       "      <td>Michael</td>\n",
       "      <td>717</td>\n",
       "    </tr>\n",
       "    <tr>\n",
       "      <th>242</th>\n",
       "      <td>Jim</td>\n",
       "      <td>Dwight</td>\n",
       "      <td>680</td>\n",
       "    </tr>\n",
       "    <tr>\n",
       "      <th>416</th>\n",
       "      <td>Michael</td>\n",
       "      <td>Pam</td>\n",
       "      <td>533</td>\n",
       "    </tr>\n",
       "    <tr>\n",
       "      <th>255</th>\n",
       "      <td>Jim</td>\n",
       "      <td>Michael</td>\n",
       "      <td>501</td>\n",
       "    </tr>\n",
       "    <tr>\n",
       "      <th>...</th>\n",
       "      <td>...</td>\n",
       "      <td>...</td>\n",
       "      <td>...</td>\n",
       "    </tr>\n",
       "    <tr>\n",
       "      <th>199</th>\n",
       "      <td>Helene</td>\n",
       "      <td>Creed</td>\n",
       "      <td>1</td>\n",
       "    </tr>\n",
       "    <tr>\n",
       "      <th>198</th>\n",
       "      <td>Hank</td>\n",
       "      <td>Toby</td>\n",
       "      <td>1</td>\n",
       "    </tr>\n",
       "    <tr>\n",
       "      <th>195</th>\n",
       "      <td>Hank</td>\n",
       "      <td>Meredith</td>\n",
       "      <td>1</td>\n",
       "    </tr>\n",
       "    <tr>\n",
       "      <th>194</th>\n",
       "      <td>Hank</td>\n",
       "      <td>Holly</td>\n",
       "      <td>1</td>\n",
       "    </tr>\n",
       "    <tr>\n",
       "      <th>626</th>\n",
       "      <td>Val</td>\n",
       "      <td>Toby</td>\n",
       "      <td>1</td>\n",
       "    </tr>\n",
       "  </tbody>\n",
       "</table>\n",
       "<p>627 rows × 3 columns</p>\n",
       "</div>"
      ],
      "text/plain": [
       "    speaker1  speaker2  num_scenes\n",
       "258      Jim       Pam         800\n",
       "151   Dwight   Michael         717\n",
       "242      Jim    Dwight         680\n",
       "416  Michael       Pam         533\n",
       "255      Jim   Michael         501\n",
       "..       ...       ...         ...\n",
       "199   Helene     Creed           1\n",
       "198     Hank      Toby           1\n",
       "195     Hank  Meredith           1\n",
       "194     Hank     Holly           1\n",
       "626      Val      Toby           1\n",
       "\n",
       "[627 rows x 3 columns]"
      ]
     },
     "execution_count": 15,
     "metadata": {},
     "output_type": "execute_result"
    }
   ],
   "source": [
    "co_df = cdf.groupby(['speaker1','speaker2']).size()\n",
    "co_df = co_df.reset_index()\n",
    "co_df = co_df.rename(columns={0: 'num_scenes'})\n",
    "co_df.sort_values('num_scenes',ascending=False)"
   ]
  },
  {
   "cell_type": "markdown",
   "metadata": {},
   "source": [
    "A matrix with the top 50 speaking characters is large, so we need to narrow it down even further."
   ]
  },
  {
   "cell_type": "code",
   "execution_count": 16,
   "metadata": {
    "ExecuteTime": {
     "end_time": "2021-04-28T11:44:38.208523Z",
     "start_time": "2021-04-28T11:44:38.185862Z"
    }
   },
   "outputs": [
    {
     "data": {
      "text/plain": [
       "['Michael',\n",
       " 'Dwight',\n",
       " 'Jim',\n",
       " 'Pam',\n",
       " 'Andy',\n",
       " 'Kevin',\n",
       " 'Angela',\n",
       " 'Erin',\n",
       " 'Oscar',\n",
       " 'Ryan']"
      ]
     },
     "execution_count": 16,
     "metadata": {},
     "output_type": "execute_result"
    }
   ],
   "source": [
    "#pick top 10 characters with most lines\n",
    "top_characters = df['speaker'].value_counts()[:10].index.tolist()\n",
    "top_characters"
   ]
  },
  {
   "cell_type": "markdown",
   "metadata": {},
   "source": [
    "A **co-occurence matrix** describes how often any 2 characters are present in a scene. Thus, we consider all possible pairs of characters and we need to know how often each pair appeared in the dataset."
   ]
  },
  {
   "cell_type": "code",
   "execution_count": 17,
   "metadata": {
    "ExecuteTime": {
     "end_time": "2021-04-28T11:45:25.817856Z",
     "start_time": "2021-04-28T11:45:25.166023Z"
    }
   },
   "outputs": [
    {
     "name": "stdout",
     "output_type": "stream",
     "text": [
      "('Michael', 'Michael')\n",
      "No pair data for characters Michael and Michael\n",
      "('Dwight', 'Michael')\n",
      "('Jim', 'Michael')\n",
      "('Pam', 'Michael')\n",
      "('Andy', 'Michael')\n",
      "('Kevin', 'Michael')\n",
      "('Angela', 'Michael')\n",
      "('Erin', 'Michael')\n",
      "('Oscar', 'Michael')\n",
      "('Ryan', 'Michael')\n",
      "('Michael', 'Dwight')\n",
      "('Dwight', 'Dwight')\n",
      "No pair data for characters Dwight and Dwight\n",
      "('Jim', 'Dwight')\n",
      "('Pam', 'Dwight')\n",
      "('Andy', 'Dwight')\n",
      "('Kevin', 'Dwight')\n",
      "('Angela', 'Dwight')\n",
      "('Erin', 'Dwight')\n",
      "('Oscar', 'Dwight')\n",
      "('Ryan', 'Dwight')\n",
      "('Michael', 'Jim')\n",
      "('Dwight', 'Jim')\n",
      "('Jim', 'Jim')\n",
      "No pair data for characters Jim and Jim\n",
      "('Pam', 'Jim')\n",
      "('Andy', 'Jim')\n",
      "('Kevin', 'Jim')\n",
      "('Angela', 'Jim')\n",
      "('Erin', 'Jim')\n",
      "('Oscar', 'Jim')\n",
      "('Ryan', 'Jim')\n",
      "('Michael', 'Pam')\n",
      "('Dwight', 'Pam')\n",
      "('Jim', 'Pam')\n",
      "('Pam', 'Pam')\n",
      "No pair data for characters Pam and Pam\n",
      "('Andy', 'Pam')\n",
      "('Kevin', 'Pam')\n",
      "('Angela', 'Pam')\n",
      "('Erin', 'Pam')\n",
      "('Oscar', 'Pam')\n",
      "('Ryan', 'Pam')\n",
      "('Michael', 'Andy')\n",
      "('Dwight', 'Andy')\n",
      "('Jim', 'Andy')\n",
      "('Pam', 'Andy')\n",
      "('Andy', 'Andy')\n",
      "No pair data for characters Andy and Andy\n",
      "('Kevin', 'Andy')\n",
      "('Angela', 'Andy')\n",
      "('Erin', 'Andy')\n",
      "('Oscar', 'Andy')\n",
      "('Ryan', 'Andy')\n",
      "('Michael', 'Kevin')\n",
      "('Dwight', 'Kevin')\n",
      "('Jim', 'Kevin')\n",
      "('Pam', 'Kevin')\n",
      "('Andy', 'Kevin')\n",
      "('Kevin', 'Kevin')\n",
      "No pair data for characters Kevin and Kevin\n",
      "('Angela', 'Kevin')\n",
      "('Erin', 'Kevin')\n",
      "('Oscar', 'Kevin')\n",
      "('Ryan', 'Kevin')\n",
      "('Michael', 'Angela')\n",
      "('Dwight', 'Angela')\n",
      "('Jim', 'Angela')\n",
      "('Pam', 'Angela')\n",
      "('Andy', 'Angela')\n",
      "('Kevin', 'Angela')\n",
      "('Angela', 'Angela')\n",
      "No pair data for characters Angela and Angela\n",
      "('Erin', 'Angela')\n",
      "('Oscar', 'Angela')\n",
      "('Ryan', 'Angela')\n",
      "('Michael', 'Erin')\n",
      "('Dwight', 'Erin')\n",
      "('Jim', 'Erin')\n",
      "('Pam', 'Erin')\n",
      "('Andy', 'Erin')\n",
      "('Kevin', 'Erin')\n",
      "('Angela', 'Erin')\n",
      "('Erin', 'Erin')\n",
      "No pair data for characters Erin and Erin\n",
      "('Oscar', 'Erin')\n",
      "('Ryan', 'Erin')\n",
      "('Michael', 'Oscar')\n",
      "('Dwight', 'Oscar')\n",
      "('Jim', 'Oscar')\n",
      "('Pam', 'Oscar')\n",
      "('Andy', 'Oscar')\n",
      "('Kevin', 'Oscar')\n",
      "('Angela', 'Oscar')\n",
      "('Erin', 'Oscar')\n",
      "('Oscar', 'Oscar')\n",
      "No pair data for characters Oscar and Oscar\n",
      "('Ryan', 'Oscar')\n",
      "('Michael', 'Ryan')\n",
      "('Dwight', 'Ryan')\n",
      "('Jim', 'Ryan')\n",
      "('Pam', 'Ryan')\n",
      "('Andy', 'Ryan')\n",
      "('Kevin', 'Ryan')\n",
      "('Angela', 'Ryan')\n",
      "('Erin', 'Ryan')\n",
      "('Oscar', 'Ryan')\n",
      "('Ryan', 'Ryan')\n",
      "No pair data for characters Ryan and Ryan\n"
     ]
    },
    {
     "data": {
      "text/plain": [
       "array([[  0., 717., 501., 533., 225., 245., 178., 116., 217., 217.],\n",
       "       [717.,   0., 680., 382., 332., 198., 280., 147., 196., 143.],\n",
       "       [501., 680.,   0., 800., 317., 233., 133., 113., 178., 130.],\n",
       "       [533., 382., 800.,   0., 220., 223., 186., 117.,  93.,  68.],\n",
       "       [225., 332., 317., 220.,   0., 203., 142.,  93., 167.,  74.],\n",
       "       [245., 198., 233., 223., 203.,   0., 210., 105., 233.,  67.],\n",
       "       [178., 280., 133., 186., 142., 210.,   0.,  61., 199.,  33.],\n",
       "       [116., 147., 113., 117.,  93., 105.,  61.,   0.,  79.,  41.],\n",
       "       [217., 196., 178.,  93., 167., 233., 199.,  79.,   0.,  28.],\n",
       "       [217., 143., 130.,  68.,  74.,  67.,  33.,  41.,  28.,   0.]])"
      ]
     },
     "execution_count": 17,
     "metadata": {},
     "output_type": "execute_result"
    }
   ],
   "source": [
    "# initialize matrix\n",
    "# N x N where N is number of characters considered\n",
    "data = np.zeros((len(top_characters),len(top_characters)))\n",
    "\n",
    "# populate the matrix\n",
    "# nested for loop to go over each characcter combination\n",
    "for j,n in enumerate(top_characters):\n",
    "    for i,m in enumerate(top_characters):\n",
    "        print((m,n))\n",
    "        try:\n",
    "            #BUG FIX: match array location by considering both possible orders of speaker pairs \n",
    "            val = co_df[(co_df['speaker1']==m)&(co_df['speaker2']==n)|\n",
    "                       (co_df['speaker1']==n)&(co_df['speaker2']==m)]['num_scenes'].values[0]\n",
    "            data[j][i] = val\n",
    "            \n",
    "        except:\n",
    "            print(\"No pair data for characters %s and %s\" % (m,n))\n",
    "            data[j][i] = 0\n",
    "# is it okay to trigger exception for differently ordered pairs?\n",
    "data"
   ]
  },
  {
   "cell_type": "code",
   "execution_count": 18,
   "metadata": {
    "ExecuteTime": {
     "end_time": "2021-04-28T11:45:57.429143Z",
     "start_time": "2021-04-28T11:45:57.418064Z"
    }
   },
   "outputs": [
    {
     "data": {
      "text/plain": [
       "array([[  0., 717., 501., 533., 225., 245., 178., 116., 217., 217.],\n",
       "       [717.,   0., 680., 382., 332., 198., 280., 147., 196., 143.],\n",
       "       [501., 680.,   0., 800., 317., 233., 133., 113., 178., 130.],\n",
       "       [533., 382., 800.,   0., 220., 223., 186., 117.,  93.,  68.],\n",
       "       [225., 332., 317., 220.,   0., 203., 142.,  93., 167.,  74.],\n",
       "       [245., 198., 233., 223., 203.,   0., 210., 105., 233.,  67.],\n",
       "       [178., 280., 133., 186., 142., 210.,   0.,  61., 199.,  33.],\n",
       "       [116., 147., 113., 117.,  93., 105.,  61.,   0.,  79.,  41.],\n",
       "       [217., 196., 178.,  93., 167., 233., 199.,  79.,   0.,  28.],\n",
       "       [217., 143., 130.,  68.,  74.,  67.,  33.,  41.,  28.,   0.]])"
      ]
     },
     "execution_count": 18,
     "metadata": {},
     "output_type": "execute_result"
    }
   ],
   "source": [
    "data"
   ]
  },
  {
   "cell_type": "code",
   "execution_count": 22,
   "metadata": {
    "ExecuteTime": {
     "end_time": "2021-04-28T11:52:19.224940Z",
     "start_time": "2021-04-28T11:52:18.595814Z"
    }
   },
   "outputs": [
    {
     "data": {
      "text/plain": [
       "Text(0.5, 1, 'The Office: Character Co-occurence')"
      ]
     },
     "execution_count": 22,
     "metadata": {},
     "output_type": "execute_result"
    },
    {
     "data": {
      "image/png": "[encoded data removed]",
      "text/plain": [
       "<Figure size 576x576 with 2 Axes>"
      ]
     },
     "metadata": {
      "needs_background": "light"
     },
     "output_type": "display_data"
    }
   ],
   "source": [
    "import seaborn as sns\n",
    "\n",
    "fig, ax = plt.subplots(figsize=(8,8))\n",
    "\n",
    "# Generate a mask for the upper triangle\n",
    "mask = np.triu(np.ones_like(data, dtype=bool))\n",
    "\n",
    "#cmap = sns.color_palette(\"cubehelix\", as_cmap=True)\n",
    "# Draw the heatmap with the mask and correct aspect ratio\n",
    "hm = sns.heatmap(data,mask=mask, cmap=\"viridis\",\n",
    "            square=True, linewidths=.5,\n",
    "                 cbar_kws={\"shrink\": .5,'label': 'Number of scenes together'})\n",
    "\n",
    "# ... and label them with the respective list entries\n",
    "#ax.set_xticklabels(top_characters[:-1], rotation=90)\n",
    "#ax.set_yticklabels([\" \"]+top_characters[1:], rotation=0)\n",
    "\n",
    "# get xlim\n",
    "# set appropriate xlim\n",
    "#ax.set_xlim([0,9])\n",
    "#ax.set_ylim([10,1])\n",
    "ax.set_title(\"The Office: Character Co-occurence\")"
   ]
  },
  {
   "cell_type": "markdown",
   "metadata": {},
   "source": [
    "### Visualization 3. Word cloud\n",
    "\n",
    "A word cloud is a visualization made of a cluster of words in different sizes. The bigger and bolder the word appears, the more often it's mentioned. \n",
    "\n",
    "We can use word clouds to infer a character's personality using his/her choice words"
   ]
  },
  {
   "cell_type": "code",
   "execution_count": 23,
   "metadata": {
    "ExecuteTime": {
     "end_time": "2021-04-28T12:07:56.513432Z",
     "start_time": "2021-04-28T12:07:48.976163Z"
    }
   },
   "outputs": [
    {
     "name": "stderr",
     "output_type": "stream",
     "text": [
      "[nltk_data] Downloading package stopwords to /home/pollux/nltk_data...\n",
      "[nltk_data]   Package stopwords is already up-to-date!\n"
     ]
    },
    {
     "data": {
      "text/plain": [
       "True"
      ]
     },
     "execution_count": 23,
     "metadata": {},
     "output_type": "execute_result"
    }
   ],
   "source": [
    "#Import the Natural Language Toolkit (nltk) module, most often used in NLP\n",
    "# Already installed in anaconda\n",
    "import nltk\n",
    "\n",
    "#download stopwords\n",
    "#only need to do this once\n",
    "nltk.download('stopwords')\n"
   ]
  },
  {
   "cell_type": "code",
   "execution_count": 24,
   "metadata": {
    "ExecuteTime": {
     "end_time": "2021-04-28T12:08:25.201468Z",
     "start_time": "2021-04-28T12:08:25.196027Z"
    }
   },
   "outputs": [],
   "source": [
    "from nltk.corpus import stopwords \n",
    "from nltk.tokenize import word_tokenize \n",
    "import re "
   ]
  },
  {
   "cell_type": "markdown",
   "metadata": {},
   "source": [
    "**Stopwords** are the words in any language which does not add much meaning to a sentence. They can safely be ignored without sacrificing the meaning of the sentence"
   ]
  },
  {
   "cell_type": "code",
   "execution_count": 25,
   "metadata": {
    "ExecuteTime": {
     "end_time": "2021-04-28T12:08:29.096626Z",
     "start_time": "2021-04-28T12:08:29.071165Z"
    }
   },
   "outputs": [
    {
     "name": "stdout",
     "output_type": "stream",
     "text": [
      "{'down', 'myself', 'has', 'i', 'at', 'a', 'from', 'for', 'those', 'yourself', 'havent', 'there', 'these', 'isnt', 'arent', 'had', 'so', 'were', 'to', 'hasn', 'them', 'here', 'itself', 'out', 'under', 'our', 'because', 'needn', 'such', 'against', 'wouldn', 'below', 'can', 'll', 'as', 'they', 'in', 'and', 'over', 'it', 'youll', 'theirs', 'dont', 'is', 'hadnt', 'about', 'above', 'that', 'very', 'herself', 'youve', 'who', 'am', 'its', 'wasn', 'haven', 'wouldnt', 'during', 'do', 'yours', 'all', 'didn', 'her', 'weren', 'youd', 'which', 'this', 'where', 'wasnt', 'you', 'neednt', 'your', 'on', 'now', 'being', 'again', 'couldnt', 'hadn', 'won', 'youre', 'their', 'why', 'other', 'been', 'while', 'doesnt', 'we', 'm', 'no', 'both', 's', 'my', 'themselves', 'not', 'between', 'mightnt', 't', 'was', 'shouldnt', 'mightn', 'o', 'up', 'shan', 'his', 'ourselves', 'than', 'each', 'into', 'will', 'having', 'hasnt', 'she', 'are', 'but', 'few', 'more', 'ain', 'have', 'werent', 're', 'should', 'yourselves', 'through', 'only', 'same', 'once', 'own', 'shouldn', 'doesn', 'couldn', 'some', 'wont', 'then', 'mustn', 'me', 'what', 'further', 'after', 'did', 'when', 'isn', 'didnt', 'ours', 'shant', 'before', 'an', 'just', 'whom', 'off', 'of', 'thatll', 'doing', 'hers', 'does', 'him', 'or', 'with', 'aren', 'mustnt', 'y', 'himself', 've', 'any', 'don', 'until', 'how', 'ma', 'most', 'shouldve', 'shes', 'd', 'by', 'nor', 'the', 'too', 'be', 'if', 'he'}\n"
     ]
    }
   ],
   "source": [
    "stop_words = stopwords.words('english')\n",
    "#remove punctuation \n",
    "stop_words = {re.sub(\"[^a-zA-Z]+\", \"\", word) for word in stop_words}\n",
    "print(stop_words)"
   ]
  },
  {
   "cell_type": "code",
   "execution_count": 26,
   "metadata": {
    "ExecuteTime": {
     "end_time": "2021-04-28T12:09:01.924246Z",
     "start_time": "2021-04-28T12:09:01.917668Z"
    }
   },
   "outputs": [],
   "source": [
    "##########################\n",
    "# Set character to make a word cloud out of\n",
    "this_character = \"Dwight\""
   ]
  },
  {
   "cell_type": "code",
   "execution_count": 27,
   "metadata": {
    "ExecuteTime": {
     "end_time": "2021-04-28T12:09:06.229116Z",
     "start_time": "2021-04-28T12:09:06.204290Z"
    }
   },
   "outputs": [
    {
     "data": {
      "text/plain": [
       "array(['[singing] Shall I play for you? Pa rum pump um pum [Imitates heavy drumming] I have no gifts for you. Pa rum pump um pum [Imitates heavy drumming]',\n",
       "       'Whassup!', 'Whassup.', ...,\n",
       "       'Don���t be an idiot. It���s for the severance. The best I can do one month for every year you���ve been here. That���s the max.',\n",
       "       'Woah. Right. For what, the art? The music? The incredible nightlife? No thank you. But if you���re ever in the area, you���ll always have a place to stay���in my barn.',\n",
       "       'Do I get along with my co-workers? Well, first of all, I don���t have co-workers anymore, I have subordinates. So��� have I gotten along with my subordinates? Let���s see. My supplier relations rep, Meredith Palmer, is the only person I know who knows how to properly head bang to Motorhead. Oscar Martinez, my accountant, is now godfather to my son. Angela Schrute, my former accountant is now my wife. My top salesman, Jim Halpert was best man at my wedding and office administrator Pamela Beesley Halpert is my best friend. So���yes. I���d say I have gotten along with my subordinates.'],\n",
       "      dtype=object)"
      ]
     },
     "execution_count": 27,
     "metadata": {},
     "output_type": "execute_result"
    }
   ],
   "source": [
    "character_lines = df[df['speaker']==this_character]['line_text'].values\n",
    "character_lines"
   ]
  },
  {
   "cell_type": "markdown",
   "metadata": {},
   "source": [
    "As you may see, there are still lots of punctuation and unknown symbols that will pollute the data for the word cloud. We clean this using the helper function below"
   ]
  },
  {
   "cell_type": "code",
   "execution_count": 29,
   "metadata": {
    "ExecuteTime": {
     "end_time": "2021-04-28T12:12:12.967334Z",
     "start_time": "2021-04-28T12:12:12.958433Z"
    }
   },
   "outputs": [],
   "source": [
    "def get_words(this_line):\n",
    "    # strip newlines\n",
    "    this_line = this_line.strip('\\\\n')\n",
    "    #strip tab\n",
    "    this_line = this_line.strip('\\\\t')\n",
    "    #remove dots, commas, question marks, single and double quotes\n",
    "    this_line = this_line.replace('.', '').replace('?', '').replace(\n",
    "        ',', '').replace('\\\"', '').replace('\\'', '')\n",
    "    #remove text in brackets\n",
    "    this_line = re.sub(\"[\\(\\[].*?[\\)\\]]\", \"\", this_line)\n",
    "\n",
    "    #tokenize and remove trailing spaces\n",
    "    word_tokens = word_tokenize(this_line.lower().strip())\n",
    "\n",
    "    #remove any other remaining symbols\n",
    "    #re.sub(\"[^a-zA-Z]+\\\\w'\", \"\", word)\n",
    "    word_tokens = [''.join([c for c in word if (c.isalnum())]) for word in word_tokens\n",
    "    ]\n",
    "    #remove 0-length words\n",
    "    word_tokens = [word for word in word_tokens if len(word) > 0]\n",
    "\n",
    "    #remove stop words\n",
    "    word_tokens = [w for w in word_tokens if not w in stop_words]\n",
    "    return word_tokens"
   ]
  },
  {
   "cell_type": "markdown",
   "metadata": {},
   "source": [
    "In NLP, a **corpus** is a set of words associated with a particular topic. In this case, it is labeled with the character who uttered the words"
   ]
  },
  {
   "cell_type": "code",
   "execution_count": 30,
   "metadata": {
    "ExecuteTime": {
     "end_time": "2021-04-28T12:12:16.180664Z",
     "start_time": "2021-04-28T12:12:14.208396Z"
    }
   },
   "outputs": [
    {
     "data": {
      "text/plain": [
       "im         458\n",
       "oh         443\n",
       "know       394\n",
       "okay       320\n",
       "get        316\n",
       "like       315\n",
       "jim        304\n",
       "michael    289\n",
       "one        278\n",
       "go         278\n",
       "thats      263\n",
       "right      256\n",
       "yeah       238\n",
       "well       236\n",
       "good       231\n",
       "come       226\n",
       "yes        226\n",
       "hey        222\n",
       "got        219\n",
       "would      201\n",
       "dtype: int64"
      ]
     },
     "execution_count": 30,
     "metadata": {},
     "output_type": "execute_result"
    }
   ],
   "source": [
    "#character corpus\n",
    "character_corpus = [get_words(line) for line in character_lines]\n",
    "#flatten list\n",
    "character_corpus = [word for line in character_corpus for word in line]\n",
    "#get frequency of each word\n",
    "character_word_frequency = pd.Series(character_corpus).value_counts()\n",
    "character_word_frequency[:20]"
   ]
  },
  {
   "cell_type": "code",
   "execution_count": 34,
   "metadata": {
    "ExecuteTime": {
     "end_time": "2021-04-28T12:14:04.489127Z",
     "start_time": "2021-04-28T12:13:51.675459Z"
    }
   },
   "outputs": [
    {
     "name": "stdout",
     "output_type": "stream",
     "text": [
      "Requirement already satisfied: wordcloud in /home/pollux/anaconda3/lib/python3.8/site-packages (1.8.1)\n",
      "Requirement already satisfied: matplotlib in /home/pollux/anaconda3/lib/python3.8/site-packages (from wordcloud) (3.1.2)\n",
      "Requirement already satisfied: numpy>=1.6.1 in /home/pollux/anaconda3/lib/python3.8/site-packages (from wordcloud) (1.19.4)\n",
      "Requirement already satisfied: pillow in /home/pollux/anaconda3/lib/python3.8/site-packages (from wordcloud) (8.0.1)\n",
      "Requirement already satisfied: cycler>=0.10 in /home/pollux/anaconda3/lib/python3.8/site-packages (from matplotlib->wordcloud) (0.10.0)\n",
      "Requirement already satisfied: kiwisolver>=1.0.1 in /home/pollux/anaconda3/lib/python3.8/site-packages (from matplotlib->wordcloud) (1.3.0)\n",
      "Requirement already satisfied: python-dateutil>=2.1 in /home/pollux/anaconda3/lib/python3.8/site-packages (from matplotlib->wordcloud) (2.8.1)\n",
      "Requirement already satisfied: pyparsing!=2.0.4,!=2.1.2,!=2.1.6,>=2.0.1 in /home/pollux/anaconda3/lib/python3.8/site-packages (from matplotlib->wordcloud) (2.4.7)\n",
      "Requirement already satisfied: six in /home/pollux/anaconda3/lib/python3.8/site-packages (from cycler>=0.10->matplotlib->wordcloud) (1.15.0)\n"
     ]
    }
   ],
   "source": [
    "!pip install wordcloud"
   ]
  },
  {
   "cell_type": "code",
   "execution_count": 35,
   "metadata": {
    "ExecuteTime": {
     "end_time": "2021-04-28T12:14:26.487181Z",
     "start_time": "2021-04-28T12:14:26.239423Z"
    }
   },
   "outputs": [],
   "source": [
    "#plot word cloud\n",
    "#helper function\n",
    "\n",
    "#not yet installed in Anaconda -install by running in your terminal \"pip install wordcloud\"\n",
    "from wordcloud import WordCloud\n",
    "\n",
    "def plot_wordcloud(wordlist):\n",
    "    fig = plt.figure(figsize=(5,5))\n",
    "    unique_string=(\" \").join(wordlist)\n",
    "\n",
    "    wordcloud = WordCloud(width = 800, height = 800, \n",
    "                    background_color ='white', \n",
    "                    stopwords = stop_words, \n",
    "                    min_font_size = 10).generate(unique_string)\n",
    "    \n",
    "    # plot the WordCloud image                        \n",
    "    plt.imshow(wordcloud) \n",
    "    plt.axis(\"off\") \n",
    "    plt.tight_layout(pad = 0) \n",
    "    return fig"
   ]
  },
  {
   "cell_type": "code",
   "execution_count": 36,
   "metadata": {
    "ExecuteTime": {
     "end_time": "2021-04-28T12:14:54.028607Z",
     "start_time": "2021-04-28T12:14:50.723819Z"
    },
    "scrolled": true
   },
   "outputs": [
    {
     "data": {
      "image/png": "[encoded data removed]",
      "text/plain": [
       "<Figure size 360x360 with 1 Axes>"
      ]
     },
     "metadata": {
      "needs_background": "light"
     },
     "output_type": "display_data"
    }
   ],
   "source": [
    "plot_wordcloud(character_corpus).savefig(\"figs/\"+this_character+\"_wordcloud.png\")"
   ]
  },
  {
   "cell_type": "code",
   "execution_count": null,
   "metadata": {},
   "outputs": [],
   "source": []
  }
 ],
 "metadata": {
  "kernelspec": {
   "display_name": "Python 3",
   "language": "python",
   "name": "python3"
  },
  "language_info": {
   "codemirror_mode": {
    "name": "ipython",
    "version": 3
   },
   "file_extension": ".py",
   "mimetype": "text/x-python",
   "name": "python",
   "nbconvert_exporter": "python",
   "pygments_lexer": "ipython3",
   "version": "3.8.5"
  }
 },
 "nbformat": 4,
 "nbformat_minor": 4
}
