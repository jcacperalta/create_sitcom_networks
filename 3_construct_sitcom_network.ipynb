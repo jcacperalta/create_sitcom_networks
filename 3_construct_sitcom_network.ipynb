{
 "cells": [
  {
   "cell_type": "markdown",
   "metadata": {},
   "source": [
    "## Day 3 - Constructing the sitcom network"
   ]
  },
  {
   "cell_type": "code",
   "execution_count": 1,
   "metadata": {
    "ExecuteTime": {
     "end_time": "2021-04-30T11:28:33.962446Z",
     "start_time": "2021-04-30T11:28:26.862744Z"
    }
   },
   "outputs": [],
   "source": [
    "import numpy as np\n",
    "import pandas as pd\n",
    "\n",
    "import matplotlib.pyplot as plt\n",
    "%matplotlib inline"
   ]
  },
  {
   "cell_type": "code",
   "execution_count": 2,
   "metadata": {
    "ExecuteTime": {
     "end_time": "2021-04-30T11:28:37.192536Z",
     "start_time": "2021-04-30T11:28:37.108301Z"
    }
   },
   "outputs": [
    {
     "data": {
      "text/html": [
       "<div>\n",
       "<style scoped>\n",
       "    .dataframe tbody tr th:only-of-type {\n",
       "        vertical-align: middle;\n",
       "    }\n",
       "\n",
       "    .dataframe tbody tr th {\n",
       "        vertical-align: top;\n",
       "    }\n",
       "\n",
       "    .dataframe thead th {\n",
       "        text-align: right;\n",
       "    }\n",
       "</style>\n",
       "<table border=\"1\" class=\"dataframe\">\n",
       "  <thead>\n",
       "    <tr style=\"text-align: right;\">\n",
       "      <th></th>\n",
       "      <th>season</th>\n",
       "      <th>episode</th>\n",
       "      <th>scene</th>\n",
       "      <th>speaker1</th>\n",
       "      <th>speaker2</th>\n",
       "    </tr>\n",
       "  </thead>\n",
       "  <tbody>\n",
       "    <tr>\n",
       "      <th>0</th>\n",
       "      <td>1</td>\n",
       "      <td>1</td>\n",
       "      <td>1</td>\n",
       "      <td>Jim</td>\n",
       "      <td>Michael</td>\n",
       "    </tr>\n",
       "    <tr>\n",
       "      <th>1</th>\n",
       "      <td>1</td>\n",
       "      <td>1</td>\n",
       "      <td>3</td>\n",
       "      <td>Michael</td>\n",
       "      <td>Pam</td>\n",
       "    </tr>\n",
       "    <tr>\n",
       "      <th>2</th>\n",
       "      <td>1</td>\n",
       "      <td>1</td>\n",
       "      <td>7</td>\n",
       "      <td>Jim</td>\n",
       "      <td>Michael</td>\n",
       "    </tr>\n",
       "    <tr>\n",
       "      <th>3</th>\n",
       "      <td>1</td>\n",
       "      <td>1</td>\n",
       "      <td>7</td>\n",
       "      <td>Dwight</td>\n",
       "      <td>Michael</td>\n",
       "    </tr>\n",
       "    <tr>\n",
       "      <th>4</th>\n",
       "      <td>1</td>\n",
       "      <td>1</td>\n",
       "      <td>7</td>\n",
       "      <td>Jim</td>\n",
       "      <td>Dwight</td>\n",
       "    </tr>\n",
       "    <tr>\n",
       "      <th>5</th>\n",
       "      <td>1</td>\n",
       "      <td>1</td>\n",
       "      <td>10</td>\n",
       "      <td>Michael</td>\n",
       "      <td>Jan</td>\n",
       "    </tr>\n",
       "    <tr>\n",
       "      <th>6</th>\n",
       "      <td>1</td>\n",
       "      <td>1</td>\n",
       "      <td>10</td>\n",
       "      <td>Jan</td>\n",
       "      <td>Pam</td>\n",
       "    </tr>\n",
       "    <tr>\n",
       "      <th>7</th>\n",
       "      <td>1</td>\n",
       "      <td>1</td>\n",
       "      <td>10</td>\n",
       "      <td>Michael</td>\n",
       "      <td>Pam</td>\n",
       "    </tr>\n",
       "    <tr>\n",
       "      <th>8</th>\n",
       "      <td>1</td>\n",
       "      <td>1</td>\n",
       "      <td>11</td>\n",
       "      <td>Michael</td>\n",
       "      <td>Jan</td>\n",
       "    </tr>\n",
       "    <tr>\n",
       "      <th>9</th>\n",
       "      <td>1</td>\n",
       "      <td>1</td>\n",
       "      <td>11</td>\n",
       "      <td>Todd Packer</td>\n",
       "      <td>Michael</td>\n",
       "    </tr>\n",
       "  </tbody>\n",
       "</table>\n",
       "</div>"
      ],
      "text/plain": [
       "   season  episode  scene     speaker1 speaker2\n",
       "0       1        1      1          Jim  Michael\n",
       "1       1        1      3      Michael      Pam\n",
       "2       1        1      7          Jim  Michael\n",
       "3       1        1      7       Dwight  Michael\n",
       "4       1        1      7          Jim   Dwight\n",
       "5       1        1     10      Michael      Jan\n",
       "6       1        1     10          Jan      Pam\n",
       "7       1        1     10      Michael      Pam\n",
       "8       1        1     11      Michael      Jan\n",
       "9       1        1     11  Todd Packer  Michael"
      ]
     },
     "execution_count": 2,
     "metadata": {},
     "output_type": "execute_result"
    }
   ],
   "source": [
    "co_df = pd.read_csv(\"data/the_office_speaker_combinations.csv\")\n",
    "co_df.head(10)"
   ]
  },
  {
   "cell_type": "markdown",
   "metadata": {},
   "source": [
    "### Compute Interaction Factor"
   ]
  },
  {
   "cell_type": "markdown",
   "metadata": {},
   "source": [
    "**Interaction factor** is a measure of how intimate a speaker pair's interaction is relative to the total number of speaker pairs in the scene. We define it as:\n",
    "\n",
    "`Interaction factor = 1 / (no. of speaker pairs per scene)`\n",
    "\n",
    "To illustrate what this means:\n",
    "1. A scene with only 2 speakers will have an interaction factor of 1/ (1 pair) = 1\n",
    "\n",
    "\n",
    "2. A scene with 3 speakers will have an interaction factor of 1/ (3 pairs) = 0.33\n",
    "\n",
    "*Thus a character will need to be in 3 scenes with 3 characters to be able to match the intimacy of a 1-on-1 scene.*\n",
    "\n",
    "\n",
    "3. A scene with 5 speakers will have an interaction factor of 1/ (10 pairs) = 0.1\n",
    "*Thus a character will need to be in 10 scenes with 5 characters to be able to match the intimacy of a 1-on-1 scene.*\n",
    "\n",
    "In general,\n",
    "\n",
    "4. A scene with n speakers will have an interaction factor of 1/ (nC2 pairs)\n"
   ]
  },
  {
   "cell_type": "code",
   "execution_count": 3,
   "metadata": {
    "ExecuteTime": {
     "end_time": "2021-04-30T11:32:34.886133Z",
     "start_time": "2021-04-30T11:32:34.514507Z"
    }
   },
   "outputs": [
    {
     "data": {
      "text/plain": [
       "Text(0, 0.5, 'interaction factor')"
      ]
     },
     "execution_count": 3,
     "metadata": {},
     "output_type": "execute_result"
    },
    {
     "data": {
      "image/png": "[encoded data removed]",
      "text/plain": [
       "<Figure size 432x288 with 1 Axes>"
      ]
     },
     "metadata": {
      "needs_background": "light"
     },
     "output_type": "display_data"
    }
   ],
   "source": [
    "from math import comb\n",
    "x=np.arange(2,11)\n",
    "plt.plot(x,[1/comb(p,2) for p in x])\n",
    "plt.xlabel('number of speakers')\n",
    "plt.ylabel('interaction factor')"
   ]
  },
  {
   "cell_type": "code",
   "execution_count": 4,
   "metadata": {
    "ExecuteTime": {
     "end_time": "2021-04-30T11:33:51.372255Z",
     "start_time": "2021-04-30T11:33:50.859705Z"
    }
   },
   "outputs": [
    {
     "data": {
      "text/html": [
       "<div>\n",
       "<style scoped>\n",
       "    .dataframe tbody tr th:only-of-type {\n",
       "        vertical-align: middle;\n",
       "    }\n",
       "\n",
       "    .dataframe tbody tr th {\n",
       "        vertical-align: top;\n",
       "    }\n",
       "\n",
       "    .dataframe thead th {\n",
       "        text-align: right;\n",
       "    }\n",
       "</style>\n",
       "<table border=\"1\" class=\"dataframe\">\n",
       "  <thead>\n",
       "    <tr style=\"text-align: right;\">\n",
       "      <th></th>\n",
       "      <th>season</th>\n",
       "      <th>episode</th>\n",
       "      <th>scene</th>\n",
       "      <th>speaker1</th>\n",
       "      <th>speaker2</th>\n",
       "      <th>speaker_pair</th>\n",
       "    </tr>\n",
       "  </thead>\n",
       "  <tbody>\n",
       "    <tr>\n",
       "      <th>0</th>\n",
       "      <td>1</td>\n",
       "      <td>1</td>\n",
       "      <td>1</td>\n",
       "      <td>Jim</td>\n",
       "      <td>Michael</td>\n",
       "      <td>Jim-Michael</td>\n",
       "    </tr>\n",
       "    <tr>\n",
       "      <th>1</th>\n",
       "      <td>1</td>\n",
       "      <td>1</td>\n",
       "      <td>3</td>\n",
       "      <td>Michael</td>\n",
       "      <td>Pam</td>\n",
       "      <td>Michael-Pam</td>\n",
       "    </tr>\n",
       "    <tr>\n",
       "      <th>2</th>\n",
       "      <td>1</td>\n",
       "      <td>1</td>\n",
       "      <td>7</td>\n",
       "      <td>Jim</td>\n",
       "      <td>Michael</td>\n",
       "      <td>Jim-Michael</td>\n",
       "    </tr>\n",
       "    <tr>\n",
       "      <th>3</th>\n",
       "      <td>1</td>\n",
       "      <td>1</td>\n",
       "      <td>7</td>\n",
       "      <td>Dwight</td>\n",
       "      <td>Michael</td>\n",
       "      <td>Dwight-Michael</td>\n",
       "    </tr>\n",
       "    <tr>\n",
       "      <th>4</th>\n",
       "      <td>1</td>\n",
       "      <td>1</td>\n",
       "      <td>7</td>\n",
       "      <td>Jim</td>\n",
       "      <td>Dwight</td>\n",
       "      <td>Jim-Dwight</td>\n",
       "    </tr>\n",
       "  </tbody>\n",
       "</table>\n",
       "</div>"
      ],
      "text/plain": [
       "   season  episode  scene speaker1 speaker2    speaker_pair\n",
       "0       1        1      1      Jim  Michael     Jim-Michael\n",
       "1       1        1      3  Michael      Pam     Michael-Pam\n",
       "2       1        1      7      Jim  Michael     Jim-Michael\n",
       "3       1        1      7   Dwight  Michael  Dwight-Michael\n",
       "4       1        1      7      Jim   Dwight      Jim-Dwight"
      ]
     },
     "execution_count": 4,
     "metadata": {},
     "output_type": "execute_result"
    }
   ],
   "source": [
    "# get pair\n",
    "co_df['speaker_pair'] = co_df['speaker1']+\"-\"+co_df['speaker2']\n",
    "co_df.head()"
   ]
  },
  {
   "cell_type": "code",
   "execution_count": 5,
   "metadata": {
    "ExecuteTime": {
     "end_time": "2021-04-30T11:34:31.135595Z",
     "start_time": "2021-04-30T11:34:31.100843Z"
    }
   },
   "outputs": [
    {
     "data": {
      "text/html": [
       "<div>\n",
       "<style scoped>\n",
       "    .dataframe tbody tr th:only-of-type {\n",
       "        vertical-align: middle;\n",
       "    }\n",
       "\n",
       "    .dataframe tbody tr th {\n",
       "        vertical-align: top;\n",
       "    }\n",
       "\n",
       "    .dataframe thead th {\n",
       "        text-align: right;\n",
       "    }\n",
       "</style>\n",
       "<table border=\"1\" class=\"dataframe\">\n",
       "  <thead>\n",
       "    <tr style=\"text-align: right;\">\n",
       "      <th></th>\n",
       "      <th>season</th>\n",
       "      <th>episode</th>\n",
       "      <th>scene</th>\n",
       "      <th>num_speaker_pairs</th>\n",
       "    </tr>\n",
       "  </thead>\n",
       "  <tbody>\n",
       "    <tr>\n",
       "      <th>0</th>\n",
       "      <td>1</td>\n",
       "      <td>1</td>\n",
       "      <td>1</td>\n",
       "      <td>1</td>\n",
       "    </tr>\n",
       "    <tr>\n",
       "      <th>1</th>\n",
       "      <td>1</td>\n",
       "      <td>1</td>\n",
       "      <td>3</td>\n",
       "      <td>1</td>\n",
       "    </tr>\n",
       "    <tr>\n",
       "      <th>2</th>\n",
       "      <td>1</td>\n",
       "      <td>1</td>\n",
       "      <td>7</td>\n",
       "      <td>3</td>\n",
       "    </tr>\n",
       "    <tr>\n",
       "      <th>3</th>\n",
       "      <td>1</td>\n",
       "      <td>1</td>\n",
       "      <td>10</td>\n",
       "      <td>3</td>\n",
       "    </tr>\n",
       "    <tr>\n",
       "      <th>4</th>\n",
       "      <td>1</td>\n",
       "      <td>1</td>\n",
       "      <td>11</td>\n",
       "      <td>3</td>\n",
       "    </tr>\n",
       "    <tr>\n",
       "      <th>...</th>\n",
       "      <td>...</td>\n",
       "      <td>...</td>\n",
       "      <td>...</td>\n",
       "      <td>...</td>\n",
       "    </tr>\n",
       "    <tr>\n",
       "      <th>5316</th>\n",
       "      <td>9</td>\n",
       "      <td>23</td>\n",
       "      <td>98</td>\n",
       "      <td>3</td>\n",
       "    </tr>\n",
       "    <tr>\n",
       "      <th>5317</th>\n",
       "      <td>9</td>\n",
       "      <td>23</td>\n",
       "      <td>99</td>\n",
       "      <td>3</td>\n",
       "    </tr>\n",
       "    <tr>\n",
       "      <th>5318</th>\n",
       "      <td>9</td>\n",
       "      <td>23</td>\n",
       "      <td>101</td>\n",
       "      <td>3</td>\n",
       "    </tr>\n",
       "    <tr>\n",
       "      <th>5319</th>\n",
       "      <td>9</td>\n",
       "      <td>23</td>\n",
       "      <td>107</td>\n",
       "      <td>6</td>\n",
       "    </tr>\n",
       "    <tr>\n",
       "      <th>5320</th>\n",
       "      <td>9</td>\n",
       "      <td>23</td>\n",
       "      <td>108</td>\n",
       "      <td>1</td>\n",
       "    </tr>\n",
       "  </tbody>\n",
       "</table>\n",
       "<p>5321 rows × 4 columns</p>\n",
       "</div>"
      ],
      "text/plain": [
       "      season  episode  scene  num_speaker_pairs\n",
       "0          1        1      1                  1\n",
       "1          1        1      3                  1\n",
       "2          1        1      7                  3\n",
       "3          1        1     10                  3\n",
       "4          1        1     11                  3\n",
       "...      ...      ...    ...                ...\n",
       "5316       9       23     98                  3\n",
       "5317       9       23     99                  3\n",
       "5318       9       23    101                  3\n",
       "5319       9       23    107                  6\n",
       "5320       9       23    108                  1\n",
       "\n",
       "[5321 rows x 4 columns]"
      ]
     },
     "execution_count": 5,
     "metadata": {},
     "output_type": "execute_result"
    }
   ],
   "source": [
    "#Get number of speakers per scene\n",
    "num_speakers_pairs_per_scene = co_df.groupby(['season','episode','scene'])['speaker_pair'].nunique()\\\n",
    "                                 .reset_index(name='num_speaker_pairs')\n",
    "num_speakers_pairs_per_scene"
   ]
  },
  {
   "cell_type": "code",
   "execution_count": 6,
   "metadata": {
    "ExecuteTime": {
     "end_time": "2021-04-30T11:35:20.554173Z",
     "start_time": "2021-04-30T11:35:20.514521Z"
    }
   },
   "outputs": [
    {
     "data": {
      "text/html": [
       "<div>\n",
       "<style scoped>\n",
       "    .dataframe tbody tr th:only-of-type {\n",
       "        vertical-align: middle;\n",
       "    }\n",
       "\n",
       "    .dataframe tbody tr th {\n",
       "        vertical-align: top;\n",
       "    }\n",
       "\n",
       "    .dataframe thead th {\n",
       "        text-align: right;\n",
       "    }\n",
       "</style>\n",
       "<table border=\"1\" class=\"dataframe\">\n",
       "  <thead>\n",
       "    <tr style=\"text-align: right;\">\n",
       "      <th></th>\n",
       "      <th>season</th>\n",
       "      <th>episode</th>\n",
       "      <th>scene</th>\n",
       "      <th>speaker1</th>\n",
       "      <th>speaker2</th>\n",
       "      <th>speaker_pair</th>\n",
       "      <th>num_speaker_pairs</th>\n",
       "    </tr>\n",
       "  </thead>\n",
       "  <tbody>\n",
       "    <tr>\n",
       "      <th>0</th>\n",
       "      <td>1</td>\n",
       "      <td>1</td>\n",
       "      <td>1</td>\n",
       "      <td>Jim</td>\n",
       "      <td>Michael</td>\n",
       "      <td>Jim-Michael</td>\n",
       "      <td>1</td>\n",
       "    </tr>\n",
       "    <tr>\n",
       "      <th>1</th>\n",
       "      <td>1</td>\n",
       "      <td>1</td>\n",
       "      <td>3</td>\n",
       "      <td>Michael</td>\n",
       "      <td>Pam</td>\n",
       "      <td>Michael-Pam</td>\n",
       "      <td>1</td>\n",
       "    </tr>\n",
       "    <tr>\n",
       "      <th>2</th>\n",
       "      <td>1</td>\n",
       "      <td>1</td>\n",
       "      <td>7</td>\n",
       "      <td>Jim</td>\n",
       "      <td>Michael</td>\n",
       "      <td>Jim-Michael</td>\n",
       "      <td>3</td>\n",
       "    </tr>\n",
       "    <tr>\n",
       "      <th>3</th>\n",
       "      <td>1</td>\n",
       "      <td>1</td>\n",
       "      <td>7</td>\n",
       "      <td>Dwight</td>\n",
       "      <td>Michael</td>\n",
       "      <td>Dwight-Michael</td>\n",
       "      <td>3</td>\n",
       "    </tr>\n",
       "    <tr>\n",
       "      <th>4</th>\n",
       "      <td>1</td>\n",
       "      <td>1</td>\n",
       "      <td>7</td>\n",
       "      <td>Jim</td>\n",
       "      <td>Dwight</td>\n",
       "      <td>Jim-Dwight</td>\n",
       "      <td>3</td>\n",
       "    </tr>\n",
       "    <tr>\n",
       "      <th>...</th>\n",
       "      <td>...</td>\n",
       "      <td>...</td>\n",
       "      <td>...</td>\n",
       "      <td>...</td>\n",
       "      <td>...</td>\n",
       "      <td>...</td>\n",
       "      <td>...</td>\n",
       "    </tr>\n",
       "    <tr>\n",
       "      <th>21683</th>\n",
       "      <td>9</td>\n",
       "      <td>23</td>\n",
       "      <td>107</td>\n",
       "      <td>Phyllis</td>\n",
       "      <td>Angela</td>\n",
       "      <td>Phyllis-Angela</td>\n",
       "      <td>6</td>\n",
       "    </tr>\n",
       "    <tr>\n",
       "      <th>21684</th>\n",
       "      <td>9</td>\n",
       "      <td>23</td>\n",
       "      <td>107</td>\n",
       "      <td>Jim</td>\n",
       "      <td>Creed</td>\n",
       "      <td>Jim-Creed</td>\n",
       "      <td>6</td>\n",
       "    </tr>\n",
       "    <tr>\n",
       "      <th>21685</th>\n",
       "      <td>9</td>\n",
       "      <td>23</td>\n",
       "      <td>107</td>\n",
       "      <td>Jim</td>\n",
       "      <td>Angela</td>\n",
       "      <td>Jim-Angela</td>\n",
       "      <td>6</td>\n",
       "    </tr>\n",
       "    <tr>\n",
       "      <th>21686</th>\n",
       "      <td>9</td>\n",
       "      <td>23</td>\n",
       "      <td>107</td>\n",
       "      <td>Angela</td>\n",
       "      <td>Creed</td>\n",
       "      <td>Angela-Creed</td>\n",
       "      <td>6</td>\n",
       "    </tr>\n",
       "    <tr>\n",
       "      <th>21687</th>\n",
       "      <td>9</td>\n",
       "      <td>23</td>\n",
       "      <td>108</td>\n",
       "      <td>Kevin</td>\n",
       "      <td>Oscar</td>\n",
       "      <td>Kevin-Oscar</td>\n",
       "      <td>1</td>\n",
       "    </tr>\n",
       "  </tbody>\n",
       "</table>\n",
       "<p>21688 rows × 7 columns</p>\n",
       "</div>"
      ],
      "text/plain": [
       "       season  episode  scene speaker1 speaker2    speaker_pair  \\\n",
       "0           1        1      1      Jim  Michael     Jim-Michael   \n",
       "1           1        1      3  Michael      Pam     Michael-Pam   \n",
       "2           1        1      7      Jim  Michael     Jim-Michael   \n",
       "3           1        1      7   Dwight  Michael  Dwight-Michael   \n",
       "4           1        1      7      Jim   Dwight      Jim-Dwight   \n",
       "...       ...      ...    ...      ...      ...             ...   \n",
       "21683       9       23    107  Phyllis   Angela  Phyllis-Angela   \n",
       "21684       9       23    107      Jim    Creed       Jim-Creed   \n",
       "21685       9       23    107      Jim   Angela      Jim-Angela   \n",
       "21686       9       23    107   Angela    Creed    Angela-Creed   \n",
       "21687       9       23    108    Kevin    Oscar     Kevin-Oscar   \n",
       "\n",
       "       num_speaker_pairs  \n",
       "0                      1  \n",
       "1                      1  \n",
       "2                      3  \n",
       "3                      3  \n",
       "4                      3  \n",
       "...                  ...  \n",
       "21683                  6  \n",
       "21684                  6  \n",
       "21685                  6  \n",
       "21686                  6  \n",
       "21687                  1  \n",
       "\n",
       "[21688 rows x 7 columns]"
      ]
     },
     "execution_count": 6,
     "metadata": {},
     "output_type": "execute_result"
    }
   ],
   "source": [
    "co_df = co_df.merge(num_speakers_pairs_per_scene, on=['season','episode','scene'], how='left')\n",
    "co_df"
   ]
  },
  {
   "cell_type": "code",
   "execution_count": 7,
   "metadata": {
    "ExecuteTime": {
     "end_time": "2021-04-30T11:35:48.431367Z",
     "start_time": "2021-04-30T11:35:48.272685Z"
    }
   },
   "outputs": [
    {
     "data": {
      "text/html": [
       "<div>\n",
       "<style scoped>\n",
       "    .dataframe tbody tr th:only-of-type {\n",
       "        vertical-align: middle;\n",
       "    }\n",
       "\n",
       "    .dataframe tbody tr th {\n",
       "        vertical-align: top;\n",
       "    }\n",
       "\n",
       "    .dataframe thead th {\n",
       "        text-align: right;\n",
       "    }\n",
       "</style>\n",
       "<table border=\"1\" class=\"dataframe\">\n",
       "  <thead>\n",
       "    <tr style=\"text-align: right;\">\n",
       "      <th></th>\n",
       "      <th>season</th>\n",
       "      <th>episode</th>\n",
       "      <th>scene</th>\n",
       "      <th>speaker1</th>\n",
       "      <th>speaker2</th>\n",
       "      <th>speaker_pair</th>\n",
       "      <th>num_speaker_pairs</th>\n",
       "      <th>interaction_factor</th>\n",
       "    </tr>\n",
       "  </thead>\n",
       "  <tbody>\n",
       "    <tr>\n",
       "      <th>0</th>\n",
       "      <td>1</td>\n",
       "      <td>1</td>\n",
       "      <td>1</td>\n",
       "      <td>Jim</td>\n",
       "      <td>Michael</td>\n",
       "      <td>Jim-Michael</td>\n",
       "      <td>1</td>\n",
       "      <td>1.000000</td>\n",
       "    </tr>\n",
       "    <tr>\n",
       "      <th>1</th>\n",
       "      <td>1</td>\n",
       "      <td>1</td>\n",
       "      <td>3</td>\n",
       "      <td>Michael</td>\n",
       "      <td>Pam</td>\n",
       "      <td>Michael-Pam</td>\n",
       "      <td>1</td>\n",
       "      <td>1.000000</td>\n",
       "    </tr>\n",
       "    <tr>\n",
       "      <th>2</th>\n",
       "      <td>1</td>\n",
       "      <td>1</td>\n",
       "      <td>7</td>\n",
       "      <td>Jim</td>\n",
       "      <td>Michael</td>\n",
       "      <td>Jim-Michael</td>\n",
       "      <td>3</td>\n",
       "      <td>0.333333</td>\n",
       "    </tr>\n",
       "    <tr>\n",
       "      <th>3</th>\n",
       "      <td>1</td>\n",
       "      <td>1</td>\n",
       "      <td>7</td>\n",
       "      <td>Dwight</td>\n",
       "      <td>Michael</td>\n",
       "      <td>Dwight-Michael</td>\n",
       "      <td>3</td>\n",
       "      <td>0.333333</td>\n",
       "    </tr>\n",
       "    <tr>\n",
       "      <th>4</th>\n",
       "      <td>1</td>\n",
       "      <td>1</td>\n",
       "      <td>7</td>\n",
       "      <td>Jim</td>\n",
       "      <td>Dwight</td>\n",
       "      <td>Jim-Dwight</td>\n",
       "      <td>3</td>\n",
       "      <td>0.333333</td>\n",
       "    </tr>\n",
       "    <tr>\n",
       "      <th>...</th>\n",
       "      <td>...</td>\n",
       "      <td>...</td>\n",
       "      <td>...</td>\n",
       "      <td>...</td>\n",
       "      <td>...</td>\n",
       "      <td>...</td>\n",
       "      <td>...</td>\n",
       "      <td>...</td>\n",
       "    </tr>\n",
       "    <tr>\n",
       "      <th>21683</th>\n",
       "      <td>9</td>\n",
       "      <td>23</td>\n",
       "      <td>107</td>\n",
       "      <td>Phyllis</td>\n",
       "      <td>Angela</td>\n",
       "      <td>Phyllis-Angela</td>\n",
       "      <td>6</td>\n",
       "      <td>0.166667</td>\n",
       "    </tr>\n",
       "    <tr>\n",
       "      <th>21684</th>\n",
       "      <td>9</td>\n",
       "      <td>23</td>\n",
       "      <td>107</td>\n",
       "      <td>Jim</td>\n",
       "      <td>Creed</td>\n",
       "      <td>Jim-Creed</td>\n",
       "      <td>6</td>\n",
       "      <td>0.166667</td>\n",
       "    </tr>\n",
       "    <tr>\n",
       "      <th>21685</th>\n",
       "      <td>9</td>\n",
       "      <td>23</td>\n",
       "      <td>107</td>\n",
       "      <td>Jim</td>\n",
       "      <td>Angela</td>\n",
       "      <td>Jim-Angela</td>\n",
       "      <td>6</td>\n",
       "      <td>0.166667</td>\n",
       "    </tr>\n",
       "    <tr>\n",
       "      <th>21686</th>\n",
       "      <td>9</td>\n",
       "      <td>23</td>\n",
       "      <td>107</td>\n",
       "      <td>Angela</td>\n",
       "      <td>Creed</td>\n",
       "      <td>Angela-Creed</td>\n",
       "      <td>6</td>\n",
       "      <td>0.166667</td>\n",
       "    </tr>\n",
       "    <tr>\n",
       "      <th>21687</th>\n",
       "      <td>9</td>\n",
       "      <td>23</td>\n",
       "      <td>108</td>\n",
       "      <td>Kevin</td>\n",
       "      <td>Oscar</td>\n",
       "      <td>Kevin-Oscar</td>\n",
       "      <td>1</td>\n",
       "      <td>1.000000</td>\n",
       "    </tr>\n",
       "  </tbody>\n",
       "</table>\n",
       "<p>21688 rows × 8 columns</p>\n",
       "</div>"
      ],
      "text/plain": [
       "       season  episode  scene speaker1 speaker2    speaker_pair  \\\n",
       "0           1        1      1      Jim  Michael     Jim-Michael   \n",
       "1           1        1      3  Michael      Pam     Michael-Pam   \n",
       "2           1        1      7      Jim  Michael     Jim-Michael   \n",
       "3           1        1      7   Dwight  Michael  Dwight-Michael   \n",
       "4           1        1      7      Jim   Dwight      Jim-Dwight   \n",
       "...       ...      ...    ...      ...      ...             ...   \n",
       "21683       9       23    107  Phyllis   Angela  Phyllis-Angela   \n",
       "21684       9       23    107      Jim    Creed       Jim-Creed   \n",
       "21685       9       23    107      Jim   Angela      Jim-Angela   \n",
       "21686       9       23    107   Angela    Creed    Angela-Creed   \n",
       "21687       9       23    108    Kevin    Oscar     Kevin-Oscar   \n",
       "\n",
       "       num_speaker_pairs  interaction_factor  \n",
       "0                      1            1.000000  \n",
       "1                      1            1.000000  \n",
       "2                      3            0.333333  \n",
       "3                      3            0.333333  \n",
       "4                      3            0.333333  \n",
       "...                  ...                 ...  \n",
       "21683                  6            0.166667  \n",
       "21684                  6            0.166667  \n",
       "21685                  6            0.166667  \n",
       "21686                  6            0.166667  \n",
       "21687                  1            1.000000  \n",
       "\n",
       "[21688 rows x 8 columns]"
      ]
     },
     "execution_count": 7,
     "metadata": {},
     "output_type": "execute_result"
    }
   ],
   "source": [
    "co_df['interaction_factor'] =1/co_df['num_speaker_pairs']\n",
    "co_df"
   ]
  },
  {
   "cell_type": "code",
   "execution_count": 8,
   "metadata": {
    "ExecuteTime": {
     "end_time": "2021-04-30T11:36:16.945294Z",
     "start_time": "2021-04-30T11:36:16.744319Z"
    }
   },
   "outputs": [],
   "source": [
    "#save table with interaction factor\n",
    "co_df.to_csv('data/the_office_speaker_pair_interaction_factors.csv', index=False)"
   ]
  },
  {
   "cell_type": "markdown",
   "metadata": {},
   "source": [
    "## Build edgelist table\n",
    "\n",
    "Our python network library `networkx` requires a specific pandas dataframe format to create a network out of it.\n",
    "\n",
    "An *edgelist* is one way of representing a network in table form.\n",
    "\n",
    "An edgelist is composed of at least 2 columns: 2 columns for the 2 nodes that are to be connected with an edge, and optionally, a third column containing a measure of the strength of the connection.\n",
    "\n",
    "Our co-occurence table is an example of an edgelist table\n"
   ]
  },
  {
   "cell_type": "code",
   "execution_count": 9,
   "metadata": {
    "ExecuteTime": {
     "end_time": "2021-04-30T11:37:32.369177Z",
     "start_time": "2021-04-30T11:37:32.337827Z"
    }
   },
   "outputs": [
    {
     "data": {
      "text/html": [
       "<div>\n",
       "<style scoped>\n",
       "    .dataframe tbody tr th:only-of-type {\n",
       "        vertical-align: middle;\n",
       "    }\n",
       "\n",
       "    .dataframe tbody tr th {\n",
       "        vertical-align: top;\n",
       "    }\n",
       "\n",
       "    .dataframe thead th {\n",
       "        text-align: right;\n",
       "    }\n",
       "</style>\n",
       "<table border=\"1\" class=\"dataframe\">\n",
       "  <thead>\n",
       "    <tr style=\"text-align: right;\">\n",
       "      <th></th>\n",
       "      <th>speaker1</th>\n",
       "      <th>speaker2</th>\n",
       "      <th>total_interaction_factor</th>\n",
       "    </tr>\n",
       "  </thead>\n",
       "  <tbody>\n",
       "    <tr>\n",
       "      <th>110</th>\n",
       "      <td>DeAngelo</td>\n",
       "      <td>Creed</td>\n",
       "      <td>0.012821</td>\n",
       "    </tr>\n",
       "    <tr>\n",
       "      <th>111</th>\n",
       "      <td>DeAngelo</td>\n",
       "      <td>Oscar</td>\n",
       "      <td>0.012821</td>\n",
       "    </tr>\n",
       "    <tr>\n",
       "      <th>113</th>\n",
       "      <td>DeAngelo</td>\n",
       "      <td>Ryan</td>\n",
       "      <td>0.012821</td>\n",
       "    </tr>\n",
       "    <tr>\n",
       "      <th>494</th>\n",
       "      <td>Phyllis</td>\n",
       "      <td>DeAngelo</td>\n",
       "      <td>0.022222</td>\n",
       "    </tr>\n",
       "    <tr>\n",
       "      <th>28</th>\n",
       "      <td>Angela</td>\n",
       "      <td>Jo</td>\n",
       "      <td>0.022222</td>\n",
       "    </tr>\n",
       "    <tr>\n",
       "      <th>...</th>\n",
       "      <td>...</td>\n",
       "      <td>...</td>\n",
       "      <td>...</td>\n",
       "    </tr>\n",
       "    <tr>\n",
       "      <th>255</th>\n",
       "      <td>Jim</td>\n",
       "      <td>Michael</td>\n",
       "      <td>156.731197</td>\n",
       "    </tr>\n",
       "    <tr>\n",
       "      <th>416</th>\n",
       "      <td>Michael</td>\n",
       "      <td>Pam</td>\n",
       "      <td>200.843173</td>\n",
       "    </tr>\n",
       "    <tr>\n",
       "      <th>242</th>\n",
       "      <td>Jim</td>\n",
       "      <td>Dwight</td>\n",
       "      <td>260.987302</td>\n",
       "    </tr>\n",
       "    <tr>\n",
       "      <th>151</th>\n",
       "      <td>Dwight</td>\n",
       "      <td>Michael</td>\n",
       "      <td>343.880281</td>\n",
       "    </tr>\n",
       "    <tr>\n",
       "      <th>258</th>\n",
       "      <td>Jim</td>\n",
       "      <td>Pam</td>\n",
       "      <td>383.069242</td>\n",
       "    </tr>\n",
       "  </tbody>\n",
       "</table>\n",
       "<p>627 rows × 3 columns</p>\n",
       "</div>"
      ],
      "text/plain": [
       "     speaker1  speaker2  total_interaction_factor\n",
       "110  DeAngelo     Creed                  0.012821\n",
       "111  DeAngelo     Oscar                  0.012821\n",
       "113  DeAngelo      Ryan                  0.012821\n",
       "494   Phyllis  DeAngelo                  0.022222\n",
       "28     Angela        Jo                  0.022222\n",
       "..        ...       ...                       ...\n",
       "255       Jim   Michael                156.731197\n",
       "416   Michael       Pam                200.843173\n",
       "242       Jim    Dwight                260.987302\n",
       "151    Dwight   Michael                343.880281\n",
       "258       Jim       Pam                383.069242\n",
       "\n",
       "[627 rows x 3 columns]"
      ]
     },
     "execution_count": 9,
     "metadata": {},
     "output_type": "execute_result"
    }
   ],
   "source": [
    "#full series\n",
    "data = co_df.groupby(['speaker1','speaker2'])['interaction_factor'].sum().reset_index(name='total_interaction_factor')\n",
    "data.sort_values('total_interaction_factor')"
   ]
  },
  {
   "cell_type": "code",
   "execution_count": 10,
   "metadata": {
    "ExecuteTime": {
     "end_time": "2021-04-30T11:38:14.744629Z",
     "start_time": "2021-04-30T11:38:14.307269Z"
    }
   },
   "outputs": [
    {
     "data": {
      "text/plain": [
       "<matplotlib.axes._subplots.AxesSubplot at 0x7f3f5a216f70>"
      ]
     },
     "execution_count": 10,
     "metadata": {},
     "output_type": "execute_result"
    },
    {
     "data": {
      "image/png": "[encoded data removed]",
      "text/plain": [
       "<Figure size 432x288 with 1 Axes>"
      ]
     },
     "metadata": {
      "needs_background": "light"
     },
     "output_type": "display_data"
    }
   ],
   "source": [
    "#check histogram\n",
    "data['total_interaction_factor'].hist()"
   ]
  },
  {
   "cell_type": "markdown",
   "metadata": {},
   "source": [
    "**Filter 1**: Remove pairs with total_interaction_factor<2"
   ]
  },
  {
   "cell_type": "code",
   "execution_count": 11,
   "metadata": {
    "ExecuteTime": {
     "end_time": "2021-04-30T11:40:31.928878Z",
     "start_time": "2021-04-30T11:40:31.921023Z"
    }
   },
   "outputs": [],
   "source": [
    "data = data[data['total_interaction_factor']>2]"
   ]
  },
  {
   "cell_type": "code",
   "execution_count": 12,
   "metadata": {
    "ExecuteTime": {
     "end_time": "2021-04-30T11:40:40.472955Z",
     "start_time": "2021-04-30T11:40:40.466110Z"
    }
   },
   "outputs": [
    {
     "data": {
      "text/plain": [
       "276"
      ]
     },
     "execution_count": 12,
     "metadata": {},
     "output_type": "execute_result"
    }
   ],
   "source": [
    "len(data)"
   ]
  },
  {
   "cell_type": "markdown",
   "metadata": {},
   "source": [
    "**Filter 2**: Get only top N interacting speaker pairs"
   ]
  },
  {
   "cell_type": "code",
   "execution_count": 14,
   "metadata": {
    "ExecuteTime": {
     "end_time": "2021-04-30T11:42:10.488663Z",
     "start_time": "2021-04-30T11:42:10.476159Z"
    }
   },
   "outputs": [
    {
     "data": {
      "text/plain": [
       "29.308920246420257"
      ]
     },
     "execution_count": 14,
     "metadata": {},
     "output_type": "execute_result"
    }
   ],
   "source": [
    "#use quantiles to get a threshold\n",
    "threshold = data['total_interaction_factor'].quantile(0.85)\n",
    "threshold"
   ]
  },
  {
   "cell_type": "code",
   "execution_count": 15,
   "metadata": {
    "ExecuteTime": {
     "end_time": "2021-04-30T11:42:30.990310Z",
     "start_time": "2021-04-30T11:42:30.977596Z"
    }
   },
   "outputs": [
    {
     "name": "stdout",
     "output_type": "stream",
     "text": [
      "276\n",
      "42\n"
     ]
    }
   ],
   "source": [
    "print(len(data))\n",
    "network_data = data[data['total_interaction_factor']>threshold]\n",
    "print(len(network_data))"
   ]
  },
  {
   "cell_type": "code",
   "execution_count": 16,
   "metadata": {
    "ExecuteTime": {
     "end_time": "2021-04-30T11:42:41.624113Z",
     "start_time": "2021-04-30T11:42:41.598015Z"
    },
    "scrolled": true
   },
   "outputs": [
    {
     "data": {
      "text/html": [
       "<div>\n",
       "<style scoped>\n",
       "    .dataframe tbody tr th:only-of-type {\n",
       "        vertical-align: middle;\n",
       "    }\n",
       "\n",
       "    .dataframe tbody tr th {\n",
       "        vertical-align: top;\n",
       "    }\n",
       "\n",
       "    .dataframe thead th {\n",
       "        text-align: right;\n",
       "    }\n",
       "</style>\n",
       "<table border=\"1\" class=\"dataframe\">\n",
       "  <thead>\n",
       "    <tr style=\"text-align: right;\">\n",
       "      <th></th>\n",
       "      <th>speaker1</th>\n",
       "      <th>speaker2</th>\n",
       "      <th>total_interaction_factor</th>\n",
       "    </tr>\n",
       "  </thead>\n",
       "  <tbody>\n",
       "    <tr>\n",
       "      <th>263</th>\n",
       "      <td>Jim</td>\n",
       "      <td>Ryan</td>\n",
       "      <td>29.327950</td>\n",
       "    </tr>\n",
       "    <tr>\n",
       "      <th>344</th>\n",
       "      <td>Kevin</td>\n",
       "      <td>Dwight</td>\n",
       "      <td>30.328571</td>\n",
       "    </tr>\n",
       "    <tr>\n",
       "      <th>153</th>\n",
       "      <td>Dwight</td>\n",
       "      <td>Oscar</td>\n",
       "      <td>31.473016</td>\n",
       "    </tr>\n",
       "    <tr>\n",
       "      <th>12</th>\n",
       "      <td>Angela</td>\n",
       "      <td>Andy</td>\n",
       "      <td>32.018448</td>\n",
       "    </tr>\n",
       "    <tr>\n",
       "      <th>143</th>\n",
       "      <td>Dwight</td>\n",
       "      <td>Erin</td>\n",
       "      <td>33.816450</td>\n",
       "    </tr>\n",
       "    <tr>\n",
       "      <th>32</th>\n",
       "      <td>Angela</td>\n",
       "      <td>Michael</td>\n",
       "      <td>34.847813</td>\n",
       "    </tr>\n",
       "    <tr>\n",
       "      <th>328</th>\n",
       "      <td>Kelly</td>\n",
       "      <td>Ryan</td>\n",
       "      <td>35.644616</td>\n",
       "    </tr>\n",
       "    <tr>\n",
       "      <th>406</th>\n",
       "      <td>Michael</td>\n",
       "      <td>David</td>\n",
       "      <td>36.166667</td>\n",
       "    </tr>\n",
       "    <tr>\n",
       "      <th>331</th>\n",
       "      <td>Kevin</td>\n",
       "      <td>Andy</td>\n",
       "      <td>37.882784</td>\n",
       "    </tr>\n",
       "    <tr>\n",
       "      <th>351</th>\n",
       "      <td>Kevin</td>\n",
       "      <td>Jim</td>\n",
       "      <td>37.962149</td>\n",
       "    </tr>\n",
       "    <tr>\n",
       "      <th>361</th>\n",
       "      <td>Kevin</td>\n",
       "      <td>Pam</td>\n",
       "      <td>38.433528</td>\n",
       "    </tr>\n",
       "    <tr>\n",
       "      <th>507</th>\n",
       "      <td>Phyllis</td>\n",
       "      <td>Michael</td>\n",
       "      <td>38.884371</td>\n",
       "    </tr>\n",
       "    <tr>\n",
       "      <th>495</th>\n",
       "      <td>Phyllis</td>\n",
       "      <td>Dwight</td>\n",
       "      <td>38.915995</td>\n",
       "    </tr>\n",
       "    <tr>\n",
       "      <th>35</th>\n",
       "      <td>Angela</td>\n",
       "      <td>Pam</td>\n",
       "      <td>39.631025</td>\n",
       "    </tr>\n",
       "    <tr>\n",
       "      <th>332</th>\n",
       "      <td>Kevin</td>\n",
       "      <td>Angela</td>\n",
       "      <td>39.843723</td>\n",
       "    </tr>\n",
       "    <tr>\n",
       "      <th>5</th>\n",
       "      <td>Andy</td>\n",
       "      <td>Erin</td>\n",
       "      <td>40.738023</td>\n",
       "    </tr>\n",
       "    <tr>\n",
       "      <th>570</th>\n",
       "      <td>Stanley</td>\n",
       "      <td>Michael</td>\n",
       "      <td>42.139927</td>\n",
       "    </tr>\n",
       "    <tr>\n",
       "      <th>360</th>\n",
       "      <td>Kevin</td>\n",
       "      <td>Oscar</td>\n",
       "      <td>42.702625</td>\n",
       "    </tr>\n",
       "    <tr>\n",
       "      <th>410</th>\n",
       "      <td>Michael</td>\n",
       "      <td>Erin</td>\n",
       "      <td>43.053030</td>\n",
       "    </tr>\n",
       "    <tr>\n",
       "      <th>8</th>\n",
       "      <td>Andy</td>\n",
       "      <td>Pam</td>\n",
       "      <td>43.317777</td>\n",
       "    </tr>\n",
       "    <tr>\n",
       "      <th>34</th>\n",
       "      <td>Angela</td>\n",
       "      <td>Oscar</td>\n",
       "      <td>44.463564</td>\n",
       "    </tr>\n",
       "    <tr>\n",
       "      <th>157</th>\n",
       "      <td>Dwight</td>\n",
       "      <td>Ryan</td>\n",
       "      <td>44.536558</td>\n",
       "    </tr>\n",
       "    <tr>\n",
       "      <th>82</th>\n",
       "      <td>Darryl</td>\n",
       "      <td>Michael</td>\n",
       "      <td>45.729537</td>\n",
       "    </tr>\n",
       "    <tr>\n",
       "      <th>72</th>\n",
       "      <td>Darryl</td>\n",
       "      <td>Andy</td>\n",
       "      <td>46.727228</td>\n",
       "    </tr>\n",
       "    <tr>\n",
       "      <th>289</th>\n",
       "      <td>Karen</td>\n",
       "      <td>Jim</td>\n",
       "      <td>46.750000</td>\n",
       "    </tr>\n",
       "    <tr>\n",
       "      <th>419</th>\n",
       "      <td>Michael</td>\n",
       "      <td>Toby</td>\n",
       "      <td>52.467827</td>\n",
       "    </tr>\n",
       "    <tr>\n",
       "      <th>357</th>\n",
       "      <td>Kevin</td>\n",
       "      <td>Michael</td>\n",
       "      <td>55.201038</td>\n",
       "    </tr>\n",
       "    <tr>\n",
       "      <th>415</th>\n",
       "      <td>Michael</td>\n",
       "      <td>Oscar</td>\n",
       "      <td>58.601038</td>\n",
       "    </tr>\n",
       "    <tr>\n",
       "      <th>160</th>\n",
       "      <td>Erin</td>\n",
       "      <td>Andy</td>\n",
       "      <td>59.029221</td>\n",
       "    </tr>\n",
       "    <tr>\n",
       "      <th>402</th>\n",
       "      <td>Michael</td>\n",
       "      <td>Andy</td>\n",
       "      <td>63.811477</td>\n",
       "    </tr>\n",
       "    <tr>\n",
       "      <th>411</th>\n",
       "      <td>Michael</td>\n",
       "      <td>Holly</td>\n",
       "      <td>67.163614</td>\n",
       "    </tr>\n",
       "    <tr>\n",
       "      <th>418</th>\n",
       "      <td>Michael</td>\n",
       "      <td>Ryan</td>\n",
       "      <td>83.944811</td>\n",
       "    </tr>\n",
       "    <tr>\n",
       "      <th>154</th>\n",
       "      <td>Dwight</td>\n",
       "      <td>Pam</td>\n",
       "      <td>92.277850</td>\n",
       "    </tr>\n",
       "    <tr>\n",
       "      <th>228</th>\n",
       "      <td>Jim</td>\n",
       "      <td>Andy</td>\n",
       "      <td>92.804212</td>\n",
       "    </tr>\n",
       "    <tr>\n",
       "      <th>412</th>\n",
       "      <td>Michael</td>\n",
       "      <td>Jan</td>\n",
       "      <td>95.785714</td>\n",
       "    </tr>\n",
       "    <tr>\n",
       "      <th>132</th>\n",
       "      <td>Dwight</td>\n",
       "      <td>Andy</td>\n",
       "      <td>96.831868</td>\n",
       "    </tr>\n",
       "    <tr>\n",
       "      <th>21</th>\n",
       "      <td>Angela</td>\n",
       "      <td>Dwight</td>\n",
       "      <td>105.482734</td>\n",
       "    </tr>\n",
       "    <tr>\n",
       "      <th>255</th>\n",
       "      <td>Jim</td>\n",
       "      <td>Michael</td>\n",
       "      <td>156.731197</td>\n",
       "    </tr>\n",
       "    <tr>\n",
       "      <th>416</th>\n",
       "      <td>Michael</td>\n",
       "      <td>Pam</td>\n",
       "      <td>200.843173</td>\n",
       "    </tr>\n",
       "    <tr>\n",
       "      <th>242</th>\n",
       "      <td>Jim</td>\n",
       "      <td>Dwight</td>\n",
       "      <td>260.987302</td>\n",
       "    </tr>\n",
       "    <tr>\n",
       "      <th>151</th>\n",
       "      <td>Dwight</td>\n",
       "      <td>Michael</td>\n",
       "      <td>343.880281</td>\n",
       "    </tr>\n",
       "    <tr>\n",
       "      <th>258</th>\n",
       "      <td>Jim</td>\n",
       "      <td>Pam</td>\n",
       "      <td>383.069242</td>\n",
       "    </tr>\n",
       "  </tbody>\n",
       "</table>\n",
       "</div>"
      ],
      "text/plain": [
       "    speaker1 speaker2  total_interaction_factor\n",
       "263      Jim     Ryan                 29.327950\n",
       "344    Kevin   Dwight                 30.328571\n",
       "153   Dwight    Oscar                 31.473016\n",
       "12    Angela     Andy                 32.018448\n",
       "143   Dwight     Erin                 33.816450\n",
       "32    Angela  Michael                 34.847813\n",
       "328    Kelly     Ryan                 35.644616\n",
       "406  Michael    David                 36.166667\n",
       "331    Kevin     Andy                 37.882784\n",
       "351    Kevin      Jim                 37.962149\n",
       "361    Kevin      Pam                 38.433528\n",
       "507  Phyllis  Michael                 38.884371\n",
       "495  Phyllis   Dwight                 38.915995\n",
       "35    Angela      Pam                 39.631025\n",
       "332    Kevin   Angela                 39.843723\n",
       "5       Andy     Erin                 40.738023\n",
       "570  Stanley  Michael                 42.139927\n",
       "360    Kevin    Oscar                 42.702625\n",
       "410  Michael     Erin                 43.053030\n",
       "8       Andy      Pam                 43.317777\n",
       "34    Angela    Oscar                 44.463564\n",
       "157   Dwight     Ryan                 44.536558\n",
       "82    Darryl  Michael                 45.729537\n",
       "72    Darryl     Andy                 46.727228\n",
       "289    Karen      Jim                 46.750000\n",
       "419  Michael     Toby                 52.467827\n",
       "357    Kevin  Michael                 55.201038\n",
       "415  Michael    Oscar                 58.601038\n",
       "160     Erin     Andy                 59.029221\n",
       "402  Michael     Andy                 63.811477\n",
       "411  Michael    Holly                 67.163614\n",
       "418  Michael     Ryan                 83.944811\n",
       "154   Dwight      Pam                 92.277850\n",
       "228      Jim     Andy                 92.804212\n",
       "412  Michael      Jan                 95.785714\n",
       "132   Dwight     Andy                 96.831868\n",
       "21    Angela   Dwight                105.482734\n",
       "255      Jim  Michael                156.731197\n",
       "416  Michael      Pam                200.843173\n",
       "242      Jim   Dwight                260.987302\n",
       "151   Dwight  Michael                343.880281\n",
       "258      Jim      Pam                383.069242"
      ]
     },
     "execution_count": 16,
     "metadata": {},
     "output_type": "execute_result"
    }
   ],
   "source": [
    "network_data.sort_values('total_interaction_factor')"
   ]
  },
  {
   "cell_type": "markdown",
   "metadata": {},
   "source": [
    "## Constructing the network"
   ]
  },
  {
   "cell_type": "code",
   "execution_count": 17,
   "metadata": {
    "ExecuteTime": {
     "end_time": "2021-04-30T11:45:20.677901Z",
     "start_time": "2021-04-30T11:45:15.495345Z"
    }
   },
   "outputs": [],
   "source": [
    "import networkx as nx"
   ]
  },
  {
   "cell_type": "code",
   "execution_count": 18,
   "metadata": {
    "ExecuteTime": {
     "end_time": "2021-04-30T11:46:15.507308Z",
     "start_time": "2021-04-30T11:46:15.502928Z"
    }
   },
   "outputs": [],
   "source": [
    "#build network from edgelist\n",
    "G = nx.from_pandas_edgelist(network_data, source='speaker1', target='speaker2', edge_attr='total_interaction_factor')\n"
   ]
  },
  {
   "cell_type": "code",
   "execution_count": 19,
   "metadata": {
    "ExecuteTime": {
     "end_time": "2021-04-30T11:46:30.125130Z",
     "start_time": "2021-04-30T11:46:29.758751Z"
    }
   },
   "outputs": [
    {
     "data": {
      "image/png": "[encoded data removed]",
      "text/plain": [
       "<Figure size 432x288 with 1 Axes>"
      ]
     },
     "metadata": {},
     "output_type": "display_data"
    }
   ],
   "source": [
    "#plot network\n",
    "nx.draw(G,with_labels = True)"
   ]
  },
  {
   "cell_type": "markdown",
   "metadata": {},
   "source": [
    "## Network Navigation and Metrics"
   ]
  },
  {
   "cell_type": "markdown",
   "metadata": {},
   "source": [
    "### Navigating the network"
   ]
  },
  {
   "cell_type": "code",
   "execution_count": 20,
   "metadata": {
    "ExecuteTime": {
     "end_time": "2021-04-30T11:47:28.769176Z",
     "start_time": "2021-04-30T11:47:28.760450Z"
    }
   },
   "outputs": [
    {
     "data": {
      "text/plain": [
       "NodeView(('Andy', 'Erin', 'Pam', 'Angela', 'Dwight', 'Michael', 'Oscar', 'Darryl', 'Ryan', 'Jim', 'Karen', 'Kelly', 'Kevin', 'David', 'Holly', 'Jan', 'Toby', 'Phyllis', 'Stanley'))"
      ]
     },
     "execution_count": 20,
     "metadata": {},
     "output_type": "execute_result"
    }
   ],
   "source": [
    "#get all nodes\n",
    "G.nodes()"
   ]
  },
  {
   "cell_type": "code",
   "execution_count": 21,
   "metadata": {
    "ExecuteTime": {
     "end_time": "2021-04-30T11:47:50.725954Z",
     "start_time": "2021-04-30T11:47:50.700119Z"
    }
   },
   "outputs": [
    {
     "data": {
      "text/plain": [
       "EdgeView([('Andy', 'Erin'), ('Andy', 'Pam'), ('Andy', 'Angela'), ('Andy', 'Darryl'), ('Andy', 'Dwight'), ('Andy', 'Jim'), ('Andy', 'Kevin'), ('Andy', 'Michael'), ('Erin', 'Dwight'), ('Erin', 'Michael'), ('Pam', 'Angela'), ('Pam', 'Dwight'), ('Pam', 'Jim'), ('Pam', 'Kevin'), ('Pam', 'Michael'), ('Angela', 'Dwight'), ('Angela', 'Michael'), ('Angela', 'Oscar'), ('Angela', 'Kevin'), ('Dwight', 'Michael'), ('Dwight', 'Oscar'), ('Dwight', 'Ryan'), ('Dwight', 'Jim'), ('Dwight', 'Kevin'), ('Dwight', 'Phyllis'), ('Michael', 'Darryl'), ('Michael', 'Jim'), ('Michael', 'Kevin'), ('Michael', 'David'), ('Michael', 'Holly'), ('Michael', 'Jan'), ('Michael', 'Oscar'), ('Michael', 'Ryan'), ('Michael', 'Toby'), ('Michael', 'Phyllis'), ('Michael', 'Stanley'), ('Oscar', 'Kevin'), ('Ryan', 'Jim'), ('Ryan', 'Kelly'), ('Jim', 'Karen'), ('Jim', 'Kevin')])"
      ]
     },
     "execution_count": 21,
     "metadata": {},
     "output_type": "execute_result"
    }
   ],
   "source": [
    "#get all edges\n",
    "G.edges()"
   ]
  },
  {
   "cell_type": "code",
   "execution_count": 22,
   "metadata": {
    "ExecuteTime": {
     "end_time": "2021-04-30T11:48:44.559617Z",
     "start_time": "2021-04-30T11:48:44.553544Z"
    }
   },
   "outputs": [
    {
     "data": {
      "text/plain": [
       "['Andy', 'Angela', 'Dwight', 'Jim', 'Kevin', 'Michael']"
      ]
     },
     "execution_count": 22,
     "metadata": {},
     "output_type": "execute_result"
    }
   ],
   "source": [
    "#get neighbors\n",
    "list(G.neighbors(\"Pam\"))"
   ]
  },
  {
   "cell_type": "markdown",
   "metadata": {},
   "source": [
    "A subgraph is a portion of a larger graph"
   ]
  },
  {
   "cell_type": "code",
   "execution_count": 23,
   "metadata": {
    "ExecuteTime": {
     "end_time": "2021-04-30T11:49:52.902447Z",
     "start_time": "2021-04-30T11:49:52.568413Z"
    }
   },
   "outputs": [
    {
     "data": {
      "image/png": "[encoded data removed]",
      "text/plain": [
       "<Figure size 432x288 with 1 Axes>"
      ]
     },
     "metadata": {},
     "output_type": "display_data"
    }
   ],
   "source": [
    "#subgraph of neighbors\n",
    "Gsub = G.subgraph(list(G.neighbors(\"Pam\"))+[\"Pam\"])\n",
    "nx.draw(Gsub,with_labels = True)"
   ]
  },
  {
   "cell_type": "code",
   "execution_count": 24,
   "metadata": {
    "ExecuteTime": {
     "end_time": "2021-04-30T11:51:08.653682Z",
     "start_time": "2021-04-30T11:51:08.648729Z"
    }
   },
   "outputs": [
    {
     "data": {
      "text/plain": [
       "['Kelly', 'Ryan', 'Michael', 'Toby']"
      ]
     },
     "execution_count": 24,
     "metadata": {},
     "output_type": "execute_result"
    }
   ],
   "source": [
    "#shortest path\n",
    "nx.shortest_path(G,\"Kelly\",\"Toby\")"
   ]
  },
  {
   "cell_type": "code",
   "execution_count": 26,
   "metadata": {
    "ExecuteTime": {
     "end_time": "2021-04-30T12:07:06.610983Z",
     "start_time": "2021-04-30T12:07:06.604180Z"
    }
   },
   "outputs": [
    {
     "name": "stdout",
     "output_type": "stream",
     "text": [
      "1.9005847953216375\n"
     ]
    }
   ],
   "source": [
    "#average path length\n",
    "print(nx.average_shortest_path_length(G))"
   ]
  },
  {
   "cell_type": "markdown",
   "metadata": {},
   "source": [
    "Average path length values: \n",
    "\n",
    "> exactly 1 = characters are 1 edge apart; all characters are directly connected to each other\n",
    "\n",
    "> 1.0 to 2.0 = characters are 1-2 edges apart\n",
    "\n",
    "> 2.0 above = characters are 2+ edges apart; a character most often stands in between 2 others (>3.0 unlikely for sitcoms)"
   ]
  },
  {
   "cell_type": "markdown",
   "metadata": {},
   "source": [
    "### Centrality Measures"
   ]
  },
  {
   "cell_type": "markdown",
   "metadata": {},
   "source": [
    "1. **Degree**\n",
    "Degree is the number of edges connected to a node. "
   ]
  },
  {
   "cell_type": "code",
   "execution_count": 27,
   "metadata": {
    "ExecuteTime": {
     "end_time": "2021-04-30T12:09:29.162286Z",
     "start_time": "2021-04-30T12:09:29.156865Z"
    }
   },
   "outputs": [
    {
     "data": {
      "text/plain": [
       "DegreeView({'Andy': 8, 'Erin': 3, 'Pam': 6, 'Angela': 6, 'Dwight': 10, 'Michael': 16, 'Oscar': 4, 'Darryl': 2, 'Ryan': 4, 'Jim': 7, 'Karen': 1, 'Kelly': 1, 'Kevin': 7, 'David': 1, 'Holly': 1, 'Jan': 1, 'Toby': 1, 'Phyllis': 2, 'Stanley': 1})"
      ]
     },
     "execution_count": 27,
     "metadata": {},
     "output_type": "execute_result"
    }
   ],
   "source": [
    "G.degree()"
   ]
  },
  {
   "cell_type": "code",
   "execution_count": 28,
   "metadata": {
    "ExecuteTime": {
     "end_time": "2021-04-30T12:10:25.762527Z",
     "start_time": "2021-04-30T12:10:25.732064Z"
    },
    "scrolled": true
   },
   "outputs": [
    {
     "data": {
      "text/html": [
       "<div>\n",
       "<style scoped>\n",
       "    .dataframe tbody tr th:only-of-type {\n",
       "        vertical-align: middle;\n",
       "    }\n",
       "\n",
       "    .dataframe tbody tr th {\n",
       "        vertical-align: top;\n",
       "    }\n",
       "\n",
       "    .dataframe thead th {\n",
       "        text-align: right;\n",
       "    }\n",
       "</style>\n",
       "<table border=\"1\" class=\"dataframe\">\n",
       "  <thead>\n",
       "    <tr style=\"text-align: right;\">\n",
       "      <th></th>\n",
       "      <th>character</th>\n",
       "      <th>degree</th>\n",
       "    </tr>\n",
       "  </thead>\n",
       "  <tbody>\n",
       "    <tr>\n",
       "      <th>0</th>\n",
       "      <td>Andy</td>\n",
       "      <td>8</td>\n",
       "    </tr>\n",
       "    <tr>\n",
       "      <th>1</th>\n",
       "      <td>Erin</td>\n",
       "      <td>3</td>\n",
       "    </tr>\n",
       "    <tr>\n",
       "      <th>2</th>\n",
       "      <td>Pam</td>\n",
       "      <td>6</td>\n",
       "    </tr>\n",
       "    <tr>\n",
       "      <th>3</th>\n",
       "      <td>Angela</td>\n",
       "      <td>6</td>\n",
       "    </tr>\n",
       "    <tr>\n",
       "      <th>4</th>\n",
       "      <td>Dwight</td>\n",
       "      <td>10</td>\n",
       "    </tr>\n",
       "    <tr>\n",
       "      <th>5</th>\n",
       "      <td>Michael</td>\n",
       "      <td>16</td>\n",
       "    </tr>\n",
       "    <tr>\n",
       "      <th>6</th>\n",
       "      <td>Oscar</td>\n",
       "      <td>4</td>\n",
       "    </tr>\n",
       "    <tr>\n",
       "      <th>7</th>\n",
       "      <td>Darryl</td>\n",
       "      <td>2</td>\n",
       "    </tr>\n",
       "    <tr>\n",
       "      <th>8</th>\n",
       "      <td>Ryan</td>\n",
       "      <td>4</td>\n",
       "    </tr>\n",
       "    <tr>\n",
       "      <th>9</th>\n",
       "      <td>Jim</td>\n",
       "      <td>7</td>\n",
       "    </tr>\n",
       "    <tr>\n",
       "      <th>10</th>\n",
       "      <td>Karen</td>\n",
       "      <td>1</td>\n",
       "    </tr>\n",
       "    <tr>\n",
       "      <th>11</th>\n",
       "      <td>Kelly</td>\n",
       "      <td>1</td>\n",
       "    </tr>\n",
       "    <tr>\n",
       "      <th>12</th>\n",
       "      <td>Kevin</td>\n",
       "      <td>7</td>\n",
       "    </tr>\n",
       "    <tr>\n",
       "      <th>13</th>\n",
       "      <td>David</td>\n",
       "      <td>1</td>\n",
       "    </tr>\n",
       "    <tr>\n",
       "      <th>14</th>\n",
       "      <td>Holly</td>\n",
       "      <td>1</td>\n",
       "    </tr>\n",
       "    <tr>\n",
       "      <th>15</th>\n",
       "      <td>Jan</td>\n",
       "      <td>1</td>\n",
       "    </tr>\n",
       "    <tr>\n",
       "      <th>16</th>\n",
       "      <td>Toby</td>\n",
       "      <td>1</td>\n",
       "    </tr>\n",
       "    <tr>\n",
       "      <th>17</th>\n",
       "      <td>Phyllis</td>\n",
       "      <td>2</td>\n",
       "    </tr>\n",
       "    <tr>\n",
       "      <th>18</th>\n",
       "      <td>Stanley</td>\n",
       "      <td>1</td>\n",
       "    </tr>\n",
       "  </tbody>\n",
       "</table>\n",
       "</div>"
      ],
      "text/plain": [
       "   character  degree\n",
       "0       Andy       8\n",
       "1       Erin       3\n",
       "2        Pam       6\n",
       "3     Angela       6\n",
       "4     Dwight      10\n",
       "5    Michael      16\n",
       "6      Oscar       4\n",
       "7     Darryl       2\n",
       "8       Ryan       4\n",
       "9        Jim       7\n",
       "10     Karen       1\n",
       "11     Kelly       1\n",
       "12     Kevin       7\n",
       "13     David       1\n",
       "14     Holly       1\n",
       "15       Jan       1\n",
       "16      Toby       1\n",
       "17   Phyllis       2\n",
       "18   Stanley       1"
      ]
     },
     "execution_count": 28,
     "metadata": {},
     "output_type": "execute_result"
    }
   ],
   "source": [
    "#degree\n",
    "metrics_df = pd.DataFrame(G.degree(), columns=['character','degree'])\n",
    "metrics_df"
   ]
  },
  {
   "cell_type": "markdown",
   "metadata": {},
   "source": [
    "2. **Betweenness centrality**\n",
    "Betweenness centrality measures the number of times a node is present in the shortest path between 2 other nodes"
   ]
  },
  {
   "cell_type": "code",
   "execution_count": 29,
   "metadata": {
    "ExecuteTime": {
     "end_time": "2021-04-30T12:11:19.825659Z",
     "start_time": "2021-04-30T12:11:19.819422Z"
    }
   },
   "outputs": [
    {
     "data": {
      "text/plain": [
       "{'Andy': 0.036383442265795214,\n",
       " 'Erin': 0.0,\n",
       " 'Pam': 0.0026143790849673205,\n",
       " 'Angela': 0.0032679738562091504,\n",
       " 'Dwight': 0.08976034858387799,\n",
       " 'Michael': 0.6289760348583877,\n",
       " 'Oscar': 0.0,\n",
       " 'Darryl': 0.0,\n",
       " 'Ryan': 0.11111111111111112,\n",
       " 'Jim': 0.12418300653594772,\n",
       " 'Karen': 0.0,\n",
       " 'Kelly': 0.0,\n",
       " 'Kevin': 0.010239651416122004,\n",
       " 'David': 0.0,\n",
       " 'Holly': 0.0,\n",
       " 'Jan': 0.0,\n",
       " 'Toby': 0.0,\n",
       " 'Phyllis': 0.0,\n",
       " 'Stanley': 0.0}"
      ]
     },
     "execution_count": 29,
     "metadata": {},
     "output_type": "execute_result"
    }
   ],
   "source": [
    "nx.betweenness_centrality(G)"
   ]
  },
  {
   "cell_type": "code",
   "execution_count": 30,
   "metadata": {
    "ExecuteTime": {
     "end_time": "2021-04-30T12:12:32.804309Z",
     "start_time": "2021-04-30T12:12:32.772311Z"
    },
    "scrolled": true
   },
   "outputs": [
    {
     "data": {
      "text/html": [
       "<div>\n",
       "<style scoped>\n",
       "    .dataframe tbody tr th:only-of-type {\n",
       "        vertical-align: middle;\n",
       "    }\n",
       "\n",
       "    .dataframe tbody tr th {\n",
       "        vertical-align: top;\n",
       "    }\n",
       "\n",
       "    .dataframe thead th {\n",
       "        text-align: right;\n",
       "    }\n",
       "</style>\n",
       "<table border=\"1\" class=\"dataframe\">\n",
       "  <thead>\n",
       "    <tr style=\"text-align: right;\">\n",
       "      <th></th>\n",
       "      <th>character</th>\n",
       "      <th>degree</th>\n",
       "      <th>betweenness_c</th>\n",
       "    </tr>\n",
       "  </thead>\n",
       "  <tbody>\n",
       "    <tr>\n",
       "      <th>0</th>\n",
       "      <td>Andy</td>\n",
       "      <td>8</td>\n",
       "      <td>0.036383</td>\n",
       "    </tr>\n",
       "    <tr>\n",
       "      <th>1</th>\n",
       "      <td>Erin</td>\n",
       "      <td>3</td>\n",
       "      <td>0.000000</td>\n",
       "    </tr>\n",
       "    <tr>\n",
       "      <th>2</th>\n",
       "      <td>Pam</td>\n",
       "      <td>6</td>\n",
       "      <td>0.002614</td>\n",
       "    </tr>\n",
       "    <tr>\n",
       "      <th>3</th>\n",
       "      <td>Angela</td>\n",
       "      <td>6</td>\n",
       "      <td>0.003268</td>\n",
       "    </tr>\n",
       "    <tr>\n",
       "      <th>4</th>\n",
       "      <td>Dwight</td>\n",
       "      <td>10</td>\n",
       "      <td>0.089760</td>\n",
       "    </tr>\n",
       "    <tr>\n",
       "      <th>5</th>\n",
       "      <td>Michael</td>\n",
       "      <td>16</td>\n",
       "      <td>0.628976</td>\n",
       "    </tr>\n",
       "    <tr>\n",
       "      <th>6</th>\n",
       "      <td>Oscar</td>\n",
       "      <td>4</td>\n",
       "      <td>0.000000</td>\n",
       "    </tr>\n",
       "    <tr>\n",
       "      <th>7</th>\n",
       "      <td>Darryl</td>\n",
       "      <td>2</td>\n",
       "      <td>0.000000</td>\n",
       "    </tr>\n",
       "    <tr>\n",
       "      <th>8</th>\n",
       "      <td>Ryan</td>\n",
       "      <td>4</td>\n",
       "      <td>0.111111</td>\n",
       "    </tr>\n",
       "    <tr>\n",
       "      <th>9</th>\n",
       "      <td>Jim</td>\n",
       "      <td>7</td>\n",
       "      <td>0.124183</td>\n",
       "    </tr>\n",
       "    <tr>\n",
       "      <th>10</th>\n",
       "      <td>Karen</td>\n",
       "      <td>1</td>\n",
       "      <td>0.000000</td>\n",
       "    </tr>\n",
       "    <tr>\n",
       "      <th>11</th>\n",
       "      <td>Kelly</td>\n",
       "      <td>1</td>\n",
       "      <td>0.000000</td>\n",
       "    </tr>\n",
       "    <tr>\n",
       "      <th>12</th>\n",
       "      <td>Kevin</td>\n",
       "      <td>7</td>\n",
       "      <td>0.010240</td>\n",
       "    </tr>\n",
       "    <tr>\n",
       "      <th>13</th>\n",
       "      <td>David</td>\n",
       "      <td>1</td>\n",
       "      <td>0.000000</td>\n",
       "    </tr>\n",
       "    <tr>\n",
       "      <th>14</th>\n",
       "      <td>Holly</td>\n",
       "      <td>1</td>\n",
       "      <td>0.000000</td>\n",
       "    </tr>\n",
       "    <tr>\n",
       "      <th>15</th>\n",
       "      <td>Jan</td>\n",
       "      <td>1</td>\n",
       "      <td>0.000000</td>\n",
       "    </tr>\n",
       "    <tr>\n",
       "      <th>16</th>\n",
       "      <td>Toby</td>\n",
       "      <td>1</td>\n",
       "      <td>0.000000</td>\n",
       "    </tr>\n",
       "    <tr>\n",
       "      <th>17</th>\n",
       "      <td>Phyllis</td>\n",
       "      <td>2</td>\n",
       "      <td>0.000000</td>\n",
       "    </tr>\n",
       "    <tr>\n",
       "      <th>18</th>\n",
       "      <td>Stanley</td>\n",
       "      <td>1</td>\n",
       "      <td>0.000000</td>\n",
       "    </tr>\n",
       "  </tbody>\n",
       "</table>\n",
       "</div>"
      ],
      "text/plain": [
       "   character  degree  betweenness_c\n",
       "0       Andy       8       0.036383\n",
       "1       Erin       3       0.000000\n",
       "2        Pam       6       0.002614\n",
       "3     Angela       6       0.003268\n",
       "4     Dwight      10       0.089760\n",
       "5    Michael      16       0.628976\n",
       "6      Oscar       4       0.000000\n",
       "7     Darryl       2       0.000000\n",
       "8       Ryan       4       0.111111\n",
       "9        Jim       7       0.124183\n",
       "10     Karen       1       0.000000\n",
       "11     Kelly       1       0.000000\n",
       "12     Kevin       7       0.010240\n",
       "13     David       1       0.000000\n",
       "14     Holly       1       0.000000\n",
       "15       Jan       1       0.000000\n",
       "16      Toby       1       0.000000\n",
       "17   Phyllis       2       0.000000\n",
       "18   Stanley       1       0.000000"
      ]
     },
     "execution_count": 30,
     "metadata": {},
     "output_type": "execute_result"
    }
   ],
   "source": [
    "#betweenness centrality\n",
    "bc_df = pd.DataFrame(nx.betweenness_centrality(G).items(), columns=['character','betweenness_c'])\n",
    "metrics_df = metrics_df.merge(bc_df, on='character', how='left')\n",
    "metrics_df\n",
    "#bw_vals"
   ]
  },
  {
   "cell_type": "markdown",
   "metadata": {},
   "source": [
    "3. **Eigenvector centrality**\n",
    "Eigenvector centrality measures a node’s importance while giving consideration to the importance of its neighbors. "
   ]
  },
  {
   "cell_type": "code",
   "execution_count": 31,
   "metadata": {
    "ExecuteTime": {
     "end_time": "2021-04-30T12:15:34.453266Z",
     "start_time": "2021-04-30T12:15:34.413040Z"
    }
   },
   "outputs": [
    {
     "data": {
      "text/html": [
       "<div>\n",
       "<style scoped>\n",
       "    .dataframe tbody tr th:only-of-type {\n",
       "        vertical-align: middle;\n",
       "    }\n",
       "\n",
       "    .dataframe tbody tr th {\n",
       "        vertical-align: top;\n",
       "    }\n",
       "\n",
       "    .dataframe thead th {\n",
       "        text-align: right;\n",
       "    }\n",
       "</style>\n",
       "<table border=\"1\" class=\"dataframe\">\n",
       "  <thead>\n",
       "    <tr style=\"text-align: right;\">\n",
       "      <th></th>\n",
       "      <th>character</th>\n",
       "      <th>degree</th>\n",
       "      <th>betweenness_c</th>\n",
       "      <th>eigenvector_c</th>\n",
       "    </tr>\n",
       "  </thead>\n",
       "  <tbody>\n",
       "    <tr>\n",
       "      <th>0</th>\n",
       "      <td>Andy</td>\n",
       "      <td>8</td>\n",
       "      <td>0.036383</td>\n",
       "      <td>0.341485</td>\n",
       "    </tr>\n",
       "    <tr>\n",
       "      <th>1</th>\n",
       "      <td>Erin</td>\n",
       "      <td>3</td>\n",
       "      <td>0.000000</td>\n",
       "      <td>0.171284</td>\n",
       "    </tr>\n",
       "    <tr>\n",
       "      <th>2</th>\n",
       "      <td>Pam</td>\n",
       "      <td>6</td>\n",
       "      <td>0.002614</td>\n",
       "      <td>0.305222</td>\n",
       "    </tr>\n",
       "    <tr>\n",
       "      <th>3</th>\n",
       "      <td>Angela</td>\n",
       "      <td>6</td>\n",
       "      <td>0.003268</td>\n",
       "      <td>0.294846</td>\n",
       "    </tr>\n",
       "    <tr>\n",
       "      <th>4</th>\n",
       "      <td>Dwight</td>\n",
       "      <td>10</td>\n",
       "      <td>0.089760</td>\n",
       "      <td>0.390711</td>\n",
       "    </tr>\n",
       "    <tr>\n",
       "      <th>5</th>\n",
       "      <td>Michael</td>\n",
       "      <td>16</td>\n",
       "      <td>0.628976</td>\n",
       "      <td>0.446400</td>\n",
       "    </tr>\n",
       "    <tr>\n",
       "      <th>6</th>\n",
       "      <td>Oscar</td>\n",
       "      <td>4</td>\n",
       "      <td>0.000000</td>\n",
       "      <td>0.212787</td>\n",
       "    </tr>\n",
       "    <tr>\n",
       "      <th>7</th>\n",
       "      <td>Darryl</td>\n",
       "      <td>2</td>\n",
       "      <td>0.000000</td>\n",
       "      <td>0.114502</td>\n",
       "    </tr>\n",
       "    <tr>\n",
       "      <th>8</th>\n",
       "      <td>Ryan</td>\n",
       "      <td>4</td>\n",
       "      <td>0.111111</td>\n",
       "      <td>0.168013</td>\n",
       "    </tr>\n",
       "    <tr>\n",
       "      <th>9</th>\n",
       "      <td>Jim</td>\n",
       "      <td>7</td>\n",
       "      <td>0.124183</td>\n",
       "      <td>0.294560</td>\n",
       "    </tr>\n",
       "    <tr>\n",
       "      <th>10</th>\n",
       "      <td>Karen</td>\n",
       "      <td>1</td>\n",
       "      <td>0.000000</td>\n",
       "      <td>0.042808</td>\n",
       "    </tr>\n",
       "    <tr>\n",
       "      <th>11</th>\n",
       "      <td>Kelly</td>\n",
       "      <td>1</td>\n",
       "      <td>0.000000</td>\n",
       "      <td>0.024417</td>\n",
       "    </tr>\n",
       "    <tr>\n",
       "      <th>12</th>\n",
       "      <td>Kevin</td>\n",
       "      <td>7</td>\n",
       "      <td>0.010240</td>\n",
       "      <td>0.332222</td>\n",
       "    </tr>\n",
       "    <tr>\n",
       "      <th>13</th>\n",
       "      <td>David</td>\n",
       "      <td>1</td>\n",
       "      <td>0.000000</td>\n",
       "      <td>0.064875</td>\n",
       "    </tr>\n",
       "    <tr>\n",
       "      <th>14</th>\n",
       "      <td>Holly</td>\n",
       "      <td>1</td>\n",
       "      <td>0.000000</td>\n",
       "      <td>0.064875</td>\n",
       "    </tr>\n",
       "    <tr>\n",
       "      <th>15</th>\n",
       "      <td>Jan</td>\n",
       "      <td>1</td>\n",
       "      <td>0.000000</td>\n",
       "      <td>0.064875</td>\n",
       "    </tr>\n",
       "    <tr>\n",
       "      <th>16</th>\n",
       "      <td>Toby</td>\n",
       "      <td>1</td>\n",
       "      <td>0.000000</td>\n",
       "      <td>0.064875</td>\n",
       "    </tr>\n",
       "    <tr>\n",
       "      <th>17</th>\n",
       "      <td>Phyllis</td>\n",
       "      <td>2</td>\n",
       "      <td>0.000000</td>\n",
       "      <td>0.121656</td>\n",
       "    </tr>\n",
       "    <tr>\n",
       "      <th>18</th>\n",
       "      <td>Stanley</td>\n",
       "      <td>1</td>\n",
       "      <td>0.000000</td>\n",
       "      <td>0.064875</td>\n",
       "    </tr>\n",
       "  </tbody>\n",
       "</table>\n",
       "</div>"
      ],
      "text/plain": [
       "   character  degree  betweenness_c  eigenvector_c\n",
       "0       Andy       8       0.036383       0.341485\n",
       "1       Erin       3       0.000000       0.171284\n",
       "2        Pam       6       0.002614       0.305222\n",
       "3     Angela       6       0.003268       0.294846\n",
       "4     Dwight      10       0.089760       0.390711\n",
       "5    Michael      16       0.628976       0.446400\n",
       "6      Oscar       4       0.000000       0.212787\n",
       "7     Darryl       2       0.000000       0.114502\n",
       "8       Ryan       4       0.111111       0.168013\n",
       "9        Jim       7       0.124183       0.294560\n",
       "10     Karen       1       0.000000       0.042808\n",
       "11     Kelly       1       0.000000       0.024417\n",
       "12     Kevin       7       0.010240       0.332222\n",
       "13     David       1       0.000000       0.064875\n",
       "14     Holly       1       0.000000       0.064875\n",
       "15       Jan       1       0.000000       0.064875\n",
       "16      Toby       1       0.000000       0.064875\n",
       "17   Phyllis       2       0.000000       0.121656\n",
       "18   Stanley       1       0.000000       0.064875"
      ]
     },
     "execution_count": 31,
     "metadata": {},
     "output_type": "execute_result"
    }
   ],
   "source": [
    "#eigenvector centrality\n",
    "eig_df = pd.DataFrame(nx.eigenvector_centrality(G).items()  , columns=['character','eigenvector_c'])\n",
    "metrics_df = metrics_df.merge(eig_df, on='character', how='left')\n",
    "metrics_df"
   ]
  },
  {
   "cell_type": "markdown",
   "metadata": {},
   "source": [
    "### Clustering"
   ]
  },
  {
   "cell_type": "markdown",
   "metadata": {
    "ExecuteTime": {
     "end_time": "2021-03-14T15:00:52.725000Z",
     "start_time": "2021-03-14T15:00:51.434Z"
    }
   },
   "source": [
    "A clique is a subgraph within which all nodes are connected to each other"
   ]
  },
  {
   "cell_type": "code",
   "execution_count": 32,
   "metadata": {
    "ExecuteTime": {
     "end_time": "2021-04-30T12:19:21.921140Z",
     "start_time": "2021-04-30T12:19:21.904331Z"
    }
   },
   "outputs": [
    {
     "data": {
      "text/plain": [
       "[['Andy'],\n",
       " ['Erin'],\n",
       " ['Pam'],\n",
       " ['Angela'],\n",
       " ['Dwight'],\n",
       " ['Michael'],\n",
       " ['Oscar'],\n",
       " ['Darryl'],\n",
       " ['Ryan'],\n",
       " ['Jim'],\n",
       " ['Karen'],\n",
       " ['Kelly'],\n",
       " ['Kevin'],\n",
       " ['David'],\n",
       " ['Holly'],\n",
       " ['Jan'],\n",
       " ['Toby'],\n",
       " ['Phyllis'],\n",
       " ['Stanley'],\n",
       " ['Andy', 'Erin'],\n",
       " ['Andy', 'Pam'],\n",
       " ['Andy', 'Angela'],\n",
       " ['Andy', 'Dwight'],\n",
       " ['Andy', 'Michael'],\n",
       " ['Andy', 'Darryl'],\n",
       " ['Andy', 'Jim'],\n",
       " ['Andy', 'Kevin'],\n",
       " ['Erin', 'Dwight'],\n",
       " ['Erin', 'Michael'],\n",
       " ['Pam', 'Angela'],\n",
       " ['Pam', 'Dwight'],\n",
       " ['Pam', 'Michael'],\n",
       " ['Pam', 'Jim'],\n",
       " ['Pam', 'Kevin'],\n",
       " ['Angela', 'Dwight'],\n",
       " ['Angela', 'Michael'],\n",
       " ['Angela', 'Oscar'],\n",
       " ['Angela', 'Kevin'],\n",
       " ['Dwight', 'Michael'],\n",
       " ['Dwight', 'Oscar'],\n",
       " ['Dwight', 'Ryan'],\n",
       " ['Dwight', 'Jim'],\n",
       " ['Dwight', 'Kevin'],\n",
       " ['Dwight', 'Phyllis'],\n",
       " ['Michael', 'Oscar'],\n",
       " ['Michael', 'Darryl'],\n",
       " ['Michael', 'Ryan'],\n",
       " ['Michael', 'Jim'],\n",
       " ['Michael', 'Kevin'],\n",
       " ['Michael', 'David'],\n",
       " ['Michael', 'Holly'],\n",
       " ['Michael', 'Jan'],\n",
       " ['Michael', 'Toby'],\n",
       " ['Michael', 'Phyllis'],\n",
       " ['Michael', 'Stanley'],\n",
       " ['Oscar', 'Kevin'],\n",
       " ['Ryan', 'Jim'],\n",
       " ['Ryan', 'Kelly'],\n",
       " ['Jim', 'Karen'],\n",
       " ['Jim', 'Kevin'],\n",
       " ['Andy', 'Erin', 'Dwight'],\n",
       " ['Andy', 'Erin', 'Michael'],\n",
       " ['Andy', 'Pam', 'Angela'],\n",
       " ['Andy', 'Pam', 'Dwight'],\n",
       " ['Andy', 'Pam', 'Michael'],\n",
       " ['Andy', 'Pam', 'Jim'],\n",
       " ['Andy', 'Pam', 'Kevin'],\n",
       " ['Andy', 'Angela', 'Dwight'],\n",
       " ['Andy', 'Angela', 'Michael'],\n",
       " ['Andy', 'Angela', 'Kevin'],\n",
       " ['Andy', 'Dwight', 'Michael'],\n",
       " ['Andy', 'Dwight', 'Jim'],\n",
       " ['Andy', 'Dwight', 'Kevin'],\n",
       " ['Andy', 'Michael', 'Darryl'],\n",
       " ['Andy', 'Michael', 'Jim'],\n",
       " ['Andy', 'Michael', 'Kevin'],\n",
       " ['Andy', 'Jim', 'Kevin'],\n",
       " ['Erin', 'Dwight', 'Michael'],\n",
       " ['Pam', 'Angela', 'Dwight'],\n",
       " ['Pam', 'Angela', 'Michael'],\n",
       " ['Pam', 'Angela', 'Kevin'],\n",
       " ['Pam', 'Dwight', 'Michael'],\n",
       " ['Pam', 'Dwight', 'Jim'],\n",
       " ['Pam', 'Dwight', 'Kevin'],\n",
       " ['Pam', 'Michael', 'Jim'],\n",
       " ['Pam', 'Michael', 'Kevin'],\n",
       " ['Pam', 'Jim', 'Kevin'],\n",
       " ['Angela', 'Dwight', 'Michael'],\n",
       " ['Angela', 'Dwight', 'Oscar'],\n",
       " ['Angela', 'Dwight', 'Kevin'],\n",
       " ['Angela', 'Michael', 'Oscar'],\n",
       " ['Angela', 'Michael', 'Kevin'],\n",
       " ['Angela', 'Oscar', 'Kevin'],\n",
       " ['Dwight', 'Michael', 'Oscar'],\n",
       " ['Dwight', 'Michael', 'Ryan'],\n",
       " ['Dwight', 'Michael', 'Jim'],\n",
       " ['Dwight', 'Michael', 'Kevin'],\n",
       " ['Dwight', 'Michael', 'Phyllis'],\n",
       " ['Dwight', 'Oscar', 'Kevin'],\n",
       " ['Dwight', 'Ryan', 'Jim'],\n",
       " ['Dwight', 'Jim', 'Kevin'],\n",
       " ['Michael', 'Oscar', 'Kevin'],\n",
       " ['Michael', 'Ryan', 'Jim'],\n",
       " ['Michael', 'Jim', 'Kevin'],\n",
       " ['Andy', 'Erin', 'Dwight', 'Michael'],\n",
       " ['Andy', 'Pam', 'Angela', 'Dwight'],\n",
       " ['Andy', 'Pam', 'Angela', 'Michael'],\n",
       " ['Andy', 'Pam', 'Angela', 'Kevin'],\n",
       " ['Andy', 'Pam', 'Dwight', 'Michael'],\n",
       " ['Andy', 'Pam', 'Dwight', 'Jim'],\n",
       " ['Andy', 'Pam', 'Dwight', 'Kevin'],\n",
       " ['Andy', 'Pam', 'Michael', 'Jim'],\n",
       " ['Andy', 'Pam', 'Michael', 'Kevin'],\n",
       " ['Andy', 'Pam', 'Jim', 'Kevin'],\n",
       " ['Andy', 'Angela', 'Dwight', 'Michael'],\n",
       " ['Andy', 'Angela', 'Dwight', 'Kevin'],\n",
       " ['Andy', 'Angela', 'Michael', 'Kevin'],\n",
       " ['Andy', 'Dwight', 'Michael', 'Jim'],\n",
       " ['Andy', 'Dwight', 'Michael', 'Kevin'],\n",
       " ['Andy', 'Dwight', 'Jim', 'Kevin'],\n",
       " ['Andy', 'Michael', 'Jim', 'Kevin'],\n",
       " ['Pam', 'Angela', 'Dwight', 'Michael'],\n",
       " ['Pam', 'Angela', 'Dwight', 'Kevin'],\n",
       " ['Pam', 'Angela', 'Michael', 'Kevin'],\n",
       " ['Pam', 'Dwight', 'Michael', 'Jim'],\n",
       " ['Pam', 'Dwight', 'Michael', 'Kevin'],\n",
       " ['Pam', 'Dwight', 'Jim', 'Kevin'],\n",
       " ['Pam', 'Michael', 'Jim', 'Kevin'],\n",
       " ['Angela', 'Dwight', 'Michael', 'Oscar'],\n",
       " ['Angela', 'Dwight', 'Michael', 'Kevin'],\n",
       " ['Angela', 'Dwight', 'Oscar', 'Kevin'],\n",
       " ['Angela', 'Michael', 'Oscar', 'Kevin'],\n",
       " ['Dwight', 'Michael', 'Oscar', 'Kevin'],\n",
       " ['Dwight', 'Michael', 'Ryan', 'Jim'],\n",
       " ['Dwight', 'Michael', 'Jim', 'Kevin'],\n",
       " ['Andy', 'Pam', 'Angela', 'Dwight', 'Michael'],\n",
       " ['Andy', 'Pam', 'Angela', 'Dwight', 'Kevin'],\n",
       " ['Andy', 'Pam', 'Angela', 'Michael', 'Kevin'],\n",
       " ['Andy', 'Pam', 'Dwight', 'Michael', 'Jim'],\n",
       " ['Andy', 'Pam', 'Dwight', 'Michael', 'Kevin'],\n",
       " ['Andy', 'Pam', 'Dwight', 'Jim', 'Kevin'],\n",
       " ['Andy', 'Pam', 'Michael', 'Jim', 'Kevin'],\n",
       " ['Andy', 'Angela', 'Dwight', 'Michael', 'Kevin'],\n",
       " ['Andy', 'Dwight', 'Michael', 'Jim', 'Kevin'],\n",
       " ['Pam', 'Angela', 'Dwight', 'Michael', 'Kevin'],\n",
       " ['Pam', 'Dwight', 'Michael', 'Jim', 'Kevin'],\n",
       " ['Angela', 'Dwight', 'Michael', 'Oscar', 'Kevin'],\n",
       " ['Andy', 'Pam', 'Angela', 'Dwight', 'Michael', 'Kevin'],\n",
       " ['Andy', 'Pam', 'Dwight', 'Michael', 'Jim', 'Kevin']]"
      ]
     },
     "execution_count": 32,
     "metadata": {},
     "output_type": "execute_result"
    }
   ],
   "source": [
    "sitcom_cliques = list(nx.algorithms.clique.enumerate_all_cliques(G))\n",
    "sitcom_cliques"
   ]
  },
  {
   "cell_type": "code",
   "execution_count": 35,
   "metadata": {
    "ExecuteTime": {
     "end_time": "2021-04-30T12:21:20.567694Z",
     "start_time": "2021-04-30T12:21:20.202619Z"
    }
   },
   "outputs": [
    {
     "data": {
      "image/png": "[encoded data removed]",
      "text/plain": [
       "<Figure size 432x288 with 1 Axes>"
      ]
     },
     "metadata": {},
     "output_type": "display_data"
    }
   ],
   "source": [
    "#largest clique\n",
    "Gsub = G.subgraph(sitcom_cliques[-2]+[\"Jim\"])\n",
    "nx.draw(Gsub,with_labels = True)"
   ]
  },
  {
   "cell_type": "markdown",
   "metadata": {},
   "source": [
    "A community is a local clustering of nodes "
   ]
  },
  {
   "cell_type": "code",
   "execution_count": 36,
   "metadata": {
    "ExecuteTime": {
     "end_time": "2021-04-30T12:22:17.378100Z",
     "start_time": "2021-04-30T12:22:17.365693Z"
    }
   },
   "outputs": [
    {
     "data": {
      "text/plain": [
       "[['Dwight', 'Phyllis', 'Kevin', 'Angela', 'Pam', 'Oscar'],\n",
       " ['Michael', 'Jan', 'David', 'Stanley', 'Holly', 'Toby'],\n",
       " ['Karen', 'Kelly', 'Ryan', 'Jim'],\n",
       " ['Andy', 'Erin', 'Darryl']]"
      ]
     },
     "execution_count": 36,
     "metadata": {},
     "output_type": "execute_result"
    }
   ],
   "source": [
    "from networkx.algorithms import community\n",
    "\n",
    "community_lookup =[list(x) for x in community.greedy_modularity_communities(G)]\n",
    "community_lookup\n"
   ]
  },
  {
   "cell_type": "markdown",
   "metadata": {},
   "source": [
    "## Interactive Visualization"
   ]
  },
  {
   "cell_type": "code",
   "execution_count": 37,
   "metadata": {
    "ExecuteTime": {
     "end_time": "2021-04-30T12:23:26.900874Z",
     "start_time": "2021-04-30T12:23:26.873114Z"
    }
   },
   "outputs": [],
   "source": [
    "#add group number and size as node attribute\n",
    "for character in metrics_df['character']:\n",
    "    G.nodes[character]['size']=metrics_df[metrics_df['character']==character]['degree'].values[0]+4\n",
    "    G.nodes[character]['group']=[n+1 for n,x in enumerate(community_lookup) if character in x][0]"
   ]
  },
  {
   "cell_type": "code",
   "execution_count": 38,
   "metadata": {
    "ExecuteTime": {
     "end_time": "2021-04-30T12:23:27.315303Z",
     "start_time": "2021-04-30T12:23:27.307766Z"
    }
   },
   "outputs": [
    {
     "data": {
      "text/plain": [
       "NodeDataView({'Andy': {'size': 12, 'group': 4}, 'Erin': {'size': 7, 'group': 4}, 'Pam': {'size': 10, 'group': 1}, 'Angela': {'size': 10, 'group': 1}, 'Dwight': {'size': 14, 'group': 1}, 'Michael': {'size': 20, 'group': 2}, 'Oscar': {'size': 8, 'group': 1}, 'Darryl': {'size': 6, 'group': 4}, 'Ryan': {'size': 8, 'group': 3}, 'Jim': {'size': 11, 'group': 3}, 'Karen': {'size': 5, 'group': 3}, 'Kelly': {'size': 5, 'group': 3}, 'Kevin': {'size': 11, 'group': 1}, 'David': {'size': 5, 'group': 2}, 'Holly': {'size': 5, 'group': 2}, 'Jan': {'size': 5, 'group': 2}, 'Toby': {'size': 5, 'group': 2}, 'Phyllis': {'size': 6, 'group': 1}, 'Stanley': {'size': 5, 'group': 2}})"
      ]
     },
     "execution_count": 38,
     "metadata": {},
     "output_type": "execute_result"
    }
   ],
   "source": [
    "#check if the attributes were properly loaded\n",
    "G.nodes(data=True)"
   ]
  },
  {
   "cell_type": "code",
   "execution_count": 41,
   "metadata": {
    "ExecuteTime": {
     "end_time": "2021-04-30T12:24:33.006650Z",
     "start_time": "2021-04-30T12:24:32.981343Z"
    }
   },
   "outputs": [],
   "source": [
    "#Pyvis to visualize the network interactively\n",
    "#install by running in your terminal \"pip install pyvis\"\n",
    "from pyvis.network import Network"
   ]
  },
  {
   "cell_type": "code",
   "execution_count": 42,
   "metadata": {
    "ExecuteTime": {
     "end_time": "2021-04-30T12:24:47.722751Z",
     "start_time": "2021-04-30T12:24:47.606756Z"
    }
   },
   "outputs": [
    {
     "data": {
      "text/html": [
       "\n",
       "        <iframe\n",
       "            width=\"100%\"\n",
       "            height=\"500px\"\n",
       "            src=\"the_office_network_viz.html\"\n",
       "            frameborder=\"0\"\n",
       "            allowfullscreen\n",
       "        ></iframe>\n",
       "        "
      ],
      "text/plain": [
       "<IPython.lib.display.IFrame at 0x7f3f4354d850>"
      ]
     },
     "execution_count": 42,
     "metadata": {},
     "output_type": "execute_result"
    }
   ],
   "source": [
    "g = Network(notebook=True,height='500px', width='100%')\n",
    "g.from_nx(G)\n",
    "g.show(\"the_office_network_viz.html\")"
   ]
  },
  {
   "cell_type": "markdown",
   "metadata": {},
   "source": [
    "### Further Reading\n",
    "1. Crach course on basic network analysis in python [here](https://www.analyticsvidhya.com/blog/2018/04/introduction-to-graph-theory-network-analysis-python-codes/)\n",
    "2. In-depth network analysis with some literary explanations for Game of Thrones [here](https://networkofthrones.wordpress.com/)\n"
   ]
  },
  {
   "cell_type": "code",
   "execution_count": null,
   "metadata": {},
   "outputs": [],
   "source": []
  }
 ],
 "metadata": {
  "kernelspec": {
   "display_name": "Python 3",
   "language": "python",
   "name": "python3"
  },
  "language_info": {
   "codemirror_mode": {
    "name": "ipython",
    "version": 3
   },
   "file_extension": ".py",
   "mimetype": "text/x-python",
   "name": "python",
   "nbconvert_exporter": "python",
   "pygments_lexer": "ipython3",
   "version": "3.8.5"
  }
 },
 "nbformat": 4,
 "nbformat_minor": 4
}
