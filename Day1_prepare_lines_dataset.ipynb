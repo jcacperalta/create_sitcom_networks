{
 "cells": [
  {
   "cell_type": "markdown",
   "metadata": {},
   "source": [
    "# Day 1: Preparing the sitcom lines dataset"
   ]
  },
  {
   "cell_type": "code",
   "execution_count": 1,
   "metadata": {
    "ExecuteTime": {
     "end_time": "2021-04-26T11:59:02.424716Z",
     "start_time": "2021-04-26T11:58:59.765681Z"
    }
   },
   "outputs": [],
   "source": [
    "import numpy as np\n",
    "import pandas as pd\n",
    "\n",
    "import matplotlib.pyplot as plt\n",
    "%matplotlib inline"
   ]
  },
  {
   "cell_type": "markdown",
   "metadata": {},
   "source": [
    "### Reading the dataset \n",
    "Read the csv file"
   ]
  },
  {
   "cell_type": "code",
   "execution_count": 2,
   "metadata": {
    "ExecuteTime": {
     "end_time": "2021-04-26T11:59:50.703239Z",
     "start_time": "2021-04-26T11:59:50.443177Z"
    }
   },
   "outputs": [
    {
     "data": {
      "text/html": [
       "<div>\n",
       "<style scoped>\n",
       "    .dataframe tbody tr th:only-of-type {\n",
       "        vertical-align: middle;\n",
       "    }\n",
       "\n",
       "    .dataframe tbody tr th {\n",
       "        vertical-align: top;\n",
       "    }\n",
       "\n",
       "    .dataframe thead th {\n",
       "        text-align: right;\n",
       "    }\n",
       "</style>\n",
       "<table border=\"1\" class=\"dataframe\">\n",
       "  <thead>\n",
       "    <tr style=\"text-align: right;\">\n",
       "      <th></th>\n",
       "      <th>id</th>\n",
       "      <th>season</th>\n",
       "      <th>episode</th>\n",
       "      <th>scene</th>\n",
       "      <th>line_text</th>\n",
       "      <th>speaker</th>\n",
       "      <th>deleted</th>\n",
       "    </tr>\n",
       "  </thead>\n",
       "  <tbody>\n",
       "    <tr>\n",
       "      <th>0</th>\n",
       "      <td>1</td>\n",
       "      <td>1</td>\n",
       "      <td>1</td>\n",
       "      <td>1</td>\n",
       "      <td>All right Jim. Your quarterlies look very good...</td>\n",
       "      <td>Michael</td>\n",
       "      <td>False</td>\n",
       "    </tr>\n",
       "    <tr>\n",
       "      <th>1</th>\n",
       "      <td>2</td>\n",
       "      <td>1</td>\n",
       "      <td>1</td>\n",
       "      <td>1</td>\n",
       "      <td>Oh, I told you. I couldn't close it. So...</td>\n",
       "      <td>Jim</td>\n",
       "      <td>False</td>\n",
       "    </tr>\n",
       "    <tr>\n",
       "      <th>2</th>\n",
       "      <td>3</td>\n",
       "      <td>1</td>\n",
       "      <td>1</td>\n",
       "      <td>1</td>\n",
       "      <td>So you've come to the master for guidance? Is ...</td>\n",
       "      <td>Michael</td>\n",
       "      <td>False</td>\n",
       "    </tr>\n",
       "    <tr>\n",
       "      <th>3</th>\n",
       "      <td>4</td>\n",
       "      <td>1</td>\n",
       "      <td>1</td>\n",
       "      <td>1</td>\n",
       "      <td>Actually, you called me in here, but yeah.</td>\n",
       "      <td>Jim</td>\n",
       "      <td>False</td>\n",
       "    </tr>\n",
       "    <tr>\n",
       "      <th>4</th>\n",
       "      <td>5</td>\n",
       "      <td>1</td>\n",
       "      <td>1</td>\n",
       "      <td>1</td>\n",
       "      <td>All right. Well, let me show you how it's done.</td>\n",
       "      <td>Michael</td>\n",
       "      <td>False</td>\n",
       "    </tr>\n",
       "  </tbody>\n",
       "</table>\n",
       "</div>"
      ],
      "text/plain": [
       "   id  season  episode  scene  \\\n",
       "0   1       1        1      1   \n",
       "1   2       1        1      1   \n",
       "2   3       1        1      1   \n",
       "3   4       1        1      1   \n",
       "4   5       1        1      1   \n",
       "\n",
       "                                           line_text  speaker  deleted  \n",
       "0  All right Jim. Your quarterlies look very good...  Michael    False  \n",
       "1         Oh, I told you. I couldn't close it. So...      Jim    False  \n",
       "2  So you've come to the master for guidance? Is ...  Michael    False  \n",
       "3         Actually, you called me in here, but yeah.      Jim    False  \n",
       "4    All right. Well, let me show you how it's done.  Michael    False  "
      ]
     },
     "execution_count": 2,
     "metadata": {},
     "output_type": "execute_result"
    }
   ],
   "source": [
    "df = pd.read_csv(\"data/the_office_lines.csv\")\n",
    "df.head()"
   ]
  },
  {
   "cell_type": "markdown",
   "metadata": {},
   "source": [
    "### Do Data Checks!\n",
    "It is prudent to do the following on a DataFrame before any analysis is made\n",
    "1. Check shape\n",
    "2. Check data types of columns\n",
    "3. Check null values in columns and rows\n",
    "5. Check for duplicates\n",
    "6. Check if you have the expected values for a certain column"
   ]
  },
  {
   "cell_type": "code",
   "execution_count": 3,
   "metadata": {
    "ExecuteTime": {
     "end_time": "2021-04-26T12:00:27.177924Z",
     "start_time": "2021-04-26T12:00:27.166869Z"
    }
   },
   "outputs": [
    {
     "data": {
      "text/plain": [
       "(59909, 7)"
      ]
     },
     "execution_count": 3,
     "metadata": {},
     "output_type": "execute_result"
    }
   ],
   "source": [
    "#Check the shape of the dataframe\n",
    "df.shape "
   ]
  },
  {
   "cell_type": "code",
   "execution_count": 4,
   "metadata": {
    "ExecuteTime": {
     "end_time": "2021-04-26T12:01:38.815035Z",
     "start_time": "2021-04-26T12:01:38.798242Z"
    }
   },
   "outputs": [
    {
     "data": {
      "text/plain": [
       "id            int64\n",
       "season        int64\n",
       "episode       int64\n",
       "scene         int64\n",
       "line_text    object\n",
       "speaker      object\n",
       "deleted        bool\n",
       "dtype: object"
      ]
     },
     "execution_count": 4,
     "metadata": {},
     "output_type": "execute_result"
    }
   ],
   "source": [
    "#check data types of columns\n",
    "df.dtypes"
   ]
  },
  {
   "cell_type": "code",
   "execution_count": 5,
   "metadata": {
    "ExecuteTime": {
     "end_time": "2021-04-26T12:02:46.783408Z",
     "start_time": "2021-04-26T12:02:46.745906Z"
    }
   },
   "outputs": [
    {
     "name": "stdout",
     "output_type": "stream",
     "text": [
      "<class 'pandas.core.frame.DataFrame'>\n",
      "RangeIndex: 59909 entries, 0 to 59908\n",
      "Data columns (total 7 columns):\n",
      " #   Column     Non-Null Count  Dtype \n",
      "---  ------     --------------  ----- \n",
      " 0   id         59909 non-null  int64 \n",
      " 1   season     59909 non-null  int64 \n",
      " 2   episode    59909 non-null  int64 \n",
      " 3   scene      59909 non-null  int64 \n",
      " 4   line_text  59909 non-null  object\n",
      " 5   speaker    59909 non-null  object\n",
      " 6   deleted    59909 non-null  bool  \n",
      "dtypes: bool(1), int64(4), object(2)\n",
      "memory usage: 2.8+ MB\n"
     ]
    }
   ],
   "source": [
    "#Check null values in the columns\n",
    "df.info()"
   ]
  },
  {
   "cell_type": "code",
   "execution_count": 6,
   "metadata": {
    "ExecuteTime": {
     "end_time": "2021-04-26T12:03:32.875953Z",
     "start_time": "2021-04-26T12:03:32.761513Z"
    }
   },
   "outputs": [
    {
     "data": {
      "text/plain": [
       "0"
      ]
     },
     "execution_count": 6,
     "metadata": {},
     "output_type": "execute_result"
    }
   ],
   "source": [
    "#Check for duplicates\n",
    "sum(df.duplicated())"
   ]
  },
  {
   "cell_type": "code",
   "execution_count": 7,
   "metadata": {
    "ExecuteTime": {
     "end_time": "2021-04-26T12:04:39.047641Z",
     "start_time": "2021-04-26T12:04:39.037278Z"
    }
   },
   "outputs": [
    {
     "data": {
      "text/plain": [
       "array([1, 2, 3, 4, 5, 6, 7, 8, 9])"
      ]
     },
     "execution_count": 7,
     "metadata": {},
     "output_type": "execute_result"
    }
   ],
   "source": [
    "#how many seasons are there in the show\n",
    "df['season'].unique()"
   ]
  },
  {
   "cell_type": "code",
   "execution_count": 8,
   "metadata": {
    "ExecuteTime": {
     "end_time": "2021-04-26T12:05:14.314938Z",
     "start_time": "2021-04-26T12:05:14.301857Z"
    }
   },
   "outputs": [
    {
     "data": {
      "text/plain": [
       "797"
      ]
     },
     "execution_count": 8,
     "metadata": {},
     "output_type": "execute_result"
    }
   ],
   "source": [
    "#how many characters are in the show?\n",
    "len(df['speaker'].unique())"
   ]
  },
  {
   "cell_type": "code",
   "execution_count": 9,
   "metadata": {
    "ExecuteTime": {
     "end_time": "2021-04-26T12:05:34.331042Z",
     "start_time": "2021-04-26T12:05:34.311286Z"
    }
   },
   "outputs": [
    {
     "data": {
      "text/plain": [
       "array(['Michael', 'Jim', 'Pam', 'Dwight', 'Jan', 'Michel', 'Todd Packer',\n",
       "       'Phyllis', 'Stanley', 'Oscar', 'Angela', 'Kevin', 'Ryan', 'Man',\n",
       "       'Roy', 'Documentary Crew Member', 'Mr. Brown', 'Toby', 'Kelly',\n",
       "       'Meredith', 'Travel Agent', 'Man on Phone', 'Everybody', 'Lonny',\n",
       "       'Darryl', 'Teammates', 'Michael and Dwight', 'Warehouse worker',\n",
       "       'Madge', 'Worker', 'Packer', 'Warehouse Worker', 'Katy',\n",
       "       'Guy at bar', 'Other Guy at Bar', 'Guy At Bar', 'Pam and Jim',\n",
       "       'Employee', \"Chili's Employee\", 'Waitress', 'Manager',\n",
       "       \"Kevin's computer\", 'Warehouse Guy', 'Warehouse guy',\n",
       "       'Warehouse guys', 'Video', 'Man in Video', 'Actor',\n",
       "       'Redheaded Actress', \"Mr. O'Malley\", 'Albiny', \"Pam's Mom\",\n",
       "       'Carol', 'Bill', 'Everyone', 'Crowd', 'song', 'Song',\n",
       "       'Dwight and Michael', 'Sherri', 'Creed', 'Devon', 'Children',\n",
       "       'Kid', 'Vance Refrigeration Worker #1',\n",
       "       'Vance Refrigeration Worker #2', 'Hank the Security Guard', 'Ira',\n",
       "       \"Ryan's Voicemail\", 'Master', 'Alyssa', 'Christian', 'Hostess',\n",
       "       'Michael and Christian', 'Sadiq (IT guy)', 'Mark',\n",
       "       'Improv Teacher', 'Mary-Beth', 'Girl acting Pregnant', 'Actress',\n",
       "       'Michael and Jim', 'Kevin & Oscar', 'All', 'Liquor Store Clerk',\n",
       "       'JIm', 'Bob Vance', 'Phyllis, Meredith, Michael, Kevin',\n",
       "       'Captain Jack', 'Brenda', 'Darryl and Katy', 'Jim and Pam',\n",
       "       'Billy Merchant', 'Doctor', 'Lab Tech', 'Dana', \"Hooter's Girls\",\n",
       "       'Phylis', 'Gil', 'Pam and others', 'Ed', 'Todd', \"Jim's voicemail\",\n",
       "       'Women', 'Guy', 'Men', 'Group chant', 'All the Men',\n",
       "       'Dwight and Roy', 'Delivery man', 'Craig', 'Josh', 'David', 'Dan',\n",
       "       'Receptionist', 'Overhead', 'Speaker', 'Jim and Dwight', 'Melissa',\n",
       "       'Sasha', 'Abby', 'Jake', 'The Kids', 'Kids', 'Miss Trudy',\n",
       "       'Edward R. Meow', 'Chet', 'Young Michael', 'Delivery Woman',\n",
       "       'Delivery Boy', 'Office Staff', 'Store Employee', 'Pam/Jim',\n",
       "       'Linda', 'Hank', 'Sheriff', 'I.D. Photographer', 'Photographer',\n",
       "       'Anglea', 'Female worker', \"Billy's Girlfriend\", 'Billy', 'Dealer',\n",
       "       'Bob', \"Meredith's Vet\", 'Andy', 'Karen', 'Jerome Bettis', 'Ted',\n",
       "       'Waiter', 'Jim, Josh, and Dwight', 'Evan', 'Alan',\n",
       "       'Ryan and others', 'Hannah', 'Announcer', 'Pretzel guy',\n",
       "       'Cousin Mose', 'Tony', 'Server', 'Girls', \"Kelly's Mom\",\n",
       "       \"Kelly's Father\", 'Young Man', 'Andy and Jim', 'Mrs. Kapoor',\n",
       "       'Mr. Kapoor', 'Dwight ', 'M ichael', 'Michael ', 'Dwight:',\n",
       "       'Martin', 'Male voice', 'Michael & Dwight', 'Andy & Michael',\n",
       "       'Chef', 'Woman at bar', 'Cindy', 'Second Cindy', 'Other waitress',\n",
       "       'Andy and Michael', 'Both', 'Someone', 'Harvey', 'Buyer', 'Kenny',\n",
       "       'Julius', 'Phone', 'Staples Guy', 'MIchael', 'Lady', 'Paris',\n",
       "       'Marcy', 'Ben Franklin', 'Elizabeth', 'Priest', 'Uncle Al',\n",
       "       'Randy', 'Unknown', 'College Student', 'Business Student #1',\n",
       "       'Business Student #2', 'Business Student #3', 'Woman', 'Artist',\n",
       "       'Student 1', 'Student 2', 'Student 3', 'Rachel', 'Dan Gore',\n",
       "       'Bartender', 'Child', 'Hunter', 'Darry', 'Micheal', 'Larry',\n",
       "       'Chad Lite', 'Jamie', 'Barbara', 'School Official',\n",
       "       'Barbara Allen', 'Spanish Teacher', 'Denise', 'Group',\n",
       "       'IT Tech Guy', 'Nurse', 'Intern', 'Pediatrician', 'Robert Dunder',\n",
       "       'Amy', 'GPS', 'Larry Myers', 'Ex-client', 'Voice of Thomas Dean',\n",
       "       'sAndy', 'DunMiff/sys', 'DwightKSchrute', 'Tech Guy', 'Angels',\n",
       "       'Pizza guy', 'Voice #1 on phone', 'Voice #2 on phone', 'Micahel',\n",
       "       'Michae', 'Nick', 'Mose', 'Co-Worker 1', 'Stanely', 'Micael',\n",
       "       'Vikram', 'Co-Worker 2', 'Co-Worker 3', 'Mr. Figaro',\n",
       "       'Oscar and Stanley', 'Ad guy 1', 'Ad guy 2', 'David Wallace',\n",
       "       'Andy, Creed, Kevin, Kelly, Darryl', 'Andy, Creed, Kevin, Kelly',\n",
       "       \"Michael's Ad\", 'Rolando', 'Ben', 'Security guard', 'Lester',\n",
       "       'Diane Kelly', 'Diane', 'Deposition Reporter', 'Council',\n",
       "       \"Hunter's CD\", 'Officer 1', 'Officer 2', 'Officer', 'Neighbor',\n",
       "       \"Wendy's phone operator\", 'Margaret', 'Coffee shop worker',\n",
       "       'Jan [on phone]', 'W.B. Jones', 'Paul Faust', 'Bill Cress', 'Paul',\n",
       "       'Michael/Dwight', 'Troy', 'Girl in Club', 'Tall Girl #1',\n",
       "       'All Girls', 'Tall Girl #2', 'Girl in 2nd club', 'Cleaning lady',\n",
       "       'Michael and Darryl', 'Phil Maguire', 'Phil', 'Justin',\n",
       "       'Angela and Dwight', 'Maguire', 'Woman on mic', 'Graphics guy',\n",
       "       'Brad', 'Air Force recruiter', 'Holly', 'Woman over speakerphone',\n",
       "       'Vance Refrigeration guy', 'Holy', 'Co-workers', 'Ronnie',\n",
       "       'Professor', 'Friend', 'JIM9334 [screen name]',\n",
       "       'Receptionitis15 [screen name]', 'JIM9334', 'Receptionitis15',\n",
       "       'Michael & Holly', 'Dight', 'Kendall', 'Michael [on phone]',\n",
       "       'Pam [on phone]', 'Man on phone', 'Hank [the security guard]',\n",
       "       'Guy in audience', 'Michael and Holly',\n",
       "       'Michael, Holly, and Darryl', 'Tom', 'Pete', 'Holly & Darryl',\n",
       "       'Holly & Michael', 'Mother', 'Alex', 'Customer', 'Kevin & Andy',\n",
       "       'Stanley & Phyllis', 'Stewardess', 'Beth', 'Concierge', 'Marie',\n",
       "       'Guy at table', 'Concierge Marie', 'Client', 'Dacvid Walalce',\n",
       "       'David Wallcve', 'Dacvid Wallace', 'Leo',\n",
       "       'Vance Refrigeration Guy', 'Police Officer 1', 'Police Officer 2',\n",
       "       'Guy buying doll', 'Rehab Nurse', 'Everyone watching',\n",
       "       'Entire Prince family', 'Prince Grandfather', 'Entire office',\n",
       "       'Jim ', 'Prince', 'Prince Granddaughter', 'Prince Grandmother',\n",
       "       'Prince Son', 'Phyllis and Creed', 'Lawyer', 'CPR trainer',\n",
       "       'CPR Trainer', 'Rose', 'Jessica Alba', 'Lily', 'Sam',\n",
       "       'Warehouse Michael', 'Julia', 'A.J.', 'Phone Salesman',\n",
       "       'Jim, Pam, Michael and Dwight', 'Blood Drive Worker', 'Blood Girl',\n",
       "       'Lynn', 'Blonde', 'Eric', 'Girl', 'Charles', 'Stephanie',\n",
       "       'Employees', 'Isaac', 'Angela and Kelly', 'Supervisor', 'Michal',\n",
       "       'Nana', 'Chares', 'Old Woman', 'Erin', 'Dwight and Erin',\n",
       "       'Dwight and Andy', 'Michael, Pam & Ryan', 'Secretary',\n",
       "       'Automated phone voice', 'Mr. Schofield', 'Financial Guy', 'Ty',\n",
       "       'Jessica', 'Vance Refrigeration Guy 1',\n",
       "       'Vance Refrigeration Guy 2', 'VRG 1', 'VRG 2', 'Rolph', 'AJ',\n",
       "       'Man from Buffalo', 'Woman from Buffalo', 'Dwight & Andy',\n",
       "       'Female Intern', 'Female intern', 'Maurie', 'Dwight, Jim & Pam',\n",
       "       'Jim & Pam', 'Megan', 'Gwenneth', 'Front Desk Clerk',\n",
       "       'Mr. Halpert', 'Mema', 'Mr. Beesly', 'Little Girl', 'Penny',\n",
       "       'Isabel', 'Hotel Employee', 'Hotel Manager', \"Pam's mom\",\n",
       "       'Tom Halpert', 'Pete Halpert', 'Tom and Pete', \"Pam's dad\",\n",
       "       'Grotti', 'Andy and Dwight', 'Credit card rep', 'Rep', 'Various',\n",
       "       'Keena Gifford', 'Helene', \"David Wallace's Secretary\",\n",
       "       'Voice on CD player', 'Limo Driver', 'Laurie', 'Registrar',\n",
       "       'Security', 'Woman in line', 'Man in line', 'Shareholder',\n",
       "       'Female Shareholder', 'Second Shareholder', 'Third Shareholder',\n",
       "       'Fourth Shareholder', \"O'Keefe\", 'Mikela', 'Students', 'Teacher',\n",
       "       'Lefevre', 'Zion', 'Deliveryman', 'Michael and Erin', 'Daryl',\n",
       "       'Office', 'Kelly and Erin', 'Matt', 'Computron', 'Fake Stanley',\n",
       "       'Gabe', 'Andy & Erin', 'Christian Slater', 'Jo Bennett', 'Jo',\n",
       "       'Jerry', 'Teddy Wallace', 'Mrs. Wallace', 'Teddy',\n",
       "       'Dwight, Jim and Michael', 'Policeman', 'Hospital employee',\n",
       "       \"(Pam's mom) Heleen\", 'Kathy', 'Dale', 'Clark', 'Isabelle', 'D',\n",
       "       'Warehouse guy 1', 'Warehouse guy 2', 'Reid',\n",
       "       'Night cleaning crew', 'Meredith, Creed, Oscar and Matt',\n",
       "       'Miichael', 'Julie', 'Hide', 'Bar Manager', 'Bouncer',\n",
       "       'Girl at table', 'Cookie Monster', 'Dwight.', \"Hayworth's waiter\",\n",
       "       \"Oscar's voice from the computer\", 'Donna', 'Michael and Donna',\n",
       "       'Mihael', 'Old lady', 'Glen', 'Gym Instructor', 'Gym instructor',\n",
       "       'Dwight and Angela', 'Shane', 'Reporter', 'Realtor', 'Luke',\n",
       "       'Window treatment guy', 'Angel', 'Salesman', 'Usher', 'Shelby',\n",
       "       'Sweeney Todd', 'Mexican Man', 'Son', 'Nate',\n",
       "       'Employees except Dwight', 'Astrid', 'Carroll', 'Carrol', 'Danny',\n",
       "       'Steve', 'Darryl and Andy', 'Church congregation', 'Pastor',\n",
       "       'Female church member', 'Male church member',\n",
       "       'Female church member [to Michael]', 'Doug [church member]',\n",
       "       'Doug', 'Mee-Maw', 'MeeMaw', 'Carla', \"Jim's Dad\", 'Bus driver',\n",
       "       'Michael and Andy', 'Another guy', 'Radio', 'Cece', 'TV',\n",
       "       'Meridith', 'Robotic Voice', 'Ryan and Michael', 'Phyliss',\n",
       "       'Dwight & Nate', 'Passer-by', 'Pam ', 'Bass Player', 'Justine',\n",
       "       'Jada', 'Robert', 'Darrly', 'Member', 'Video Michael',\n",
       "       'Bookstore employee', 'DJ', 'David Brent', 'Older guy',\n",
       "       'Phyllis, Stanley, Dwight', 'Younger Guy', 'Older Woman',\n",
       "       'Professor Powell', 'Ryan and Kelly', 'Helen', 'Attendant',\n",
       "       'Hot Dog Guy', 'Cell Phone Sales Person', 'Boom Box',\n",
       "       'Andy and Erin', \"Holly's Mom\", \"Holly's Dad\", 'Deangelo',\n",
       "       'Deangelo/Michael', 'Denagelo', \"Darryl's sister\", 'DeAngelo',\n",
       "       'Audience', 'Together', 'Erin and Kelly', 'abe', 'Rory',\n",
       "       'DeAgnelo', 'Jordan', 'Dwight [on phone]', 'Mose [on phone]',\n",
       "       'All but Oscar', 'Darryl and Angela', 'Fred Henry', 'Fred',\n",
       "       'Warren Buffett', 'Warren', 'Robert California', 'Merv Bronte',\n",
       "       'Merv', 'Nellie Bertram', 'Nellie', 'Finger Lakes Guy',\n",
       "       'Pam as fourth-biggest client', 'Pam as ninth-biggest client',\n",
       "       'Darryl & Oscar', 'Tattoo Artist', 'Female Applicant',\n",
       "       'Male Applicant 1', 'Male Applicant 2', 'Gideon', 'Bruce',\n",
       "       'Dwight, Erin, Jim & Kevin', 'Walter', 'Ellen', 'Walter Jr',\n",
       "       'Andy & Walter', 'Walter & Walter Jr', \"Erin's Cell Phone\", 'Bert',\n",
       "       'Gabe/Kelly/Toby', 'Andy/Pam', 'Andy/Stanley', 'Val',\n",
       "       'Warehouse Crew', 'Cathy', 'Offscreen', 'Curtis', 'Drummer',\n",
       "       'Pam and Kelly', 'Old Man', 'Andy and Darryl', 'Darryl and Kevin',\n",
       "       'Park Ranger', 'Chelsea', 'Archivist', 'Narrator', 'Soldier',\n",
       "       'Amanda', 'Susan', 'Andy/Oscar', \"Bob's Secretary\",\n",
       "       'Mrs. California', 'Host', 'Queerenstein Bears', \"Oscar's friend\",\n",
       "       'Stu', 'Stonewall Host', 'Meredith & Kelly', 'Einsteins',\n",
       "       'Senator Lipton', 'Ernesto', 'Officer Foley',\n",
       "       'Andy, Darryl & Officer Foley', 'Saleswoman', 'Emergency Operator',\n",
       "       'Paramedic', 'Donna Muraski', 'Wally Amos', 'Angela/Pam',\n",
       "       'Brandon', 'Blogger', 'Blogger 2', 'Lady Blogger', 'Patty',\n",
       "       'Old Lady', 'Others', 'Elderly Woman', 'Irene', 'Alonzo', 'Glenn',\n",
       "       'Erin and Irene', 'Kevin & Meredith', 'Lauren', 'Party guests',\n",
       "       'Magician', 'Ravi', 'Robert & Creed', 'Wrangler', 'Senator', 'Vet',\n",
       "       'Harry', 'Mr. Ramish', 'Calvin', 'Off-camera', 'Rafe', 'Fake Jim',\n",
       "       'Voicemail', 'Nellie and Pam',\n",
       "       'Group: Dunder Mifflin!\\nAndy: Andy Bernard presents: Summer Softball Epic Fails! [Kevin swings bat on screen, fart noise follows] Fail. [repeats] Fail',\n",
       "       '[repeats]\\nAndy: Fail',\n",
       "       \"[Clark and Pete are shown on screen]\\nVideo Andy: Hey, I'm Pete, puberty is such a drag, man. And I'm Clark! I like to eat toilet paper. [Clark and Pete wave at camera] We fail! [Video shows memorial of Jerry\",\n",
       "       'Phyllis, Kevin & Stanley', 'HCT', 'HCT Member #1',\n",
       "       'HCT Member #2', 'Broccoli Rob', 'Businessman #1',\n",
       "       'Businessman #2', 'Businessman #3', 'HCT Member #3', 'White',\n",
       "       'Boat Guy', 'Walt Jr.', 'Senator Liptop', 'Guys in breakroom',\n",
       "       'Business partner', 'Molly', 'Colin', 'Trevor', 'Julius Irving',\n",
       "       'New Instant Message', 'Suit Store Father', 'Athlead Employee',\n",
       "       'Dennis', 'Wade', 'Suit Store Son', 'Female Athlead Employee',\n",
       "       '3rd Athlead Employee', '4th Athlead Employee', 'Co-worker',\n",
       "       'Co-worker #2', 'Mr. Romanko', 'Dance Teacher', 'Ballerinas',\n",
       "       'Parent in Audience', 'Parent in audience #2',\n",
       "       'Parent in audience #1', 'Investor', 'Lonnie', 'Fast Food Worker',\n",
       "       'Drive Thru Customer', 'Brian', 'Cameraman', 'Rolf', 'Gabor',\n",
       "       'Zeke', 'Melvina', 'Wolf', 'Sensei Ira', 'Pam & Dwight', 'Frank',\n",
       "       'Party Announcer', 'Party Guest', 'Party Photographer',\n",
       "       'Party Waiter', 'Nail stylist 1', 'Nail stylist 2', 'Nail manager',\n",
       "       'Shirley', 'Athlead Coworker', 'Roger', 'Alice',\n",
       "       \"Oscar's Computer\", 'Jeb', 'German Minister', 'Fannie', 'Henry',\n",
       "       'Esther', 'Aunt Shirley', 'Cameron', 'Promo Voice', 'Ryan Howard',\n",
       "       'Mr. Ruger', 'Promo Announcer', 'Ruger Sister 1', 'Salesmen',\n",
       "       'Ruger Sister 2', 'Angela & Oscar', 'Reporter #1', 'Reporter #2',\n",
       "       'Mrs. Davis', 'Phillip', 'Carla Fern', 'Director', 'Producer',\n",
       "       'Bob Vance, Vance Refrigeration', 'Production Assistant', 'Sensei',\n",
       "       'Philip', 'Check-in guy', 'Casey', 'Mark McGrath', 'Jim & Dwight',\n",
       "       'Camera Crew', 'People in line', 'Santigold', 'Aaron Rodgers',\n",
       "       'Clay Aiken', 'CameraMan', 'Malcolm', 'Casey Dean', 'Bill Hader',\n",
       "       'Seth Mayers', 'Dakota', 'Stripper', 'Jakey', 'Man 1', 'Woman 1',\n",
       "       'Woman 2', 'Man 2', 'Moderator', 'Man 3', 'Woman 3', 'Woman 4',\n",
       "       'Joan', 'Minister', 'Carol Stills'], dtype=object)"
      ]
     },
     "execution_count": 9,
     "metadata": {},
     "output_type": "execute_result"
    }
   ],
   "source": [
    "#who are the characters in the show\n",
    "df['speaker'].unique()"
   ]
  },
  {
   "cell_type": "code",
   "execution_count": 10,
   "metadata": {
    "ExecuteTime": {
     "end_time": "2021-04-26T12:07:22.771856Z",
     "start_time": "2021-04-26T12:07:22.753009Z"
    }
   },
   "outputs": [
    {
     "data": {
      "text/plain": [
       "186"
      ]
     },
     "execution_count": 10,
     "metadata": {},
     "output_type": "execute_result"
    }
   ],
   "source": [
    "#how many episodes are in the show?\n",
    "len(df[['season','episode']].drop_duplicates())"
   ]
  },
  {
   "cell_type": "code",
   "execution_count": 11,
   "metadata": {
    "ExecuteTime": {
     "end_time": "2021-04-26T12:07:47.543474Z",
     "start_time": "2021-04-26T12:07:47.523834Z"
    }
   },
   "outputs": [
    {
     "data": {
      "text/plain": [
       "9161"
      ]
     },
     "execution_count": 11,
     "metadata": {},
     "output_type": "execute_result"
    }
   ],
   "source": [
    "#how many scenes are in the show?\n",
    "len(df[['season','episode', 'scene']].drop_duplicates())"
   ]
  },
  {
   "cell_type": "code",
   "execution_count": 12,
   "metadata": {
    "ExecuteTime": {
     "end_time": "2021-04-26T12:08:24.406689Z",
     "start_time": "2021-04-26T12:08:24.374586Z"
    }
   },
   "outputs": [
    {
     "data": {
      "text/plain": [
       "False    8849\n",
       "True      312\n",
       "Name: deleted, dtype: int64"
      ]
     },
     "execution_count": 12,
     "metadata": {},
     "output_type": "execute_result"
    }
   ],
   "source": [
    "#how many deleted scenes are there?\n",
    "df[['season','episode', 'scene','deleted']].drop_duplicates()['deleted'].value_counts()"
   ]
  },
  {
   "cell_type": "markdown",
   "metadata": {},
   "source": [
    "## Narrowing down\n",
    "It is important to develop the skill of being able to identify which rows in a dataset are important, since working with limited time and/or machine memory"
   ]
  },
  {
   "cell_type": "markdown",
   "metadata": {},
   "source": [
    "**Filter 1**: Remove deleted scenes"
   ]
  },
  {
   "cell_type": "code",
   "execution_count": 13,
   "metadata": {
    "ExecuteTime": {
     "end_time": "2021-04-26T12:09:16.959260Z",
     "start_time": "2021-04-26T12:09:16.946426Z"
    }
   },
   "outputs": [
    {
     "data": {
      "text/plain": [
       "59909"
      ]
     },
     "execution_count": 13,
     "metadata": {},
     "output_type": "execute_result"
    }
   ],
   "source": [
    "len(df)"
   ]
  },
  {
   "cell_type": "code",
   "execution_count": 14,
   "metadata": {
    "ExecuteTime": {
     "end_time": "2021-04-26T12:09:19.033790Z",
     "start_time": "2021-04-26T12:09:18.451717Z"
    }
   },
   "outputs": [],
   "source": [
    "# remove deleted scenes\n",
    "df = df[df['deleted']==False]"
   ]
  },
  {
   "cell_type": "code",
   "execution_count": 15,
   "metadata": {
    "ExecuteTime": {
     "end_time": "2021-04-26T12:09:30.159872Z",
     "start_time": "2021-04-26T12:09:30.146895Z"
    }
   },
   "outputs": [
    {
     "data": {
      "text/plain": [
       "57973"
      ]
     },
     "execution_count": 15,
     "metadata": {},
     "output_type": "execute_result"
    }
   ],
   "source": [
    "len(df)"
   ]
  },
  {
   "cell_type": "markdown",
   "metadata": {},
   "source": [
    "**Filter 2**: Retain lines from major characters only\n",
    "\n",
    "> Definition: A *major character* is someone who belongs to the top 50 characters with the most number of lines spoken"
   ]
  },
  {
   "cell_type": "code",
   "execution_count": 16,
   "metadata": {
    "ExecuteTime": {
     "end_time": "2021-04-26T12:10:04.330773Z",
     "start_time": "2021-04-26T12:10:04.306489Z"
    }
   },
   "outputs": [
    {
     "data": {
      "text/plain": [
       "Michael                    11574\n",
       "Dwight                      7167\n",
       "Jim                         6609\n",
       "Pam                         5205\n",
       "Andy                        3968\n",
       "                           ...  \n",
       "Michael/Dwight                 1\n",
       "Denagelo                       1\n",
       "Angela and Dwight              1\n",
       "Employees except Dwight        1\n",
       "Employees                      1\n",
       "Name: speaker, Length: 790, dtype: int64"
      ]
     },
     "execution_count": 16,
     "metadata": {},
     "output_type": "execute_result"
    }
   ],
   "source": [
    "df['speaker'].value_counts()"
   ]
  },
  {
   "cell_type": "code",
   "execution_count": 17,
   "metadata": {
    "ExecuteTime": {
     "end_time": "2021-04-26T12:11:06.691124Z",
     "start_time": "2021-04-26T12:11:06.650001Z"
    }
   },
   "outputs": [
    {
     "data": {
      "text/plain": [
       "Index(['Michael', 'Dwight', 'Jim', 'Pam', 'Andy', 'Kevin', 'Angela', 'Erin',\n",
       "       'Oscar', 'Ryan', 'Darryl', 'Phyllis', 'Kelly', 'Jan', 'Toby', 'Stanley',\n",
       "       'Meredith', 'Holly', 'Nellie', 'Gabe', 'Creed', 'Robert', 'David',\n",
       "       'Karen', 'Clark', 'Roy', 'Charles', 'Pete', 'Jo', 'Deangelo',\n",
       "       'David Wallace', 'Carol', 'Katy', 'Donna', 'DeAngelo', 'Val', 'Danny',\n",
       "       'Todd Packer', 'Josh', 'All', 'Everyone', 'Jessica', 'Nate', 'Packer',\n",
       "       'Brian', 'Cathy', 'Helene', 'Susan', 'Hank', 'Man'],\n",
       "      dtype='object')"
      ]
     },
     "execution_count": 17,
     "metadata": {},
     "output_type": "execute_result"
    }
   ],
   "source": [
    "#get top 50 characters\n",
    "major_characters = df['speaker'].value_counts()[:50].index\n",
    "major_characters"
   ]
  },
  {
   "cell_type": "code",
   "execution_count": 18,
   "metadata": {
    "ExecuteTime": {
     "end_time": "2021-04-26T12:12:42.819365Z",
     "start_time": "2021-04-26T12:12:42.809540Z"
    }
   },
   "outputs": [
    {
     "name": "stdout",
     "output_type": "stream",
     "text": [
      "['Michael', 'Dwight', 'Jim', 'Pam', 'Andy', 'Kevin', 'Angela', 'Erin', 'Oscar', 'Ryan', 'Darryl', 'Phyllis', 'Kelly', 'Jan', 'Toby', 'Stanley', 'Meredith', 'Holly', 'Nellie', 'Gabe', 'Creed', 'Robert', 'David', 'Karen', 'Clark', 'Roy', 'Charles', 'Pete', 'Jo', 'Deangelo', 'David Wallace', 'Carol', 'Katy', 'Donna', 'DeAngelo', 'Val', 'Danny', 'Todd Packer', 'Josh', 'Jessica', 'Nate', 'Packer', 'Brian', 'Cathy', 'Helene', 'Susan', 'Hank', 'Man']\n"
     ]
    }
   ],
   "source": [
    "#remove 'All' and 'Everyone' in the major character list\n",
    "#\"#ALL#\" for FRIENDS\n",
    "major_characters = [character for character in major_characters if character not in ['#ALL#','All','Everyone']]\n",
    "print(major_characters)"
   ]
  },
  {
   "cell_type": "code",
   "execution_count": 19,
   "metadata": {
    "ExecuteTime": {
     "end_time": "2021-04-26T12:12:57.461083Z",
     "start_time": "2021-04-26T12:12:57.452240Z"
    }
   },
   "outputs": [
    {
     "data": {
      "text/plain": [
       "57973"
      ]
     },
     "execution_count": 19,
     "metadata": {},
     "output_type": "execute_result"
    }
   ],
   "source": [
    "len(df)"
   ]
  },
  {
   "cell_type": "code",
   "execution_count": 20,
   "metadata": {
    "ExecuteTime": {
     "end_time": "2021-04-26T12:13:10.729875Z",
     "start_time": "2021-04-26T12:13:10.705727Z"
    }
   },
   "outputs": [
    {
     "data": {
      "text/plain": [
       "54018"
      ]
     },
     "execution_count": 20,
     "metadata": {},
     "output_type": "execute_result"
    }
   ],
   "source": [
    "# Keep only major characters\n",
    "df = df[df['speaker'].isin(major_characters)]\n",
    "len(df)"
   ]
  },
  {
   "cell_type": "markdown",
   "metadata": {},
   "source": [
    "## Creating the speaker combinations table\n",
    "This table will be used to setup our sitcom network."
   ]
  },
  {
   "cell_type": "markdown",
   "metadata": {},
   "source": [
    "The pandas `groupby` operator functions in the same way as pivot_table in excel\n",
    "\n",
    "The syntax for a single index column and single agg column:\n",
    "```python\n",
    "df.groupby('index_col')['agg_col'].aggfunc()\n",
    "```\n",
    "\n",
    "A good analogy for  pandas `groupby` is making cocktails at a party: the glasses is the items in `index_col`, the beverage is the `agg_col`, and how the beverage is poured into the glasses is `aggfunc`.\n",
    "\n",
    "<img src=\"groupby.png\" align=\"left\" alt=\"Drawing\" style=\"width: 300px;\"/>\n",
    "<br>\n",
    "<br>\n",
    "<br>\n",
    "<br>\n",
    "<br>\n",
    "<br>\n",
    "<br>\n",
    "<br>\n",
    "<br>\n",
    "<br>\n",
    "<br>\n",
    "<br>\n",
    "\n",
    "\n",
    "For multiple indices and multiple aggregations:\n",
    "```python\n",
    "df.groupby(['index_col','index_col2']).agg('agg_col1':aggfunc1, 'agg_col2':aggfunc2)\n",
    "```"
   ]
  },
  {
   "cell_type": "code",
   "execution_count": 21,
   "metadata": {
    "ExecuteTime": {
     "end_time": "2021-04-26T12:15:52.787570Z",
     "start_time": "2021-04-26T12:15:52.767014Z"
    }
   },
   "outputs": [
    {
     "data": {
      "text/plain": [
       "season\n",
       "1    1471\n",
       "2    5649\n",
       "3    7040\n",
       "4    5230\n",
       "5    7735\n",
       "6    7052\n",
       "7    6849\n",
       "8    6610\n",
       "9    6382\n",
       "Name: line_text, dtype: int64"
      ]
     },
     "execution_count": 21,
     "metadata": {},
     "output_type": "execute_result"
    }
   ],
   "source": [
    "# How many lines are spoken in each season?\n",
    "df.groupby('season')['line_text'].count()"
   ]
  },
  {
   "cell_type": "code",
   "execution_count": 22,
   "metadata": {
    "ExecuteTime": {
     "end_time": "2021-04-26T12:16:19.500878Z",
     "start_time": "2021-04-26T12:16:19.436212Z"
    }
   },
   "outputs": [
    {
     "data": {
      "text/html": [
       "<div>\n",
       "<style scoped>\n",
       "    .dataframe tbody tr th:only-of-type {\n",
       "        vertical-align: middle;\n",
       "    }\n",
       "\n",
       "    .dataframe tbody tr th {\n",
       "        vertical-align: top;\n",
       "    }\n",
       "\n",
       "    .dataframe thead th {\n",
       "        text-align: right;\n",
       "    }\n",
       "</style>\n",
       "<table border=\"1\" class=\"dataframe\">\n",
       "  <thead>\n",
       "    <tr style=\"text-align: right;\">\n",
       "      <th></th>\n",
       "      <th>episode</th>\n",
       "    </tr>\n",
       "    <tr>\n",
       "      <th>season</th>\n",
       "      <th></th>\n",
       "    </tr>\n",
       "  </thead>\n",
       "  <tbody>\n",
       "    <tr>\n",
       "      <th>1</th>\n",
       "      <td>6</td>\n",
       "    </tr>\n",
       "    <tr>\n",
       "      <th>2</th>\n",
       "      <td>22</td>\n",
       "    </tr>\n",
       "    <tr>\n",
       "      <th>3</th>\n",
       "      <td>23</td>\n",
       "    </tr>\n",
       "    <tr>\n",
       "      <th>4</th>\n",
       "      <td>14</td>\n",
       "    </tr>\n",
       "    <tr>\n",
       "      <th>5</th>\n",
       "      <td>26</td>\n",
       "    </tr>\n",
       "    <tr>\n",
       "      <th>6</th>\n",
       "      <td>24</td>\n",
       "    </tr>\n",
       "    <tr>\n",
       "      <th>7</th>\n",
       "      <td>24</td>\n",
       "    </tr>\n",
       "    <tr>\n",
       "      <th>8</th>\n",
       "      <td>24</td>\n",
       "    </tr>\n",
       "    <tr>\n",
       "      <th>9</th>\n",
       "      <td>23</td>\n",
       "    </tr>\n",
       "  </tbody>\n",
       "</table>\n",
       "</div>"
      ],
      "text/plain": [
       "        episode\n",
       "season         \n",
       "1             6\n",
       "2            22\n",
       "3            23\n",
       "4            14\n",
       "5            26\n",
       "6            24\n",
       "7            24\n",
       "8            24\n",
       "9            23"
      ]
     },
     "execution_count": 22,
     "metadata": {},
     "output_type": "execute_result"
    }
   ],
   "source": [
    "# How many episodes are in each season?\n",
    "df.groupby('season')[['episode']].nunique()"
   ]
  },
  {
   "cell_type": "code",
   "execution_count": 23,
   "metadata": {
    "ExecuteTime": {
     "end_time": "2021-04-26T12:17:06.929933Z",
     "start_time": "2021-04-26T12:17:06.900078Z"
    }
   },
   "outputs": [
    {
     "data": {
      "text/plain": [
       "speaker\n",
       "Michael    11574\n",
       "Dwight      7167\n",
       "Jim         6609\n",
       "Pam         5205\n",
       "Andy        3968\n",
       "Name: line_text, dtype: int64"
      ]
     },
     "execution_count": 23,
     "metadata": {},
     "output_type": "execute_result"
    }
   ],
   "source": [
    "#Which characters has the most lines?\n",
    "df.groupby(['speaker'])['line_text'].count().sort_values(ascending=False).head(5)"
   ]
  },
  {
   "cell_type": "code",
   "execution_count": 44,
   "metadata": {
    "ExecuteTime": {
     "end_time": "2021-04-26T12:29:52.116237Z",
     "start_time": "2021-04-26T12:29:50.374399Z"
    }
   },
   "outputs": [
    {
     "data": {
      "text/plain": [
       "season  episode  scene\n",
       "1       1        1        [Michael, Jim]\n",
       "                 2             [Michael]\n",
       "                 3        [Michael, Pam]\n",
       "                 4             [Michael]\n",
       "                 5              [Dwight]\n",
       "                               ...      \n",
       "9       23       112             [Creed]\n",
       "                 113          [Meredith]\n",
       "                 114           [Phyllis]\n",
       "                 115               [Jim]\n",
       "                 116               [Pam]\n",
       "Name: speaker, Length: 8775, dtype: object"
      ]
     },
     "execution_count": 44,
     "metadata": {},
     "output_type": "execute_result"
    }
   ],
   "source": [
    "# Which speakers are in each scene?\n",
    "pdf = df.groupby(['season','episode','scene'])['speaker'].unique()\n",
    "pdf"
   ]
  },
  {
   "cell_type": "code",
   "execution_count": 45,
   "metadata": {
    "ExecuteTime": {
     "end_time": "2021-04-26T12:29:52.335593Z",
     "start_time": "2021-04-26T12:29:52.121613Z"
    }
   },
   "outputs": [
    {
     "data": {
      "text/html": [
       "<div>\n",
       "<style scoped>\n",
       "    .dataframe tbody tr th:only-of-type {\n",
       "        vertical-align: middle;\n",
       "    }\n",
       "\n",
       "    .dataframe tbody tr th {\n",
       "        vertical-align: top;\n",
       "    }\n",
       "\n",
       "    .dataframe thead th {\n",
       "        text-align: right;\n",
       "    }\n",
       "</style>\n",
       "<table border=\"1\" class=\"dataframe\">\n",
       "  <thead>\n",
       "    <tr style=\"text-align: right;\">\n",
       "      <th></th>\n",
       "      <th>season</th>\n",
       "      <th>episode</th>\n",
       "      <th>scene</th>\n",
       "      <th>speaker</th>\n",
       "    </tr>\n",
       "  </thead>\n",
       "  <tbody>\n",
       "    <tr>\n",
       "      <th>0</th>\n",
       "      <td>1</td>\n",
       "      <td>1</td>\n",
       "      <td>1</td>\n",
       "      <td>[Michael, Jim]</td>\n",
       "    </tr>\n",
       "    <tr>\n",
       "      <th>1</th>\n",
       "      <td>1</td>\n",
       "      <td>1</td>\n",
       "      <td>2</td>\n",
       "      <td>[Michael]</td>\n",
       "    </tr>\n",
       "    <tr>\n",
       "      <th>2</th>\n",
       "      <td>1</td>\n",
       "      <td>1</td>\n",
       "      <td>3</td>\n",
       "      <td>[Michael, Pam]</td>\n",
       "    </tr>\n",
       "    <tr>\n",
       "      <th>3</th>\n",
       "      <td>1</td>\n",
       "      <td>1</td>\n",
       "      <td>4</td>\n",
       "      <td>[Michael]</td>\n",
       "    </tr>\n",
       "    <tr>\n",
       "      <th>4</th>\n",
       "      <td>1</td>\n",
       "      <td>1</td>\n",
       "      <td>5</td>\n",
       "      <td>[Dwight]</td>\n",
       "    </tr>\n",
       "    <tr>\n",
       "      <th>...</th>\n",
       "      <td>...</td>\n",
       "      <td>...</td>\n",
       "      <td>...</td>\n",
       "      <td>...</td>\n",
       "    </tr>\n",
       "    <tr>\n",
       "      <th>8770</th>\n",
       "      <td>9</td>\n",
       "      <td>23</td>\n",
       "      <td>112</td>\n",
       "      <td>[Creed]</td>\n",
       "    </tr>\n",
       "    <tr>\n",
       "      <th>8771</th>\n",
       "      <td>9</td>\n",
       "      <td>23</td>\n",
       "      <td>113</td>\n",
       "      <td>[Meredith]</td>\n",
       "    </tr>\n",
       "    <tr>\n",
       "      <th>8772</th>\n",
       "      <td>9</td>\n",
       "      <td>23</td>\n",
       "      <td>114</td>\n",
       "      <td>[Phyllis]</td>\n",
       "    </tr>\n",
       "    <tr>\n",
       "      <th>8773</th>\n",
       "      <td>9</td>\n",
       "      <td>23</td>\n",
       "      <td>115</td>\n",
       "      <td>[Jim]</td>\n",
       "    </tr>\n",
       "    <tr>\n",
       "      <th>8774</th>\n",
       "      <td>9</td>\n",
       "      <td>23</td>\n",
       "      <td>116</td>\n",
       "      <td>[Pam]</td>\n",
       "    </tr>\n",
       "  </tbody>\n",
       "</table>\n",
       "<p>8775 rows × 4 columns</p>\n",
       "</div>"
      ],
      "text/plain": [
       "      season  episode  scene         speaker\n",
       "0          1        1      1  [Michael, Jim]\n",
       "1          1        1      2       [Michael]\n",
       "2          1        1      3  [Michael, Pam]\n",
       "3          1        1      4       [Michael]\n",
       "4          1        1      5        [Dwight]\n",
       "...      ...      ...    ...             ...\n",
       "8770       9       23    112         [Creed]\n",
       "8771       9       23    113      [Meredith]\n",
       "8772       9       23    114       [Phyllis]\n",
       "8773       9       23    115           [Jim]\n",
       "8774       9       23    116           [Pam]\n",
       "\n",
       "[8775 rows x 4 columns]"
      ]
     },
     "execution_count": 45,
     "metadata": {},
     "output_type": "execute_result"
    }
   ],
   "source": [
    "#reset index to convert groupby output to DataFrame\n",
    "pdf = pdf.reset_index()\n",
    "pdf"
   ]
  },
  {
   "cell_type": "code",
   "execution_count": 46,
   "metadata": {
    "ExecuteTime": {
     "end_time": "2021-04-26T12:29:52.366548Z",
     "start_time": "2021-04-26T12:29:52.345548Z"
    }
   },
   "outputs": [],
   "source": [
    "# get number of speakers in scene\n",
    "pdf['num_speakers'] = pdf['speaker'].apply(lambda x: len(x))"
   ]
  },
  {
   "cell_type": "code",
   "execution_count": 47,
   "metadata": {
    "ExecuteTime": {
     "end_time": "2021-04-26T12:29:52.451761Z",
     "start_time": "2021-04-26T12:29:52.393292Z"
    }
   },
   "outputs": [
    {
     "data": {
      "text/html": [
       "<div>\n",
       "<style scoped>\n",
       "    .dataframe tbody tr th:only-of-type {\n",
       "        vertical-align: middle;\n",
       "    }\n",
       "\n",
       "    .dataframe tbody tr th {\n",
       "        vertical-align: top;\n",
       "    }\n",
       "\n",
       "    .dataframe thead th {\n",
       "        text-align: right;\n",
       "    }\n",
       "</style>\n",
       "<table border=\"1\" class=\"dataframe\">\n",
       "  <thead>\n",
       "    <tr style=\"text-align: right;\">\n",
       "      <th></th>\n",
       "      <th>season</th>\n",
       "      <th>episode</th>\n",
       "      <th>scene</th>\n",
       "      <th>speaker</th>\n",
       "      <th>num_speakers</th>\n",
       "    </tr>\n",
       "  </thead>\n",
       "  <tbody>\n",
       "    <tr>\n",
       "      <th>0</th>\n",
       "      <td>1</td>\n",
       "      <td>1</td>\n",
       "      <td>1</td>\n",
       "      <td>[Michael, Jim]</td>\n",
       "      <td>2</td>\n",
       "    </tr>\n",
       "    <tr>\n",
       "      <th>1</th>\n",
       "      <td>1</td>\n",
       "      <td>1</td>\n",
       "      <td>2</td>\n",
       "      <td>[Michael]</td>\n",
       "      <td>1</td>\n",
       "    </tr>\n",
       "    <tr>\n",
       "      <th>2</th>\n",
       "      <td>1</td>\n",
       "      <td>1</td>\n",
       "      <td>3</td>\n",
       "      <td>[Michael, Pam]</td>\n",
       "      <td>2</td>\n",
       "    </tr>\n",
       "    <tr>\n",
       "      <th>3</th>\n",
       "      <td>1</td>\n",
       "      <td>1</td>\n",
       "      <td>4</td>\n",
       "      <td>[Michael]</td>\n",
       "      <td>1</td>\n",
       "    </tr>\n",
       "    <tr>\n",
       "      <th>4</th>\n",
       "      <td>1</td>\n",
       "      <td>1</td>\n",
       "      <td>5</td>\n",
       "      <td>[Dwight]</td>\n",
       "      <td>1</td>\n",
       "    </tr>\n",
       "    <tr>\n",
       "      <th>...</th>\n",
       "      <td>...</td>\n",
       "      <td>...</td>\n",
       "      <td>...</td>\n",
       "      <td>...</td>\n",
       "      <td>...</td>\n",
       "    </tr>\n",
       "    <tr>\n",
       "      <th>8770</th>\n",
       "      <td>9</td>\n",
       "      <td>23</td>\n",
       "      <td>112</td>\n",
       "      <td>[Creed]</td>\n",
       "      <td>1</td>\n",
       "    </tr>\n",
       "    <tr>\n",
       "      <th>8771</th>\n",
       "      <td>9</td>\n",
       "      <td>23</td>\n",
       "      <td>113</td>\n",
       "      <td>[Meredith]</td>\n",
       "      <td>1</td>\n",
       "    </tr>\n",
       "    <tr>\n",
       "      <th>8772</th>\n",
       "      <td>9</td>\n",
       "      <td>23</td>\n",
       "      <td>114</td>\n",
       "      <td>[Phyllis]</td>\n",
       "      <td>1</td>\n",
       "    </tr>\n",
       "    <tr>\n",
       "      <th>8773</th>\n",
       "      <td>9</td>\n",
       "      <td>23</td>\n",
       "      <td>115</td>\n",
       "      <td>[Jim]</td>\n",
       "      <td>1</td>\n",
       "    </tr>\n",
       "    <tr>\n",
       "      <th>8774</th>\n",
       "      <td>9</td>\n",
       "      <td>23</td>\n",
       "      <td>116</td>\n",
       "      <td>[Pam]</td>\n",
       "      <td>1</td>\n",
       "    </tr>\n",
       "  </tbody>\n",
       "</table>\n",
       "<p>8775 rows × 5 columns</p>\n",
       "</div>"
      ],
      "text/plain": [
       "      season  episode  scene         speaker  num_speakers\n",
       "0          1        1      1  [Michael, Jim]             2\n",
       "1          1        1      2       [Michael]             1\n",
       "2          1        1      3  [Michael, Pam]             2\n",
       "3          1        1      4       [Michael]             1\n",
       "4          1        1      5        [Dwight]             1\n",
       "...      ...      ...    ...             ...           ...\n",
       "8770       9       23    112         [Creed]             1\n",
       "8771       9       23    113      [Meredith]             1\n",
       "8772       9       23    114       [Phyllis]             1\n",
       "8773       9       23    115           [Jim]             1\n",
       "8774       9       23    116           [Pam]             1\n",
       "\n",
       "[8775 rows x 5 columns]"
      ]
     },
     "execution_count": 47,
     "metadata": {},
     "output_type": "execute_result"
    }
   ],
   "source": [
    "pdf"
   ]
  },
  {
   "cell_type": "code",
   "execution_count": 48,
   "metadata": {
    "ExecuteTime": {
     "end_time": "2021-04-26T12:29:52.471801Z",
     "start_time": "2021-04-26T12:29:52.458343Z"
    }
   },
   "outputs": [
    {
     "data": {
      "text/plain": [
       "8775"
      ]
     },
     "execution_count": 48,
     "metadata": {},
     "output_type": "execute_result"
    }
   ],
   "source": [
    "len(pdf)"
   ]
  },
  {
   "cell_type": "markdown",
   "metadata": {},
   "source": [
    "**Filter 3**: Remove scenes where there is only one speaker talking"
   ]
  },
  {
   "cell_type": "code",
   "execution_count": 49,
   "metadata": {
    "ExecuteTime": {
     "end_time": "2021-04-26T12:29:52.552493Z",
     "start_time": "2021-04-26T12:29:52.493560Z"
    }
   },
   "outputs": [
    {
     "data": {
      "text/plain": [
       "5321"
      ]
     },
     "execution_count": 49,
     "metadata": {},
     "output_type": "execute_result"
    }
   ],
   "source": [
    "pdf = pdf[pdf['num_speakers']>=2]\n",
    "len(pdf)"
   ]
  },
  {
   "cell_type": "code",
   "execution_count": 50,
   "metadata": {
    "ExecuteTime": {
     "end_time": "2021-04-26T12:29:52.667272Z",
     "start_time": "2021-04-26T12:29:52.563287Z"
    }
   },
   "outputs": [
    {
     "data": {
      "text/html": [
       "<div>\n",
       "<style scoped>\n",
       "    .dataframe tbody tr th:only-of-type {\n",
       "        vertical-align: middle;\n",
       "    }\n",
       "\n",
       "    .dataframe tbody tr th {\n",
       "        vertical-align: top;\n",
       "    }\n",
       "\n",
       "    .dataframe thead th {\n",
       "        text-align: right;\n",
       "    }\n",
       "</style>\n",
       "<table border=\"1\" class=\"dataframe\">\n",
       "  <thead>\n",
       "    <tr style=\"text-align: right;\">\n",
       "      <th></th>\n",
       "      <th>season</th>\n",
       "      <th>episode</th>\n",
       "      <th>scene</th>\n",
       "      <th>speaker</th>\n",
       "      <th>num_speakers</th>\n",
       "    </tr>\n",
       "  </thead>\n",
       "  <tbody>\n",
       "    <tr>\n",
       "      <th>0</th>\n",
       "      <td>1</td>\n",
       "      <td>1</td>\n",
       "      <td>1</td>\n",
       "      <td>[Michael, Jim]</td>\n",
       "      <td>2</td>\n",
       "    </tr>\n",
       "    <tr>\n",
       "      <th>2</th>\n",
       "      <td>1</td>\n",
       "      <td>1</td>\n",
       "      <td>3</td>\n",
       "      <td>[Michael, Pam]</td>\n",
       "      <td>2</td>\n",
       "    </tr>\n",
       "    <tr>\n",
       "      <th>6</th>\n",
       "      <td>1</td>\n",
       "      <td>1</td>\n",
       "      <td>7</td>\n",
       "      <td>[Michael, Jim, Dwight]</td>\n",
       "      <td>3</td>\n",
       "    </tr>\n",
       "    <tr>\n",
       "      <th>9</th>\n",
       "      <td>1</td>\n",
       "      <td>1</td>\n",
       "      <td>10</td>\n",
       "      <td>[Jan, Michael, Pam]</td>\n",
       "      <td>3</td>\n",
       "    </tr>\n",
       "    <tr>\n",
       "      <th>10</th>\n",
       "      <td>1</td>\n",
       "      <td>1</td>\n",
       "      <td>11</td>\n",
       "      <td>[Michael, Jan, Todd Packer]</td>\n",
       "      <td>3</td>\n",
       "    </tr>\n",
       "    <tr>\n",
       "      <th>...</th>\n",
       "      <td>...</td>\n",
       "      <td>...</td>\n",
       "      <td>...</td>\n",
       "      <td>...</td>\n",
       "      <td>...</td>\n",
       "    </tr>\n",
       "    <tr>\n",
       "      <th>8756</th>\n",
       "      <td>9</td>\n",
       "      <td>23</td>\n",
       "      <td>98</td>\n",
       "      <td>[Darryl, Kevin, Andy]</td>\n",
       "      <td>3</td>\n",
       "    </tr>\n",
       "    <tr>\n",
       "      <th>8757</th>\n",
       "      <td>9</td>\n",
       "      <td>23</td>\n",
       "      <td>99</td>\n",
       "      <td>[Pam, Jim, Dwight]</td>\n",
       "      <td>3</td>\n",
       "    </tr>\n",
       "    <tr>\n",
       "      <th>8759</th>\n",
       "      <td>9</td>\n",
       "      <td>23</td>\n",
       "      <td>101</td>\n",
       "      <td>[Andy, Kevin, Darryl]</td>\n",
       "      <td>3</td>\n",
       "    </tr>\n",
       "    <tr>\n",
       "      <th>8765</th>\n",
       "      <td>9</td>\n",
       "      <td>23</td>\n",
       "      <td>107</td>\n",
       "      <td>[Phyllis, Jim, Creed, Angela]</td>\n",
       "      <td>4</td>\n",
       "    </tr>\n",
       "    <tr>\n",
       "      <th>8766</th>\n",
       "      <td>9</td>\n",
       "      <td>23</td>\n",
       "      <td>108</td>\n",
       "      <td>[Kevin, Oscar]</td>\n",
       "      <td>2</td>\n",
       "    </tr>\n",
       "  </tbody>\n",
       "</table>\n",
       "<p>5321 rows × 5 columns</p>\n",
       "</div>"
      ],
      "text/plain": [
       "      season  episode  scene                        speaker  num_speakers\n",
       "0          1        1      1                 [Michael, Jim]             2\n",
       "2          1        1      3                 [Michael, Pam]             2\n",
       "6          1        1      7         [Michael, Jim, Dwight]             3\n",
       "9          1        1     10            [Jan, Michael, Pam]             3\n",
       "10         1        1     11    [Michael, Jan, Todd Packer]             3\n",
       "...      ...      ...    ...                            ...           ...\n",
       "8756       9       23     98          [Darryl, Kevin, Andy]             3\n",
       "8757       9       23     99             [Pam, Jim, Dwight]             3\n",
       "8759       9       23    101          [Andy, Kevin, Darryl]             3\n",
       "8765       9       23    107  [Phyllis, Jim, Creed, Angela]             4\n",
       "8766       9       23    108                 [Kevin, Oscar]             2\n",
       "\n",
       "[5321 rows x 5 columns]"
      ]
     },
     "execution_count": 50,
     "metadata": {},
     "output_type": "execute_result"
    }
   ],
   "source": [
    "pdf"
   ]
  },
  {
   "cell_type": "markdown",
   "metadata": {},
   "source": [
    "To get the possible interactions in the scene, we need to split each speaker list into all possible pairs "
   ]
  },
  {
   "cell_type": "code",
   "execution_count": 51,
   "metadata": {
    "ExecuteTime": {
     "end_time": "2021-04-26T12:29:53.255453Z",
     "start_time": "2021-04-26T12:29:53.247584Z"
    }
   },
   "outputs": [],
   "source": [
    "from itertools import combinations"
   ]
  },
  {
   "cell_type": "code",
   "execution_count": 52,
   "metadata": {
    "ExecuteTime": {
     "end_time": "2021-04-26T12:29:53.717439Z",
     "start_time": "2021-04-26T12:29:53.694147Z"
    }
   },
   "outputs": [
    {
     "data": {
      "text/plain": [
       "[{'Angela', 'Jim'},\n",
       " {'Creed', 'Jim'},\n",
       " {'Jim', 'Phyllis'},\n",
       " {'Angela', 'Creed'},\n",
       " {'Angela', 'Phyllis'},\n",
       " {'Creed', 'Phyllis'}]"
      ]
     },
     "execution_count": 52,
     "metadata": {},
     "output_type": "execute_result"
    }
   ],
   "source": [
    "#example \n",
    "[set(c) for c in combinations([\"Jim\", \"Angela\", \"Creed\", \"Phyllis\"],2 )]"
   ]
  },
  {
   "cell_type": "code",
   "execution_count": 53,
   "metadata": {
    "ExecuteTime": {
     "end_time": "2021-04-26T12:29:54.057649Z",
     "start_time": "2021-04-26T12:29:54.034590Z"
    }
   },
   "outputs": [
    {
     "data": {
      "text/plain": [
       "False"
      ]
     },
     "execution_count": 53,
     "metadata": {},
     "output_type": "execute_result"
    }
   ],
   "source": [
    "('Angela', 'Jim') == ('Jim', 'Angela')"
   ]
  },
  {
   "cell_type": "code",
   "execution_count": 54,
   "metadata": {
    "ExecuteTime": {
     "end_time": "2021-04-26T12:29:54.684549Z",
     "start_time": "2021-04-26T12:29:54.676051Z"
    }
   },
   "outputs": [
    {
     "data": {
      "text/plain": [
       "True"
      ]
     },
     "execution_count": 54,
     "metadata": {},
     "output_type": "execute_result"
    }
   ],
   "source": [
    "#Are sets really order-independent?\n",
    "{'Angela', 'Jim'} == {'Jim', 'Angela'}"
   ]
  },
  {
   "cell_type": "code",
   "execution_count": 55,
   "metadata": {
    "ExecuteTime": {
     "end_time": "2021-04-26T12:29:55.465361Z",
     "start_time": "2021-04-26T12:29:55.378945Z"
    }
   },
   "outputs": [
    {
     "name": "stderr",
     "output_type": "stream",
     "text": [
      "<ipython-input-55-8e4b557a60da>:2: SettingWithCopyWarning: \n",
      "A value is trying to be set on a copy of a slice from a DataFrame.\n",
      "Try using .loc[row_indexer,col_indexer] = value instead\n",
      "\n",
      "See the caveats in the documentation: https://pandas.pydata.org/pandas-docs/stable/user_guide/indexing.html#returning-a-view-versus-a-copy\n",
      "  pdf['speaker_combinations'] = pdf['speaker'].apply(lambda x: [set(c) for c in combinations(x,2)])\n"
     ]
    },
    {
     "data": {
      "text/html": [
       "<div>\n",
       "<style scoped>\n",
       "    .dataframe tbody tr th:only-of-type {\n",
       "        vertical-align: middle;\n",
       "    }\n",
       "\n",
       "    .dataframe tbody tr th {\n",
       "        vertical-align: top;\n",
       "    }\n",
       "\n",
       "    .dataframe thead th {\n",
       "        text-align: right;\n",
       "    }\n",
       "</style>\n",
       "<table border=\"1\" class=\"dataframe\">\n",
       "  <thead>\n",
       "    <tr style=\"text-align: right;\">\n",
       "      <th></th>\n",
       "      <th>season</th>\n",
       "      <th>episode</th>\n",
       "      <th>scene</th>\n",
       "      <th>speaker</th>\n",
       "      <th>num_speakers</th>\n",
       "      <th>speaker_combinations</th>\n",
       "    </tr>\n",
       "  </thead>\n",
       "  <tbody>\n",
       "    <tr>\n",
       "      <th>0</th>\n",
       "      <td>1</td>\n",
       "      <td>1</td>\n",
       "      <td>1</td>\n",
       "      <td>[Michael, Jim]</td>\n",
       "      <td>2</td>\n",
       "      <td>[{Jim, Michael}]</td>\n",
       "    </tr>\n",
       "    <tr>\n",
       "      <th>2</th>\n",
       "      <td>1</td>\n",
       "      <td>1</td>\n",
       "      <td>3</td>\n",
       "      <td>[Michael, Pam]</td>\n",
       "      <td>2</td>\n",
       "      <td>[{Michael, Pam}]</td>\n",
       "    </tr>\n",
       "    <tr>\n",
       "      <th>6</th>\n",
       "      <td>1</td>\n",
       "      <td>1</td>\n",
       "      <td>7</td>\n",
       "      <td>[Michael, Jim, Dwight]</td>\n",
       "      <td>3</td>\n",
       "      <td>[{Jim, Michael}, {Dwight, Michael}, {Jim, Dwig...</td>\n",
       "    </tr>\n",
       "    <tr>\n",
       "      <th>9</th>\n",
       "      <td>1</td>\n",
       "      <td>1</td>\n",
       "      <td>10</td>\n",
       "      <td>[Jan, Michael, Pam]</td>\n",
       "      <td>3</td>\n",
       "      <td>[{Michael, Jan}, {Jan, Pam}, {Michael, Pam}]</td>\n",
       "    </tr>\n",
       "    <tr>\n",
       "      <th>10</th>\n",
       "      <td>1</td>\n",
       "      <td>1</td>\n",
       "      <td>11</td>\n",
       "      <td>[Michael, Jan, Todd Packer]</td>\n",
       "      <td>3</td>\n",
       "      <td>[{Michael, Jan}, {Todd Packer, Michael}, {Todd...</td>\n",
       "    </tr>\n",
       "  </tbody>\n",
       "</table>\n",
       "</div>"
      ],
      "text/plain": [
       "    season  episode  scene                      speaker  num_speakers  \\\n",
       "0        1        1      1               [Michael, Jim]             2   \n",
       "2        1        1      3               [Michael, Pam]             2   \n",
       "6        1        1      7       [Michael, Jim, Dwight]             3   \n",
       "9        1        1     10          [Jan, Michael, Pam]             3   \n",
       "10       1        1     11  [Michael, Jan, Todd Packer]             3   \n",
       "\n",
       "                                 speaker_combinations  \n",
       "0                                    [{Jim, Michael}]  \n",
       "2                                    [{Michael, Pam}]  \n",
       "6   [{Jim, Michael}, {Dwight, Michael}, {Jim, Dwig...  \n",
       "9        [{Michael, Jan}, {Jan, Pam}, {Michael, Pam}]  \n",
       "10  [{Michael, Jan}, {Todd Packer, Michael}, {Todd...  "
      ]
     },
     "execution_count": 55,
     "metadata": {},
     "output_type": "execute_result"
    }
   ],
   "source": [
    "# convert speaker combinations into set to make it order-independent\n",
    "pdf['speaker_combinations'] = pdf['speaker'].apply(lambda x: [set(c) for c in combinations(x,2)])\n",
    "pdf.head()"
   ]
  },
  {
   "cell_type": "code",
   "execution_count": 56,
   "metadata": {
    "ExecuteTime": {
     "end_time": "2021-04-26T12:29:56.717127Z",
     "start_time": "2021-04-26T12:29:56.671053Z"
    }
   },
   "outputs": [
    {
     "data": {
      "text/html": [
       "<div>\n",
       "<style scoped>\n",
       "    .dataframe tbody tr th:only-of-type {\n",
       "        vertical-align: middle;\n",
       "    }\n",
       "\n",
       "    .dataframe tbody tr th {\n",
       "        vertical-align: top;\n",
       "    }\n",
       "\n",
       "    .dataframe thead th {\n",
       "        text-align: right;\n",
       "    }\n",
       "</style>\n",
       "<table border=\"1\" class=\"dataframe\">\n",
       "  <thead>\n",
       "    <tr style=\"text-align: right;\">\n",
       "      <th></th>\n",
       "      <th>season</th>\n",
       "      <th>episode</th>\n",
       "      <th>scene</th>\n",
       "      <th>speaker_combinations</th>\n",
       "    </tr>\n",
       "  </thead>\n",
       "  <tbody>\n",
       "    <tr>\n",
       "      <th>0</th>\n",
       "      <td>1</td>\n",
       "      <td>1</td>\n",
       "      <td>1</td>\n",
       "      <td>{Jim, Michael}</td>\n",
       "    </tr>\n",
       "    <tr>\n",
       "      <th>2</th>\n",
       "      <td>1</td>\n",
       "      <td>1</td>\n",
       "      <td>3</td>\n",
       "      <td>{Michael, Pam}</td>\n",
       "    </tr>\n",
       "    <tr>\n",
       "      <th>6</th>\n",
       "      <td>1</td>\n",
       "      <td>1</td>\n",
       "      <td>7</td>\n",
       "      <td>{Jim, Michael}</td>\n",
       "    </tr>\n",
       "    <tr>\n",
       "      <th>6</th>\n",
       "      <td>1</td>\n",
       "      <td>1</td>\n",
       "      <td>7</td>\n",
       "      <td>{Dwight, Michael}</td>\n",
       "    </tr>\n",
       "    <tr>\n",
       "      <th>6</th>\n",
       "      <td>1</td>\n",
       "      <td>1</td>\n",
       "      <td>7</td>\n",
       "      <td>{Jim, Dwight}</td>\n",
       "    </tr>\n",
       "    <tr>\n",
       "      <th>...</th>\n",
       "      <td>...</td>\n",
       "      <td>...</td>\n",
       "      <td>...</td>\n",
       "      <td>...</td>\n",
       "    </tr>\n",
       "    <tr>\n",
       "      <th>8765</th>\n",
       "      <td>9</td>\n",
       "      <td>23</td>\n",
       "      <td>107</td>\n",
       "      <td>{Phyllis, Angela}</td>\n",
       "    </tr>\n",
       "    <tr>\n",
       "      <th>8765</th>\n",
       "      <td>9</td>\n",
       "      <td>23</td>\n",
       "      <td>107</td>\n",
       "      <td>{Jim, Creed}</td>\n",
       "    </tr>\n",
       "    <tr>\n",
       "      <th>8765</th>\n",
       "      <td>9</td>\n",
       "      <td>23</td>\n",
       "      <td>107</td>\n",
       "      <td>{Jim, Angela}</td>\n",
       "    </tr>\n",
       "    <tr>\n",
       "      <th>8765</th>\n",
       "      <td>9</td>\n",
       "      <td>23</td>\n",
       "      <td>107</td>\n",
       "      <td>{Angela, Creed}</td>\n",
       "    </tr>\n",
       "    <tr>\n",
       "      <th>8766</th>\n",
       "      <td>9</td>\n",
       "      <td>23</td>\n",
       "      <td>108</td>\n",
       "      <td>{Kevin, Oscar}</td>\n",
       "    </tr>\n",
       "  </tbody>\n",
       "</table>\n",
       "<p>21688 rows × 4 columns</p>\n",
       "</div>"
      ],
      "text/plain": [
       "      season  episode  scene speaker_combinations\n",
       "0          1        1      1       {Jim, Michael}\n",
       "2          1        1      3       {Michael, Pam}\n",
       "6          1        1      7       {Jim, Michael}\n",
       "6          1        1      7    {Dwight, Michael}\n",
       "6          1        1      7        {Jim, Dwight}\n",
       "...      ...      ...    ...                  ...\n",
       "8765       9       23    107    {Phyllis, Angela}\n",
       "8765       9       23    107         {Jim, Creed}\n",
       "8765       9       23    107        {Jim, Angela}\n",
       "8765       9       23    107      {Angela, Creed}\n",
       "8766       9       23    108       {Kevin, Oscar}\n",
       "\n",
       "[21688 rows x 4 columns]"
      ]
     },
     "execution_count": 56,
     "metadata": {},
     "output_type": "execute_result"
    }
   ],
   "source": [
    "# use pd.explode to break up the list of speaker combinations so each would have its own row\n",
    "pdf = pdf[['season','episode','scene','speaker_combinations']].explode('speaker_combinations')\n",
    "pdf"
   ]
  },
  {
   "cell_type": "code",
   "execution_count": 57,
   "metadata": {
    "ExecuteTime": {
     "end_time": "2021-04-26T12:29:57.278507Z",
     "start_time": "2021-04-26T12:29:57.200334Z"
    }
   },
   "outputs": [
    {
     "data": {
      "text/html": [
       "<div>\n",
       "<style scoped>\n",
       "    .dataframe tbody tr th:only-of-type {\n",
       "        vertical-align: middle;\n",
       "    }\n",
       "\n",
       "    .dataframe tbody tr th {\n",
       "        vertical-align: top;\n",
       "    }\n",
       "\n",
       "    .dataframe thead th {\n",
       "        text-align: right;\n",
       "    }\n",
       "</style>\n",
       "<table border=\"1\" class=\"dataframe\">\n",
       "  <thead>\n",
       "    <tr style=\"text-align: right;\">\n",
       "      <th></th>\n",
       "      <th>season</th>\n",
       "      <th>episode</th>\n",
       "      <th>scene</th>\n",
       "      <th>speaker_combinations</th>\n",
       "      <th>speaker1</th>\n",
       "      <th>speaker2</th>\n",
       "    </tr>\n",
       "  </thead>\n",
       "  <tbody>\n",
       "    <tr>\n",
       "      <th>0</th>\n",
       "      <td>1</td>\n",
       "      <td>1</td>\n",
       "      <td>1</td>\n",
       "      <td>{Jim, Michael}</td>\n",
       "      <td>Jim</td>\n",
       "      <td>Michael</td>\n",
       "    </tr>\n",
       "    <tr>\n",
       "      <th>2</th>\n",
       "      <td>1</td>\n",
       "      <td>1</td>\n",
       "      <td>3</td>\n",
       "      <td>{Michael, Pam}</td>\n",
       "      <td>Michael</td>\n",
       "      <td>Pam</td>\n",
       "    </tr>\n",
       "    <tr>\n",
       "      <th>6</th>\n",
       "      <td>1</td>\n",
       "      <td>1</td>\n",
       "      <td>7</td>\n",
       "      <td>{Jim, Michael}</td>\n",
       "      <td>Jim</td>\n",
       "      <td>Michael</td>\n",
       "    </tr>\n",
       "    <tr>\n",
       "      <th>6</th>\n",
       "      <td>1</td>\n",
       "      <td>1</td>\n",
       "      <td>7</td>\n",
       "      <td>{Dwight, Michael}</td>\n",
       "      <td>Dwight</td>\n",
       "      <td>Michael</td>\n",
       "    </tr>\n",
       "    <tr>\n",
       "      <th>6</th>\n",
       "      <td>1</td>\n",
       "      <td>1</td>\n",
       "      <td>7</td>\n",
       "      <td>{Jim, Dwight}</td>\n",
       "      <td>Jim</td>\n",
       "      <td>Dwight</td>\n",
       "    </tr>\n",
       "    <tr>\n",
       "      <th>...</th>\n",
       "      <td>...</td>\n",
       "      <td>...</td>\n",
       "      <td>...</td>\n",
       "      <td>...</td>\n",
       "      <td>...</td>\n",
       "      <td>...</td>\n",
       "    </tr>\n",
       "    <tr>\n",
       "      <th>8765</th>\n",
       "      <td>9</td>\n",
       "      <td>23</td>\n",
       "      <td>107</td>\n",
       "      <td>{Phyllis, Angela}</td>\n",
       "      <td>Phyllis</td>\n",
       "      <td>Angela</td>\n",
       "    </tr>\n",
       "    <tr>\n",
       "      <th>8765</th>\n",
       "      <td>9</td>\n",
       "      <td>23</td>\n",
       "      <td>107</td>\n",
       "      <td>{Jim, Creed}</td>\n",
       "      <td>Jim</td>\n",
       "      <td>Creed</td>\n",
       "    </tr>\n",
       "    <tr>\n",
       "      <th>8765</th>\n",
       "      <td>9</td>\n",
       "      <td>23</td>\n",
       "      <td>107</td>\n",
       "      <td>{Jim, Angela}</td>\n",
       "      <td>Jim</td>\n",
       "      <td>Angela</td>\n",
       "    </tr>\n",
       "    <tr>\n",
       "      <th>8765</th>\n",
       "      <td>9</td>\n",
       "      <td>23</td>\n",
       "      <td>107</td>\n",
       "      <td>{Angela, Creed}</td>\n",
       "      <td>Angela</td>\n",
       "      <td>Creed</td>\n",
       "    </tr>\n",
       "    <tr>\n",
       "      <th>8766</th>\n",
       "      <td>9</td>\n",
       "      <td>23</td>\n",
       "      <td>108</td>\n",
       "      <td>{Kevin, Oscar}</td>\n",
       "      <td>Kevin</td>\n",
       "      <td>Oscar</td>\n",
       "    </tr>\n",
       "  </tbody>\n",
       "</table>\n",
       "<p>21688 rows × 6 columns</p>\n",
       "</div>"
      ],
      "text/plain": [
       "      season  episode  scene speaker_combinations speaker1 speaker2\n",
       "0          1        1      1       {Jim, Michael}      Jim  Michael\n",
       "2          1        1      3       {Michael, Pam}  Michael      Pam\n",
       "6          1        1      7       {Jim, Michael}      Jim  Michael\n",
       "6          1        1      7    {Dwight, Michael}   Dwight  Michael\n",
       "6          1        1      7        {Jim, Dwight}      Jim   Dwight\n",
       "...      ...      ...    ...                  ...      ...      ...\n",
       "8765       9       23    107    {Phyllis, Angela}  Phyllis   Angela\n",
       "8765       9       23    107         {Jim, Creed}      Jim    Creed\n",
       "8765       9       23    107        {Jim, Angela}      Jim   Angela\n",
       "8765       9       23    107      {Angela, Creed}   Angela    Creed\n",
       "8766       9       23    108       {Kevin, Oscar}    Kevin    Oscar\n",
       "\n",
       "[21688 rows x 6 columns]"
      ]
     },
     "execution_count": 57,
     "metadata": {},
     "output_type": "execute_result"
    }
   ],
   "source": [
    "pdf['speaker1'] = pdf['speaker_combinations'].apply(lambda x: list(x)[0])\n",
    "pdf['speaker2'] = pdf['speaker_combinations'].apply(lambda x: list(x)[1])\n",
    "pdf"
   ]
  },
  {
   "cell_type": "code",
   "execution_count": 58,
   "metadata": {
    "ExecuteTime": {
     "end_time": "2021-04-26T12:31:02.065802Z",
     "start_time": "2021-04-26T12:31:01.586227Z"
    }
   },
   "outputs": [
    {
     "data": {
      "text/html": [
       "<div>\n",
       "<style scoped>\n",
       "    .dataframe tbody tr th:only-of-type {\n",
       "        vertical-align: middle;\n",
       "    }\n",
       "\n",
       "    .dataframe tbody tr th {\n",
       "        vertical-align: top;\n",
       "    }\n",
       "\n",
       "    .dataframe thead th {\n",
       "        text-align: right;\n",
       "    }\n",
       "</style>\n",
       "<table border=\"1\" class=\"dataframe\">\n",
       "  <thead>\n",
       "    <tr style=\"text-align: right;\">\n",
       "      <th></th>\n",
       "      <th>season</th>\n",
       "      <th>episode</th>\n",
       "      <th>scene</th>\n",
       "      <th>speaker_combinations</th>\n",
       "      <th>speaker1</th>\n",
       "      <th>speaker2</th>\n",
       "      <th>speaker_pair</th>\n",
       "    </tr>\n",
       "  </thead>\n",
       "  <tbody>\n",
       "    <tr>\n",
       "      <th>0</th>\n",
       "      <td>1</td>\n",
       "      <td>1</td>\n",
       "      <td>1</td>\n",
       "      <td>{Jim, Michael}</td>\n",
       "      <td>Jim</td>\n",
       "      <td>Michael</td>\n",
       "      <td>{Jim, Michael}</td>\n",
       "    </tr>\n",
       "    <tr>\n",
       "      <th>2</th>\n",
       "      <td>1</td>\n",
       "      <td>1</td>\n",
       "      <td>3</td>\n",
       "      <td>{Michael, Pam}</td>\n",
       "      <td>Michael</td>\n",
       "      <td>Pam</td>\n",
       "      <td>{Michael, Pam}</td>\n",
       "    </tr>\n",
       "    <tr>\n",
       "      <th>6</th>\n",
       "      <td>1</td>\n",
       "      <td>1</td>\n",
       "      <td>7</td>\n",
       "      <td>{Jim, Michael}</td>\n",
       "      <td>Jim</td>\n",
       "      <td>Michael</td>\n",
       "      <td>{Jim, Michael}</td>\n",
       "    </tr>\n",
       "    <tr>\n",
       "      <th>6</th>\n",
       "      <td>1</td>\n",
       "      <td>1</td>\n",
       "      <td>7</td>\n",
       "      <td>{Dwight, Michael}</td>\n",
       "      <td>Dwight</td>\n",
       "      <td>Michael</td>\n",
       "      <td>{Dwight, Michael}</td>\n",
       "    </tr>\n",
       "    <tr>\n",
       "      <th>6</th>\n",
       "      <td>1</td>\n",
       "      <td>1</td>\n",
       "      <td>7</td>\n",
       "      <td>{Jim, Dwight}</td>\n",
       "      <td>Jim</td>\n",
       "      <td>Dwight</td>\n",
       "      <td>{Jim, Dwight}</td>\n",
       "    </tr>\n",
       "    <tr>\n",
       "      <th>...</th>\n",
       "      <td>...</td>\n",
       "      <td>...</td>\n",
       "      <td>...</td>\n",
       "      <td>...</td>\n",
       "      <td>...</td>\n",
       "      <td>...</td>\n",
       "      <td>...</td>\n",
       "    </tr>\n",
       "    <tr>\n",
       "      <th>8765</th>\n",
       "      <td>9</td>\n",
       "      <td>23</td>\n",
       "      <td>107</td>\n",
       "      <td>{Phyllis, Angela}</td>\n",
       "      <td>Phyllis</td>\n",
       "      <td>Angela</td>\n",
       "      <td>{Phyllis, Angela}</td>\n",
       "    </tr>\n",
       "    <tr>\n",
       "      <th>8765</th>\n",
       "      <td>9</td>\n",
       "      <td>23</td>\n",
       "      <td>107</td>\n",
       "      <td>{Jim, Creed}</td>\n",
       "      <td>Jim</td>\n",
       "      <td>Creed</td>\n",
       "      <td>{Jim, Creed}</td>\n",
       "    </tr>\n",
       "    <tr>\n",
       "      <th>8765</th>\n",
       "      <td>9</td>\n",
       "      <td>23</td>\n",
       "      <td>107</td>\n",
       "      <td>{Jim, Angela}</td>\n",
       "      <td>Jim</td>\n",
       "      <td>Angela</td>\n",
       "      <td>{Jim, Angela}</td>\n",
       "    </tr>\n",
       "    <tr>\n",
       "      <th>8765</th>\n",
       "      <td>9</td>\n",
       "      <td>23</td>\n",
       "      <td>107</td>\n",
       "      <td>{Angela, Creed}</td>\n",
       "      <td>Angela</td>\n",
       "      <td>Creed</td>\n",
       "      <td>{Angela, Creed}</td>\n",
       "    </tr>\n",
       "    <tr>\n",
       "      <th>8766</th>\n",
       "      <td>9</td>\n",
       "      <td>23</td>\n",
       "      <td>108</td>\n",
       "      <td>{Kevin, Oscar}</td>\n",
       "      <td>Kevin</td>\n",
       "      <td>Oscar</td>\n",
       "      <td>{Kevin, Oscar}</td>\n",
       "    </tr>\n",
       "  </tbody>\n",
       "</table>\n",
       "<p>21688 rows × 7 columns</p>\n",
       "</div>"
      ],
      "text/plain": [
       "      season  episode  scene speaker_combinations speaker1 speaker2  \\\n",
       "0          1        1      1       {Jim, Michael}      Jim  Michael   \n",
       "2          1        1      3       {Michael, Pam}  Michael      Pam   \n",
       "6          1        1      7       {Jim, Michael}      Jim  Michael   \n",
       "6          1        1      7    {Dwight, Michael}   Dwight  Michael   \n",
       "6          1        1      7        {Jim, Dwight}      Jim   Dwight   \n",
       "...      ...      ...    ...                  ...      ...      ...   \n",
       "8765       9       23    107    {Phyllis, Angela}  Phyllis   Angela   \n",
       "8765       9       23    107         {Jim, Creed}      Jim    Creed   \n",
       "8765       9       23    107        {Jim, Angela}      Jim   Angela   \n",
       "8765       9       23    107      {Angela, Creed}   Angela    Creed   \n",
       "8766       9       23    108       {Kevin, Oscar}    Kevin    Oscar   \n",
       "\n",
       "           speaker_pair  \n",
       "0        {Jim, Michael}  \n",
       "2        {Michael, Pam}  \n",
       "6        {Jim, Michael}  \n",
       "6     {Dwight, Michael}  \n",
       "6         {Jim, Dwight}  \n",
       "...                 ...  \n",
       "8765  {Phyllis, Angela}  \n",
       "8765       {Jim, Creed}  \n",
       "8765      {Jim, Angela}  \n",
       "8765    {Angela, Creed}  \n",
       "8766     {Kevin, Oscar}  \n",
       "\n",
       "[21688 rows x 7 columns]"
      ]
     },
     "execution_count": 58,
     "metadata": {},
     "output_type": "execute_result"
    }
   ],
   "source": [
    "pdf['speaker_pair'] = pdf.apply(lambda x: {x['speaker1'],x['speaker2']}, axis=1)\n",
    "pdf"
   ]
  },
  {
   "cell_type": "markdown",
   "metadata": {},
   "source": [
    "Now we have a table with each speaker combination per scene. This will be used to construct the sitcom network."
   ]
  },
  {
   "cell_type": "code",
   "execution_count": 40,
   "metadata": {
    "ExecuteTime": {
     "end_time": "2021-04-26T12:27:44.002436Z",
     "start_time": "2021-04-26T12:27:43.880671Z"
    }
   },
   "outputs": [],
   "source": [
    "#save speakers\n",
    "pdf = pdf.drop(columns='speaker_combinations')\n",
    "pdf.to_csv(\"data/the_office_speaker_combinations.csv\", index=False)"
   ]
  },
  {
   "cell_type": "markdown",
   "metadata": {},
   "source": [
    ">Q: Which 2 characters were most often found speaking together in a scene?"
   ]
  },
  {
   "cell_type": "code",
   "execution_count": 41,
   "metadata": {
    "ExecuteTime": {
     "end_time": "2021-04-26T12:28:48.261320Z",
     "start_time": "2021-04-26T12:28:48.241707Z"
    }
   },
   "outputs": [
    {
     "data": {
      "text/plain": [
       "speaker1  speaker2\n",
       "Jim       Pam         800\n",
       "Dwight    Michael     717\n",
       "Jim       Dwight      680\n",
       "Michael   Pam         533\n",
       "Jim       Michael     501\n",
       "                     ... \n",
       "Helene    Creed         1\n",
       "Hank      Toby          1\n",
       "          Meredith      1\n",
       "          Holly         1\n",
       "Val       Toby          1\n",
       "Length: 627, dtype: int64"
      ]
     },
     "execution_count": 41,
     "metadata": {},
     "output_type": "execute_result"
    }
   ],
   "source": [
    "pdf.groupby(['speaker1','speaker2']).size().sort_values(ascending=False)"
   ]
  },
  {
   "cell_type": "markdown",
   "metadata": {},
   "source": [
    "### For intermediate students:\n",
    ">Q: Which season has the largest average number of speaker combination pairs per episode?\n",
    "\n",
    "### For advanced students:\n",
    ">Q: Which character spoke the most *words* throughout the entire series?"
   ]
  },
  {
   "cell_type": "code",
   "execution_count": null,
   "metadata": {},
   "outputs": [],
   "source": []
  }
 ],
 "metadata": {
  "kernelspec": {
   "display_name": "Python 3",
   "language": "python",
   "name": "python3"
  },
  "language_info": {
   "codemirror_mode": {
    "name": "ipython",
    "version": 3
   },
   "file_extension": ".py",
   "mimetype": "text/x-python",
   "name": "python",
   "nbconvert_exporter": "python",
   "pygments_lexer": "ipython3",
   "version": "3.8.5"
  }
 },
 "nbformat": 4,
 "nbformat_minor": 4
}
