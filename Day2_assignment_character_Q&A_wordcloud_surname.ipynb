{
 "cells": [
  {
   "cell_type": "markdown",
   "metadata": {
    "ExecuteTime": {
     "end_time": "2021-03-13T16:32:27.337597Z",
     "start_time": "2021-03-13T16:32:27.333164Z"
    }
   },
   "source": [
    "## Day 2: Assignment"
   ]
  },
  {
   "cell_type": "markdown",
   "metadata": {},
   "source": [
    "Data Q&A and wordcloud for your chosen sitcom character"
   ]
  },
  {
   "cell_type": "markdown",
   "metadata": {},
   "source": [
    "**Instructions**\n",
    "1. Run the prefilled cells.\n",
    "2. Answer the data questions labeled \"Q\" by filling the succeeding code cells with python code that we learned in class.\n",
    "3. Answer the data insight questions labeled \">Q\" y filling the succeeding markdown cells with a few sentences about the insight you got from the code results.\n",
    "4. Edit the notebook name with your surname in the \"<>\" and submit this in our LMS at the agreed deadline.\n",
    "    "
   ]
  },
  {
   "cell_type": "code",
   "execution_count": null,
   "metadata": {
    "ExecuteTime": {
     "end_time": "2021-03-16T15:44:03.098509Z",
     "start_time": "2021-03-16T15:43:58.147062Z"
    }
   },
   "outputs": [],
   "source": [
    "import numpy as np\n",
    "import pandas as pd\n",
    "\n",
    "import nltk\n",
    "from nltk.corpus import stopwords \n",
    "from nltk.tokenize import word_tokenize \n",
    "\n",
    "import re \n",
    "\n",
    "import matplotlib.pyplot as plt\n",
    "%matplotlib inline"
   ]
  },
  {
   "cell_type": "markdown",
   "metadata": {},
   "source": [
    "#### Read datasets"
   ]
  },
  {
   "cell_type": "code",
   "execution_count": null,
   "metadata": {
    "ExecuteTime": {
     "end_time": "2021-03-16T15:44:03.340648Z",
     "start_time": "2021-03-16T15:44:03.100910Z"
    }
   },
   "outputs": [],
   "source": [
    "lines_df = pd.read_csv(\"data/<your_sitcom>_lines.csv\",encoding='utf8')\n",
    "lines_df.head()"
   ]
  },
  {
   "cell_type": "code",
   "execution_count": null,
   "metadata": {
    "ExecuteTime": {
     "end_time": "2021-03-16T15:44:03.396561Z",
     "start_time": "2021-03-16T15:44:03.345627Z"
    }
   },
   "outputs": [],
   "source": [
    "co_df = pd.read_csv(\"data/<your_sitcom>_speaker_combinations.csv\")\n",
    "co_df.head(10)"
   ]
  },
  {
   "cell_type": "code",
   "execution_count": null,
   "metadata": {},
   "outputs": [],
   "source": [
    "#############################################\n",
    "#input character name here\n",
    "#make sure spelling and case matches what is found in the dataset\n",
    "this_character = \"YOUR CHARACTER NAME HERE\""
   ]
  },
  {
   "cell_type": "markdown",
   "metadata": {},
   "source": [
    "#### Questions"
   ]
  },
  {
   "cell_type": "markdown",
   "metadata": {},
   "source": [
    "Q1: How many lines did your chosen character speak per season?"
   ]
  },
  {
   "cell_type": "code",
   "execution_count": null,
   "metadata": {
    "ExecuteTime": {
     "end_time": "2021-03-16T16:15:22.265342Z",
     "start_time": "2021-03-16T16:15:22.261666Z"
    }
   },
   "outputs": [],
   "source": [
    "#your code here\n",
    "#hint: use lines_df and groupby"
   ]
  },
  {
   "cell_type": "markdown",
   "metadata": {},
   "source": [
    ">Q1a: Which season did your chosen character speak the most/the least? Why is this the case? Is this consistent with what you remember when you were watching the series? "
   ]
  },
  {
   "cell_type": "markdown",
   "metadata": {},
   "source": [
    "#Q1a answer here"
   ]
  },
  {
   "cell_type": "markdown",
   "metadata": {},
   "source": [
    "Q2: Which 5 characters did your chosen character most often appear with throughout the whole sitcom?"
   ]
  },
  {
   "cell_type": "code",
   "execution_count": null,
   "metadata": {
    "ExecuteTime": {
     "end_time": "2021-03-16T16:12:32.044477Z",
     "start_time": "2021-03-16T16:12:32.041393Z"
    }
   },
   "outputs": [],
   "source": [
    "#your code here\n",
    "#hint1: use co_df and groupby\n",
    "#hint2: you may want to do a filter for both the 'speaker1' and 'speaker2' \n",
    "#       columns before the groupby"
   ]
  },
  {
   "cell_type": "markdown",
   "metadata": {},
   "source": [
    ">Q2a: Why were these characters appearing most often with your chosen character? Is this consistent with what you remember when you were watching the series? "
   ]
  },
  {
   "cell_type": "markdown",
   "metadata": {},
   "source": [
    "#Q2a answer here"
   ]
  },
  {
   "cell_type": "markdown",
   "metadata": {},
   "source": [
    "Q3: Following our in-class example, create a wordcloud of your chosen character's lines throughout the whole sitcom."
   ]
  },
  {
   "cell_type": "code",
   "execution_count": null,
   "metadata": {},
   "outputs": [],
   "source": [
    "#your code here"
   ]
  },
  {
   "cell_type": "code",
   "execution_count": null,
   "metadata": {},
   "outputs": [],
   "source": [
    "#your code here"
   ]
  },
  {
   "cell_type": "code",
   "execution_count": null,
   "metadata": {
    "ExecuteTime": {
     "end_time": "2021-03-16T16:18:58.694482Z",
     "start_time": "2021-03-16T16:18:58.691194Z"
    }
   },
   "outputs": [],
   "source": [
    "#your code here. \n",
    "#Before you submit, please make sure the wordcloud plot is plotted inline in this notebook"
   ]
  },
  {
   "cell_type": "markdown",
   "metadata": {},
   "source": [
    ">Q3a: Were the largest (most frequently occuring) words in the wordcloud you plotted consistent with your chosen character's personality? "
   ]
  },
  {
   "cell_type": "code",
   "execution_count": null,
   "metadata": {},
   "outputs": [],
   "source": [
    "#Q3a answer here"
   ]
  },
  {
   "cell_type": "markdown",
   "metadata": {},
   "source": [
    "**Optional:**\n",
    "*For intermediate/advanced coders, and also for beginners who would like a challenge ;D*\n",
    "\n",
    "Using a `for` loop, plot a wordcloud of your chosen character's lines per season. Could the wordclouds you generated reveal something about your chosen characters development throughout the entire sitcom?"
   ]
  },
  {
   "cell_type": "code",
   "execution_count": null,
   "metadata": {
    "ExecuteTime": {
     "end_time": "2021-03-16T16:20:50.226128Z",
     "start_time": "2021-03-16T16:20:50.223230Z"
    }
   },
   "outputs": [],
   "source": [
    "#your code here"
   ]
  },
  {
   "cell_type": "code",
   "execution_count": null,
   "metadata": {},
   "outputs": [],
   "source": [
    "#your code here"
   ]
  }
 ],
 "metadata": {
  "kernelspec": {
   "display_name": "Python 3",
   "language": "python",
   "name": "python3"
  },
  "language_info": {
   "codemirror_mode": {
    "name": "ipython",
    "version": 3
   },
   "file_extension": ".py",
   "mimetype": "text/x-python",
   "name": "python",
   "nbconvert_exporter": "python",
   "pygments_lexer": "ipython3",
   "version": "3.8.5"
  }
 },
 "nbformat": 4,
 "nbformat_minor": 4
}
